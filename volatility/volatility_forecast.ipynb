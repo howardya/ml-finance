{
  "nbformat": 4,
  "nbformat_minor": 0,
  "metadata": {
    "colab": {
      "name": "volatility-forecast.ipynb",
      "provenance": [],
      "collapsed_sections": [],
      "authorship_tag": "ABX9TyOfYx+0Q3bsuJneHRBda518",
      "include_colab_link": true
    },
    "kernelspec": {
      "name": "python3",
      "display_name": "Python 3"
    },
    "language_info": {
      "name": "python"
    }
  },
  "cells": [
    {
      "cell_type": "markdown",
      "metadata": {
        "id": "view-in-github",
        "colab_type": "text"
      },
      "source": [
        "<a href=\"https://colab.research.google.com/github/howardya/ml-finance/blob/main/volatility/volatility_forecast.ipynb\" target=\"_parent\"><img src=\"https://colab.research.google.com/assets/colab-badge.svg\" alt=\"Open In Colab\"/></a>"
      ]
    },
    {
      "cell_type": "markdown",
      "metadata": {
        "id": "bG7MzqW1w_DO"
      },
      "source": [
        "# Summary\n",
        "\n",
        "US Total Equity Market Vol (RMSE)\n",
        "\n",
        "| Method | Weekly (2M) |\n",
        "| --- | --- |\n",
        "| 2M Vol | 0.0286387|\n",
        "| 1M Vol | 0.0277460|\n",
        "|4M Vol|0.0296685|\n",
        "| 2M Halflife | 0.0274711|\n",
        "| 1M Halflife | 0.0272838|\n",
        "|4M Halflife|0.0273250|\n",
        "\n"
      ]
    },
    {
      "cell_type": "markdown",
      "metadata": {
        "id": "Aga31kk98GX_"
      },
      "source": [
        "# Volatility Forecast"
      ]
    },
    {
      "cell_type": "code",
      "metadata": {
        "id": "a0Isf9Bj7-Jt"
      },
      "source": [
        "import pandas as pd\n",
        "import pandas_datareader as pdr\n",
        "import pandas_datareader.data as web\n",
        "import datetime\n",
        "import numpy as np"
      ],
      "execution_count": 1,
      "outputs": []
    },
    {
      "cell_type": "markdown",
      "metadata": {
        "id": "M9D2BYoD9A7s"
      },
      "source": [
        "Print out packages' version"
      ]
    },
    {
      "cell_type": "code",
      "metadata": {
        "colab": {
          "base_uri": "https://localhost:8080/"
        },
        "id": "4L02ORe88J55",
        "outputId": "38e898c3-a624-4263-ae28-b478a0599146"
      },
      "source": [
        "loaded_packages = ['pd', 'pdr', 'np']\n",
        "for pkg in loaded_packages:\n",
        "  exec(f'pkg_version = {pkg}.__version__') # get the package's version to be printed out, stored as pkg_version\n",
        "  print(f'{pkg} version: {pkg_version}')"
      ],
      "execution_count": 2,
      "outputs": [
        {
          "output_type": "stream",
          "name": "stdout",
          "text": [
            "pd version: 1.1.5\n",
            "pdr version: 0.9.0\n",
            "np version: 1.19.5\n"
          ]
        }
      ]
    },
    {
      "cell_type": "markdown",
      "metadata": {
        "id": "sTGXYzft-DLD"
      },
      "source": [
        "# Get Data"
      ]
    },
    {
      "cell_type": "code",
      "metadata": {
        "id": "KKMof4aB8L6H"
      },
      "source": [
        "start_date = '2000-01-01'\n",
        "end_date = '2021-10-01'\n",
        "fred_tickers = [\n",
        "  'WILL5000IND', # https://fred.stlouisfed.org/series/WILL5000IND Wilshire 5000 Total Market Index\n",
        "  # 'NASDAQ100', # https://fred.stlouisfed.org/series/NASDAQ100 \n",
        "  # 'SP500', # https://fred.stlouisfed.org/series/SP500\n",
        "  # 'DGS10', # https://fred.stlouisfed.org/series/DGS10\n",
        "  # 'DGS2', # https://fred.stlouisfed.org/series/DGS2\n",
        "]\n",
        "data = web.DataReader(fred_tickers, 'fred', start = start_date, end=end_date)"
      ],
      "execution_count": 3,
      "outputs": []
    },
    {
      "cell_type": "code",
      "metadata": {
        "colab": {
          "base_uri": "https://localhost:8080/"
        },
        "id": "DmSUR7sN-xG4",
        "outputId": "5f54a316-c0c0-411f-90ec-eb2814e112ef"
      },
      "source": [
        "print(data.info())"
      ],
      "execution_count": 4,
      "outputs": [
        {
          "output_type": "stream",
          "name": "stdout",
          "text": [
            "<class 'pandas.core.frame.DataFrame'>\n",
            "DatetimeIndex: 5675 entries, 2000-01-03 to 2021-10-01\n",
            "Data columns (total 1 columns):\n",
            " #   Column       Non-Null Count  Dtype  \n",
            "---  ------       --------------  -----  \n",
            " 0   WILL5000IND  5474 non-null   float64\n",
            "dtypes: float64(1)\n",
            "memory usage: 88.7 KB\n",
            "None\n"
          ]
        }
      ]
    },
    {
      "cell_type": "code",
      "metadata": {
        "id": "HPrq7eC7DMd1"
      },
      "source": [
        "weekly_data = data.resample('W').last() # get the last weekly trading price, dates are on Sunday\n",
        "weekly_data_returns = np.log1p(weekly_data.pct_change().add_suffix('_Ret')).dropna() # calculate weekly log returns"
      ],
      "execution_count": 5,
      "outputs": []
    },
    {
      "cell_type": "markdown",
      "metadata": {
        "id": "AI5VSr_8-nBK"
      },
      "source": [
        "Metric"
      ]
    },
    {
      "cell_type": "code",
      "metadata": {
        "id": "Skhz26pD-o1o"
      },
      "source": [
        "def calculate_error_rmse(pd1, pd2):\n",
        "  return np.sqrt((pd1.iloc[:,0]-pd2.iloc[:,0]).pow(2).mean())\n"
      ],
      "execution_count": 6,
      "outputs": []
    },
    {
      "cell_type": "markdown",
      "metadata": {
        "id": "5FPy9RlJnNXT"
      },
      "source": [
        "## Calculate Realized Volatility\n",
        "\n",
        "Defined as $\\sum_i x_i^2$ where $x_i$s are the forward weekly returns"
      ]
    },
    {
      "cell_type": "code",
      "metadata": {
        "id": "f618jJRXDN_U"
      },
      "source": [
        "# Calculate the forward realize volatility\n",
        "forward_window = 8 # in weeks\n",
        "\n",
        "realized_volatility = np.log1p(\n",
        "    weekly_data.pct_change().add_suffix('_Ret')\n",
        "  ).dropna().pow(2).rolling(window = forward_window).mean().shift(-forward_window).pow(0.5).add_suffix('_Realized_Vol').dropna()\n",
        "\n",
        "realized_volatility = realized_volatility['2020':]\n",
        "\n",
        "validation_dates = realized_volatility.index"
      ],
      "execution_count": 7,
      "outputs": []
    },
    {
      "cell_type": "markdown",
      "metadata": {
        "id": "dG6kSNNA8Dly"
      },
      "source": [
        "## Method 1: Rolling Vol"
      ]
    },
    {
      "cell_type": "code",
      "metadata": {
        "colab": {
          "base_uri": "https://localhost:8080/"
        },
        "id": "XsnE4QhcDT0f",
        "outputId": "7ed9e2e0-2caa-49f3-bf62-a21cb21dfd19"
      },
      "source": [
        "simple_vol = weekly_data_returns.pow(2).rolling(window=forward_window).mean().pow(0.5).loc[validation_dates]\n",
        "print(f'2M Rolling: {calculate_error_rmse(simple_vol, realized_volatility)}')\n",
        "\n",
        "simple_vol = weekly_data_returns.pow(2).rolling(window=int(0.5*forward_window) ).mean().pow(0.5).loc[validation_dates]\n",
        "print(f'1M Rolling: {calculate_error_rmse(simple_vol, realized_volatility)}')\n",
        "\n",
        "simple_vol = weekly_data_returns.pow(2).rolling(window=2*forward_window).mean().pow(0.5).loc[validation_dates]\n",
        "print(f'4M Rolling: {calculate_error_rmse(simple_vol, realized_volatility)}')"
      ],
      "execution_count": 11,
      "outputs": [
        {
          "output_type": "stream",
          "name": "stdout",
          "text": [
            "2M Rolling: 0.028638700230523076\n",
            "1M Rolling: 0.0277459860661588\n",
            "4M Rolling: 0.02966853807756444\n"
          ]
        }
      ]
    },
    {
      "cell_type": "markdown",
      "metadata": {
        "id": "E8UB7Jn73f2u"
      },
      "source": [
        "## Method 2: Halflife"
      ]
    },
    {
      "cell_type": "code",
      "metadata": {
        "id": "p5hoZMQVMcuV",
        "colab": {
          "base_uri": "https://localhost:8080/"
        },
        "outputId": "d03eca9b-5287-416d-e71f-73a166012a4c"
      },
      "source": [
        "predicted_vol = weekly_data_returns.pow(2).ewm(halflife=forward_window).mean().pow(0.5).loc[validation_dates]\n",
        "print(f'2M Halflife: {calculate_error_rmse(predicted_vol, realized_volatility)}')\n",
        "\n",
        "predicted_vol = weekly_data_returns.pow(2).ewm(halflife=int(0.5*forward_window) ).mean().pow(0.5).loc[validation_dates]\n",
        "print(f'1M Halflife: {calculate_error_rmse(predicted_vol, realized_volatility)}')\n",
        "\n",
        "predicted_vol = weekly_data_returns.pow(2).ewm(halflife=2*forward_window).mean().pow(0.5).loc[validation_dates]\n",
        "print(f'4M Halflife: {calculate_error_rmse(predicted_vol, realized_volatility)}')"
      ],
      "execution_count": 13,
      "outputs": [
        {
          "output_type": "stream",
          "name": "stdout",
          "text": [
            "2M Halflife: 0.027471132223528552\n",
            "1M Halflife: 0.027283839126274276\n",
            "4M Halflife: 0.027324973671621823\n"
          ]
        }
      ]
    },
    {
      "cell_type": "code",
      "metadata": {
        "colab": {
          "base_uri": "https://localhost:8080/",
          "height": 450
        },
        "id": "Bhyy5Nh75Zw8",
        "outputId": "962e5fad-e01b-46c5-9c34-614ba7a5d661"
      },
      "source": [
        "realized_volatility.loc[validation_dates]"
      ],
      "execution_count": 18,
      "outputs": [
        {
          "output_type": "execute_result",
          "data": {
            "text/html": [
              "<div>\n",
              "<style scoped>\n",
              "    .dataframe tbody tr th:only-of-type {\n",
              "        vertical-align: middle;\n",
              "    }\n",
              "\n",
              "    .dataframe tbody tr th {\n",
              "        vertical-align: top;\n",
              "    }\n",
              "\n",
              "    .dataframe thead th {\n",
              "        text-align: right;\n",
              "    }\n",
              "</style>\n",
              "<table border=\"1\" class=\"dataframe\">\n",
              "  <thead>\n",
              "    <tr style=\"text-align: right;\">\n",
              "      <th></th>\n",
              "      <th>WILL5000IND_Ret_Realized_Vol</th>\n",
              "    </tr>\n",
              "    <tr>\n",
              "      <th>DATE</th>\n",
              "      <th></th>\n",
              "    </tr>\n",
              "  </thead>\n",
              "  <tbody>\n",
              "    <tr>\n",
              "      <th>2020-01-05</th>\n",
              "      <td>0.046827</td>\n",
              "    </tr>\n",
              "    <tr>\n",
              "      <th>2020-01-12</th>\n",
              "      <td>0.046731</td>\n",
              "    </tr>\n",
              "    <tr>\n",
              "      <th>2020-01-19</th>\n",
              "      <td>0.058426</td>\n",
              "    </tr>\n",
              "    <tr>\n",
              "      <th>2020-01-26</th>\n",
              "      <td>0.082801</td>\n",
              "    </tr>\n",
              "    <tr>\n",
              "      <th>2020-02-02</th>\n",
              "      <td>0.089962</td>\n",
              "    </tr>\n",
              "    <tr>\n",
              "      <th>...</th>\n",
              "      <td>...</td>\n",
              "    </tr>\n",
              "    <tr>\n",
              "      <th>2021-07-11</th>\n",
              "      <td>0.012605</td>\n",
              "    </tr>\n",
              "    <tr>\n",
              "      <th>2021-07-18</th>\n",
              "      <td>0.013296</td>\n",
              "    </tr>\n",
              "    <tr>\n",
              "      <th>2021-07-25</th>\n",
              "      <td>0.011085</td>\n",
              "    </tr>\n",
              "    <tr>\n",
              "      <th>2021-08-01</th>\n",
              "      <td>0.011152</td>\n",
              "    </tr>\n",
              "    <tr>\n",
              "      <th>2021-08-08</th>\n",
              "      <td>0.012908</td>\n",
              "    </tr>\n",
              "  </tbody>\n",
              "</table>\n",
              "<p>84 rows × 1 columns</p>\n",
              "</div>"
            ],
            "text/plain": [
              "            WILL5000IND_Ret_Realized_Vol\n",
              "DATE                                    \n",
              "2020-01-05                      0.046827\n",
              "2020-01-12                      0.046731\n",
              "2020-01-19                      0.058426\n",
              "2020-01-26                      0.082801\n",
              "2020-02-02                      0.089962\n",
              "...                                  ...\n",
              "2021-07-11                      0.012605\n",
              "2021-07-18                      0.013296\n",
              "2021-07-25                      0.011085\n",
              "2021-08-01                      0.011152\n",
              "2021-08-08                      0.012908\n",
              "\n",
              "[84 rows x 1 columns]"
            ]
          },
          "metadata": {},
          "execution_count": 18
        }
      ]
    },
    {
      "cell_type": "code",
      "metadata": {
        "id": "25rE8kSO5-qe"
      },
      "source": [
        ""
      ],
      "execution_count": null,
      "outputs": []
    }
  ]
}