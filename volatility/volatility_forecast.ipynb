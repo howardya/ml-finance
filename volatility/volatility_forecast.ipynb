{
  "nbformat": 4,
  "nbformat_minor": 0,
  "metadata": {
    "colab": {
      "name": "volatility-forecast.ipynb",
      "provenance": [],
      "collapsed_sections": [],
      "authorship_tag": "ABX9TyN77FG3v72dVEeqX7Uqh7BO",
      "include_colab_link": true
    },
    "kernelspec": {
      "name": "python3",
      "display_name": "Python 3"
    },
    "language_info": {
      "name": "python"
    }
  },
  "cells": [
    {
      "cell_type": "markdown",
      "metadata": {
        "id": "view-in-github",
        "colab_type": "text"
      },
      "source": [
        "<a href=\"https://colab.research.google.com/github/howardya/ml-finance/blob/main/volatility/volatility_forecast.ipynb\" target=\"_parent\"><img src=\"https://colab.research.google.com/assets/colab-badge.svg\" alt=\"Open In Colab\"/></a>"
      ]
    },
    {
      "cell_type": "markdown",
      "metadata": {
        "id": "Aga31kk98GX_"
      },
      "source": [
        "# Volatility Forecast"
      ]
    },
    {
      "cell_type": "code",
      "metadata": {
        "id": "a0Isf9Bj7-Jt"
      },
      "source": [
        "import pandas as pd\n",
        "import pandas_datareader as pdr"
      ],
      "execution_count": 1,
      "outputs": []
    },
    {
      "cell_type": "code",
      "metadata": {
        "colab": {
          "base_uri": "https://localhost:8080/"
        },
        "id": "4L02ORe88J55",
        "outputId": "34020085-d3ce-447e-e79c-8669dede9154"
      },
      "source": [
        "loaded_packages = ['pd', 'pdr']\n",
        "for pkg in loaded_packages:\n",
        "  exec(f'pkg_version = {pkg}.__version__') # get the package's version to be printed out, stored as pkg_version\n",
        "  print(f'{pkg} version: {pkg_version}')"
      ],
      "execution_count": 3,
      "outputs": [
        {
          "output_type": "stream",
          "name": "stdout",
          "text": [
            "pd version: 1.1.5\n",
            "pdr version: 0.9.0\n"
          ]
        }
      ]
    },
    {
      "cell_type": "code",
      "metadata": {
        "id": "KKMof4aB8L6H"
      },
      "source": [
        ""
      ],
      "execution_count": null,
      "outputs": []
    }
  ]
}