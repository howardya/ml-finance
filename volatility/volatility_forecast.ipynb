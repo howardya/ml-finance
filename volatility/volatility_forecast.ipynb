{
  "nbformat": 4,
  "nbformat_minor": 0,
  "metadata": {
    "colab": {
      "name": "volatility-forecast.ipynb",
      "provenance": [],
      "collapsed_sections": [],
      "authorship_tag": "ABX9TyMHDNQiYRo4uQQ4fSbqHF1K",
      "include_colab_link": true
    },
    "kernelspec": {
      "name": "python3",
      "display_name": "Python 3"
    },
    "language_info": {
      "name": "python"
    }
  },
  "cells": [
    {
      "cell_type": "markdown",
      "metadata": {
        "id": "view-in-github",
        "colab_type": "text"
      },
      "source": [
        "<a href=\"https://colab.research.google.com/github/howardya/ml-finance/blob/main/volatility/volatility_forecast.ipynb\" target=\"_parent\"><img src=\"https://colab.research.google.com/assets/colab-badge.svg\" alt=\"Open In Colab\"/></a>"
      ]
    },
    {
      "cell_type": "markdown",
      "metadata": {
        "id": "bG7MzqW1w_DO"
      },
      "source": [
        "# Summary\n",
        "\n",
        "US Total Equity Market Vol (RMSE)\n",
        "\n",
        "| Method | Weekly (2M) |\n",
        "| --- | --- |\n",
        "| 2M Vol | 0.0286387|\n",
        "| 1M Vol | 0.0277460|\n",
        "|4M Vol|0.0296685|\n",
        "| 2M Halflife | 0.0274711|\n",
        "| 1M Halflife | 0.0272838|\n",
        "|4M Halflife|0.0273250|\n",
        "|4M NN-1 Unnormalized|0.0586515|\n",
        "|4M NN-256-128-1 Unnormalized|0.0265297|\n",
        "|4M NN-256-128-1 Unnormalized Relu|0.0272581|\n",
        "|4M NN-1|0.0319316|\n",
        "|4M NN-256-128-1|0.0236697|\n",
        "|4M NN-256-128-1 Relu|0.0234757|\n",
        "|4M NN-256-D20-128-D20-1 Relu|0.0239659|\n"
      ]
    },
    {
      "cell_type": "markdown",
      "metadata": {
        "id": "Aga31kk98GX_"
      },
      "source": [
        "# Volatility Forecast"
      ]
    },
    {
      "cell_type": "code",
      "metadata": {
        "id": "a0Isf9Bj7-Jt"
      },
      "source": [
        "import pandas as pd\n",
        "import pandas_datareader as pdr\n",
        "import pandas_datareader.data as web\n",
        "import datetime\n",
        "import numpy as np\n",
        "import tensorflow as tf\n",
        "import matplotlib.pyplot as plt"
      ],
      "execution_count": 57,
      "outputs": []
    },
    {
      "cell_type": "markdown",
      "metadata": {
        "id": "M9D2BYoD9A7s"
      },
      "source": [
        "Print out packages' version"
      ]
    },
    {
      "cell_type": "code",
      "metadata": {
        "colab": {
          "base_uri": "https://localhost:8080/"
        },
        "id": "4L02ORe88J55",
        "outputId": "26ef1940-c84b-4c8c-a8bd-1593da92d398"
      },
      "source": [
        "loaded_packages = ['pd', 'pdr', 'np','tf']\n",
        "for pkg in loaded_packages:\n",
        "  exec(f'pkg_version = {pkg}.__version__') # get the package's version to be printed out, stored as pkg_version\n",
        "  print(f'{pkg} version: {pkg_version}')"
      ],
      "execution_count": 3,
      "outputs": [
        {
          "output_type": "stream",
          "name": "stdout",
          "text": [
            "pd version: 1.1.5\n",
            "pdr version: 0.9.0\n",
            "np version: 1.19.5\n",
            "tf version: 2.6.0\n"
          ]
        }
      ]
    },
    {
      "cell_type": "markdown",
      "metadata": {
        "id": "sTGXYzft-DLD"
      },
      "source": [
        "# Get Data"
      ]
    },
    {
      "cell_type": "code",
      "metadata": {
        "id": "KKMof4aB8L6H"
      },
      "source": [
        "start_date = '2000-01-01'\n",
        "end_date = '2021-10-01'\n",
        "fred_tickers = [\n",
        "  'WILL5000IND', # https://fred.stlouisfed.org/series/WILL5000IND Wilshire 5000 Total Market Index\n",
        "  # 'NASDAQ100', # https://fred.stlouisfed.org/series/NASDAQ100 \n",
        "  # 'SP500', # https://fred.stlouisfed.org/series/SP500\n",
        "  # 'DGS10', # https://fred.stlouisfed.org/series/DGS10\n",
        "  # 'DGS2', # https://fred.stlouisfed.org/series/DGS2\n",
        "]\n",
        "data = web.DataReader(fred_tickers, 'fred', start = start_date, end=end_date)"
      ],
      "execution_count": 4,
      "outputs": []
    },
    {
      "cell_type": "code",
      "metadata": {
        "colab": {
          "base_uri": "https://localhost:8080/"
        },
        "id": "DmSUR7sN-xG4",
        "outputId": "64db0fa2-91d5-456e-fa5a-2afa672b5369"
      },
      "source": [
        "print(data.info())"
      ],
      "execution_count": 5,
      "outputs": [
        {
          "output_type": "stream",
          "name": "stdout",
          "text": [
            "<class 'pandas.core.frame.DataFrame'>\n",
            "DatetimeIndex: 5675 entries, 2000-01-03 to 2021-10-01\n",
            "Data columns (total 1 columns):\n",
            " #   Column       Non-Null Count  Dtype  \n",
            "---  ------       --------------  -----  \n",
            " 0   WILL5000IND  5474 non-null   float64\n",
            "dtypes: float64(1)\n",
            "memory usage: 88.7 KB\n",
            "None\n"
          ]
        }
      ]
    },
    {
      "cell_type": "code",
      "metadata": {
        "id": "HPrq7eC7DMd1"
      },
      "source": [
        "weekly_data = data.resample('W').last() # get the last weekly trading price, dates are on Sunday\n",
        "weekly_data_returns = np.log1p(weekly_data.pct_change().add_suffix('_Ret')).dropna() # calculate weekly log returns"
      ],
      "execution_count": 6,
      "outputs": []
    },
    {
      "cell_type": "markdown",
      "metadata": {
        "id": "AI5VSr_8-nBK"
      },
      "source": [
        "Metric"
      ]
    },
    {
      "cell_type": "code",
      "metadata": {
        "id": "Skhz26pD-o1o"
      },
      "source": [
        "def calculate_error_rmse(pd1, pd2):\n",
        "  return np.sqrt( ((pd1.iloc[:,0].values-pd2.iloc[:,0].values)**2).mean())\n"
      ],
      "execution_count": 30,
      "outputs": []
    },
    {
      "cell_type": "markdown",
      "metadata": {
        "id": "5FPy9RlJnNXT"
      },
      "source": [
        "## Calculate Realized Volatility\n",
        "\n",
        "Defined as $\\sum_i x_i^2$ where $x_i$s are the forward weekly returns"
      ]
    },
    {
      "cell_type": "code",
      "metadata": {
        "id": "f618jJRXDN_U"
      },
      "source": [
        "# Calculate the forward realize volatility\n",
        "forward_window = 8 # in weeks\n",
        "\n",
        "realized_volatility = np.log1p(\n",
        "    weekly_data.pct_change().add_suffix('_Ret')\n",
        "  ).dropna().pow(2).rolling(window = forward_window, min_periods=forward_window).mean().shift(-forward_window).pow(0.5).add_suffix('_Realized_Vol').dropna()\n",
        "\n",
        "training_volatility = realized_volatility[:'2019']\n",
        "training_dates = training_volatility.index\n",
        "\n",
        "validation_volatility = realized_volatility['2020':]\n",
        "validation_dates = validation_volatility.index\n",
        "\n"
      ],
      "execution_count": 8,
      "outputs": []
    },
    {
      "cell_type": "markdown",
      "metadata": {
        "id": "dG6kSNNA8Dly"
      },
      "source": [
        "## Method 1: Rolling Vol"
      ]
    },
    {
      "cell_type": "code",
      "metadata": {
        "colab": {
          "base_uri": "https://localhost:8080/"
        },
        "id": "XsnE4QhcDT0f",
        "outputId": "c1db2d99-8800-42bb-b035-3b9f1609002a"
      },
      "source": [
        "simple_vol = weekly_data_returns.pow(2).rolling(window=forward_window).mean().pow(0.5).loc[validation_dates]\n",
        "print(f'2M Rolling: {calculate_error_rmse(simple_vol, validation_volatility)}')\n",
        "\n",
        "simple_vol = weekly_data_returns.pow(2).rolling(window=int(0.5*forward_window) ).mean().pow(0.5).loc[validation_dates]\n",
        "print(f'1M Rolling: {calculate_error_rmse(simple_vol, validation_volatility)}')\n",
        "\n",
        "simple_vol = weekly_data_returns.pow(2).rolling(window=2*forward_window).mean().pow(0.5).loc[validation_dates]\n",
        "print(f'4M Rolling: {calculate_error_rmse(simple_vol, validation_volatility)}')"
      ],
      "execution_count": 31,
      "outputs": [
        {
          "output_type": "stream",
          "name": "stdout",
          "text": [
            "2M Rolling: 0.028638700230523072\n",
            "1M Rolling: 0.027745986066158797\n",
            "4M Rolling: 0.02966853807756445\n"
          ]
        }
      ]
    },
    {
      "cell_type": "markdown",
      "metadata": {
        "id": "E8UB7Jn73f2u"
      },
      "source": [
        "## Method 2: Halflife"
      ]
    },
    {
      "cell_type": "code",
      "metadata": {
        "id": "p5hoZMQVMcuV",
        "colab": {
          "base_uri": "https://localhost:8080/"
        },
        "outputId": "46d95095-8886-4d01-d9ec-9be12de35dd1"
      },
      "source": [
        "predicted_vol = weekly_data_returns.pow(2).ewm(halflife=forward_window).mean().pow(0.5).loc[validation_dates]\n",
        "print(f'2M Halflife: {calculate_error_rmse(predicted_vol, validation_volatility)}')\n",
        "\n",
        "predicted_vol = weekly_data_returns.pow(2).ewm(halflife=int(0.5*forward_window) ).mean().pow(0.5).loc[validation_dates]\n",
        "print(f'1M Halflife: {calculate_error_rmse(predicted_vol, validation_volatility)}')\n",
        "\n",
        "predicted_vol = weekly_data_returns.pow(2).ewm(halflife=2*forward_window).mean().pow(0.5).loc[validation_dates]\n",
        "print(f'4M Halflife: {calculate_error_rmse(predicted_vol, validation_volatility)}')"
      ],
      "execution_count": 32,
      "outputs": [
        {
          "output_type": "stream",
          "name": "stdout",
          "text": [
            "2M Halflife: 0.027471132223528552\n",
            "1M Halflife: 0.027283839126274273\n",
            "4M Halflife: 0.027324973671621823\n"
          ]
        }
      ]
    },
    {
      "cell_type": "markdown",
      "metadata": {
        "id": "oIv9S0MW3UmT"
      },
      "source": [
        "Dataset Preparation for Tensorflow"
      ]
    },
    {
      "cell_type": "code",
      "metadata": {
        "id": "a5ZsqTHu3UFN"
      },
      "source": [
        "# def window_dataset_returns(series, window_size, batch_size=32,\n",
        "#                    shuffle_buffer=1000):\n",
        "#     dataset = tf.data.Dataset.from_tensor_slices(series)\n",
        "#     dataset = dataset.window(window_size + 1, shift=1, drop_remainder=True)\n",
        "#     dataset = dataset.flat_map(lambda window: window.batch(window_size + 1))\n",
        "#     dataset = dataset.shuffle(shuffle_buffer)\n",
        "#     dataset = dataset.map(lambda window: (window[:-1], window[-1]))\n",
        "#     dataset = dataset.batch(batch_size).prefetch(1)\n",
        "#     return dataset\n",
        "\n",
        "def window_dataset_x(returns_series, dates, window_size, batch_size=1,shuffle_buffer=1000):\n",
        "  returns_data = returns_series.loc[dates]\n",
        "  dataset_x = tf.data.Dataset.from_tensor_slices(returns_data)\n",
        "  dataset_x = dataset_x.window(window_size, shift=1, drop_remainder=True)\n",
        "  dataset_x = dataset_x.flat_map(lambda window: window.batch(window_size))\n",
        "  dataset = dataset_x.batch(batch_size).prefetch(1)\n",
        "  return dataset\n",
        "\n",
        "def window_dataset_y(target_volatility, window_size, batch_size=1,shuffle_buffer=1000):\n",
        "  dataset_y = tf.data.Dataset.from_tensor_slices(target_volatility[window_size:])\n",
        "  dataset = dataset_y.batch(batch_size).prefetch(1)\n",
        "  return dataset\n",
        "\n",
        "def rolling(a, window):\n",
        "    shape = (a.size - window + 1, window)\n",
        "    strides = (a.itemsize, a.itemsize)\n",
        "    return np.lib.stride_tricks.as_strided(a, shape=shape, strides=strides)\n"
      ],
      "execution_count": 11,
      "outputs": []
    },
    {
      "cell_type": "markdown",
      "metadata": {
        "id": "cuoJuNmh4dzN"
      },
      "source": [
        "## Method 3: Linear Regression (Without Normalization)"
      ]
    },
    {
      "cell_type": "code",
      "metadata": {
        "id": "Bhyy5Nh75Zw8"
      },
      "source": [
        "window_size = forward_window\n",
        "batch_size = 32\n",
        "shuffle_buffer=1000\n",
        "\n",
        "train_x = rolling(weekly_data_returns.WILL5000IND_Ret[training_dates].values, window_size)\n",
        "train_y = training_volatility.WILL5000IND_Ret_Realized_Vol.values[window_size-1:][:,None]\n",
        "train_data = np.hstack((train_x,train_y))\n",
        "\n",
        "validation_x = rolling(weekly_data_returns[weekly_data_returns.index <= validation_dates[-1]].WILL5000IND_Ret.values, window_size)[-len(validation_dates):]\n",
        "validation_y = validation_volatility.WILL5000IND_Ret_Realized_Vol.values[:,None]\n",
        "validation_data = np.hstack((validation_x,validation_y))\n",
        "\n",
        "\n",
        "train_dataset = tf.data.Dataset.from_tensor_slices(train_data)\n",
        "train_dataset = train_dataset.shuffle(shuffle_buffer)\n",
        "train_dataset = train_dataset.map(lambda window: (window[:-1], window[-1]))\n",
        "train_dataset = train_dataset.batch(batch_size).prefetch(1)\n",
        "\n",
        "validation_dataset = tf.data.Dataset.from_tensor_slices(validation_data)\n",
        "validation_dataset = validation_dataset.map(lambda window: (window[:-1], window[-1]))\n",
        "validation_dataset = validation_dataset.batch(batch_size).prefetch(1)\n"
      ],
      "execution_count": 12,
      "outputs": []
    },
    {
      "cell_type": "code",
      "metadata": {
        "id": "25rE8kSO5-qe",
        "colab": {
          "base_uri": "https://localhost:8080/"
        },
        "outputId": "d5150c46-e764-4b30-a233-9973bb515984"
      },
      "source": [
        "model = tf.keras.models.Sequential([\n",
        "  tf.keras.layers.Dense(1,input_shape=[window_size])\n",
        "])\n",
        "optimizer = tf.keras.optimizers.SGD(lr=1e-5, momentum=0.9)\n",
        "model.compile(loss=tf.keras.losses.MeanSquaredError(),\n",
        "              optimizer=optimizer,\n",
        "              metrics=[\"mse\"])\n",
        "model.fit(train_dataset, epochs=100, validation_data=validation_dataset)"
      ],
      "execution_count": 37,
      "outputs": [
        {
          "output_type": "stream",
          "name": "stderr",
          "text": [
            "/usr/local/lib/python3.7/dist-packages/keras/optimizer_v2/optimizer_v2.py:356: UserWarning: The `lr` argument is deprecated, use `learning_rate` instead.\n",
            "  \"The `lr` argument is deprecated, use `learning_rate` instead.\")\n"
          ]
        },
        {
          "output_type": "stream",
          "name": "stdout",
          "text": [
            "Epoch 1/100\n",
            "33/33 [==============================] - 0s 5ms/step - loss: 0.0015 - mse: 0.0015 - val_loss: 0.0043 - val_mse: 0.0043\n",
            "Epoch 2/100\n",
            "33/33 [==============================] - 0s 3ms/step - loss: 0.0015 - mse: 0.0015 - val_loss: 0.0042 - val_mse: 0.0042\n",
            "Epoch 3/100\n",
            "33/33 [==============================] - 0s 2ms/step - loss: 0.0015 - mse: 0.0015 - val_loss: 0.0042 - val_mse: 0.0042\n",
            "Epoch 4/100\n",
            "33/33 [==============================] - 0s 3ms/step - loss: 0.0015 - mse: 0.0015 - val_loss: 0.0042 - val_mse: 0.0042\n",
            "Epoch 5/100\n",
            "33/33 [==============================] - 0s 3ms/step - loss: 0.0015 - mse: 0.0015 - val_loss: 0.0042 - val_mse: 0.0042\n",
            "Epoch 6/100\n",
            "33/33 [==============================] - 0s 2ms/step - loss: 0.0015 - mse: 0.0015 - val_loss: 0.0042 - val_mse: 0.0042\n",
            "Epoch 7/100\n",
            "33/33 [==============================] - 0s 3ms/step - loss: 0.0015 - mse: 0.0015 - val_loss: 0.0042 - val_mse: 0.0042\n",
            "Epoch 8/100\n",
            "33/33 [==============================] - 0s 3ms/step - loss: 0.0015 - mse: 0.0015 - val_loss: 0.0042 - val_mse: 0.0042\n",
            "Epoch 9/100\n",
            "33/33 [==============================] - 0s 3ms/step - loss: 0.0014 - mse: 0.0014 - val_loss: 0.0042 - val_mse: 0.0042\n",
            "Epoch 10/100\n",
            "33/33 [==============================] - 0s 3ms/step - loss: 0.0014 - mse: 0.0014 - val_loss: 0.0041 - val_mse: 0.0041\n",
            "Epoch 11/100\n",
            "33/33 [==============================] - 0s 3ms/step - loss: 0.0014 - mse: 0.0014 - val_loss: 0.0041 - val_mse: 0.0041\n",
            "Epoch 12/100\n",
            "33/33 [==============================] - 0s 3ms/step - loss: 0.0014 - mse: 0.0014 - val_loss: 0.0041 - val_mse: 0.0041\n",
            "Epoch 13/100\n",
            "33/33 [==============================] - 0s 3ms/step - loss: 0.0014 - mse: 0.0014 - val_loss: 0.0041 - val_mse: 0.0041\n",
            "Epoch 14/100\n",
            "33/33 [==============================] - 0s 3ms/step - loss: 0.0014 - mse: 0.0014 - val_loss: 0.0041 - val_mse: 0.0041\n",
            "Epoch 15/100\n",
            "33/33 [==============================] - 0s 3ms/step - loss: 0.0014 - mse: 0.0014 - val_loss: 0.0041 - val_mse: 0.0041\n",
            "Epoch 16/100\n",
            "33/33 [==============================] - 0s 2ms/step - loss: 0.0014 - mse: 0.0014 - val_loss: 0.0041 - val_mse: 0.0041\n",
            "Epoch 17/100\n",
            "33/33 [==============================] - 0s 3ms/step - loss: 0.0014 - mse: 0.0014 - val_loss: 0.0041 - val_mse: 0.0041\n",
            "Epoch 18/100\n",
            "33/33 [==============================] - 0s 3ms/step - loss: 0.0014 - mse: 0.0014 - val_loss: 0.0041 - val_mse: 0.0041\n",
            "Epoch 19/100\n",
            "33/33 [==============================] - 0s 3ms/step - loss: 0.0014 - mse: 0.0014 - val_loss: 0.0040 - val_mse: 0.0040\n",
            "Epoch 20/100\n",
            "33/33 [==============================] - 0s 2ms/step - loss: 0.0014 - mse: 0.0014 - val_loss: 0.0040 - val_mse: 0.0040\n",
            "Epoch 21/100\n",
            "33/33 [==============================] - 0s 3ms/step - loss: 0.0014 - mse: 0.0014 - val_loss: 0.0040 - val_mse: 0.0040\n",
            "Epoch 22/100\n",
            "33/33 [==============================] - 0s 3ms/step - loss: 0.0014 - mse: 0.0014 - val_loss: 0.0040 - val_mse: 0.0040\n",
            "Epoch 23/100\n",
            "33/33 [==============================] - 0s 3ms/step - loss: 0.0014 - mse: 0.0014 - val_loss: 0.0040 - val_mse: 0.0040\n",
            "Epoch 24/100\n",
            "33/33 [==============================] - 0s 3ms/step - loss: 0.0014 - mse: 0.0014 - val_loss: 0.0040 - val_mse: 0.0040\n",
            "Epoch 25/100\n",
            "33/33 [==============================] - 0s 3ms/step - loss: 0.0014 - mse: 0.0014 - val_loss: 0.0040 - val_mse: 0.0040\n",
            "Epoch 26/100\n",
            "33/33 [==============================] - 0s 3ms/step - loss: 0.0013 - mse: 0.0013 - val_loss: 0.0040 - val_mse: 0.0040\n",
            "Epoch 27/100\n",
            "33/33 [==============================] - 0s 3ms/step - loss: 0.0013 - mse: 0.0013 - val_loss: 0.0040 - val_mse: 0.0040\n",
            "Epoch 28/100\n",
            "33/33 [==============================] - 0s 3ms/step - loss: 0.0013 - mse: 0.0013 - val_loss: 0.0039 - val_mse: 0.0039\n",
            "Epoch 29/100\n",
            "33/33 [==============================] - 0s 2ms/step - loss: 0.0013 - mse: 0.0013 - val_loss: 0.0039 - val_mse: 0.0039\n",
            "Epoch 30/100\n",
            "33/33 [==============================] - 0s 3ms/step - loss: 0.0013 - mse: 0.0013 - val_loss: 0.0039 - val_mse: 0.0039\n",
            "Epoch 31/100\n",
            "33/33 [==============================] - 0s 2ms/step - loss: 0.0013 - mse: 0.0013 - val_loss: 0.0039 - val_mse: 0.0039\n",
            "Epoch 32/100\n",
            "33/33 [==============================] - 0s 3ms/step - loss: 0.0013 - mse: 0.0013 - val_loss: 0.0039 - val_mse: 0.0039\n",
            "Epoch 33/100\n",
            "33/33 [==============================] - 0s 3ms/step - loss: 0.0013 - mse: 0.0013 - val_loss: 0.0039 - val_mse: 0.0039\n",
            "Epoch 34/100\n",
            "33/33 [==============================] - 0s 2ms/step - loss: 0.0013 - mse: 0.0013 - val_loss: 0.0039 - val_mse: 0.0039\n",
            "Epoch 35/100\n",
            "33/33 [==============================] - 0s 3ms/step - loss: 0.0013 - mse: 0.0013 - val_loss: 0.0039 - val_mse: 0.0039\n",
            "Epoch 36/100\n",
            "33/33 [==============================] - 0s 3ms/step - loss: 0.0013 - mse: 0.0013 - val_loss: 0.0039 - val_mse: 0.0039\n",
            "Epoch 37/100\n",
            "33/33 [==============================] - 0s 3ms/step - loss: 0.0013 - mse: 0.0013 - val_loss: 0.0039 - val_mse: 0.0039\n",
            "Epoch 38/100\n",
            "33/33 [==============================] - 0s 3ms/step - loss: 0.0013 - mse: 0.0013 - val_loss: 0.0039 - val_mse: 0.0039\n",
            "Epoch 39/100\n",
            "33/33 [==============================] - 0s 2ms/step - loss: 0.0013 - mse: 0.0013 - val_loss: 0.0038 - val_mse: 0.0038\n",
            "Epoch 40/100\n",
            "33/33 [==============================] - 0s 2ms/step - loss: 0.0013 - mse: 0.0013 - val_loss: 0.0038 - val_mse: 0.0038\n",
            "Epoch 41/100\n",
            "33/33 [==============================] - 0s 2ms/step - loss: 0.0013 - mse: 0.0013 - val_loss: 0.0038 - val_mse: 0.0038\n",
            "Epoch 42/100\n",
            "33/33 [==============================] - 0s 3ms/step - loss: 0.0013 - mse: 0.0013 - val_loss: 0.0038 - val_mse: 0.0038\n",
            "Epoch 43/100\n",
            "33/33 [==============================] - 0s 3ms/step - loss: 0.0013 - mse: 0.0013 - val_loss: 0.0038 - val_mse: 0.0038\n",
            "Epoch 44/100\n",
            "33/33 [==============================] - 0s 3ms/step - loss: 0.0013 - mse: 0.0013 - val_loss: 0.0038 - val_mse: 0.0038\n",
            "Epoch 45/100\n",
            "33/33 [==============================] - 0s 2ms/step - loss: 0.0013 - mse: 0.0013 - val_loss: 0.0038 - val_mse: 0.0038\n",
            "Epoch 46/100\n",
            "33/33 [==============================] - 0s 2ms/step - loss: 0.0012 - mse: 0.0012 - val_loss: 0.0038 - val_mse: 0.0038\n",
            "Epoch 47/100\n",
            "33/33 [==============================] - 0s 3ms/step - loss: 0.0012 - mse: 0.0012 - val_loss: 0.0038 - val_mse: 0.0038\n",
            "Epoch 48/100\n",
            "33/33 [==============================] - 0s 3ms/step - loss: 0.0012 - mse: 0.0012 - val_loss: 0.0038 - val_mse: 0.0038\n",
            "Epoch 49/100\n",
            "33/33 [==============================] - 0s 2ms/step - loss: 0.0012 - mse: 0.0012 - val_loss: 0.0038 - val_mse: 0.0038\n",
            "Epoch 50/100\n",
            "33/33 [==============================] - 0s 2ms/step - loss: 0.0012 - mse: 0.0012 - val_loss: 0.0038 - val_mse: 0.0038\n",
            "Epoch 51/100\n",
            "33/33 [==============================] - 0s 3ms/step - loss: 0.0012 - mse: 0.0012 - val_loss: 0.0037 - val_mse: 0.0037\n",
            "Epoch 52/100\n",
            "33/33 [==============================] - 0s 2ms/step - loss: 0.0012 - mse: 0.0012 - val_loss: 0.0037 - val_mse: 0.0037\n",
            "Epoch 53/100\n",
            "33/33 [==============================] - 0s 2ms/step - loss: 0.0012 - mse: 0.0012 - val_loss: 0.0037 - val_mse: 0.0037\n",
            "Epoch 54/100\n",
            "33/33 [==============================] - 0s 2ms/step - loss: 0.0012 - mse: 0.0012 - val_loss: 0.0037 - val_mse: 0.0037\n",
            "Epoch 55/100\n",
            "33/33 [==============================] - 0s 3ms/step - loss: 0.0012 - mse: 0.0012 - val_loss: 0.0037 - val_mse: 0.0037\n",
            "Epoch 56/100\n",
            "33/33 [==============================] - 0s 2ms/step - loss: 0.0012 - mse: 0.0012 - val_loss: 0.0037 - val_mse: 0.0037\n",
            "Epoch 57/100\n",
            "33/33 [==============================] - 0s 2ms/step - loss: 0.0012 - mse: 0.0012 - val_loss: 0.0037 - val_mse: 0.0037\n",
            "Epoch 58/100\n",
            "33/33 [==============================] - 0s 2ms/step - loss: 0.0012 - mse: 0.0012 - val_loss: 0.0037 - val_mse: 0.0037\n",
            "Epoch 59/100\n",
            "33/33 [==============================] - 0s 3ms/step - loss: 0.0012 - mse: 0.0012 - val_loss: 0.0037 - val_mse: 0.0037\n",
            "Epoch 60/100\n",
            "33/33 [==============================] - 0s 3ms/step - loss: 0.0012 - mse: 0.0012 - val_loss: 0.0037 - val_mse: 0.0037\n",
            "Epoch 61/100\n",
            "33/33 [==============================] - 0s 3ms/step - loss: 0.0012 - mse: 0.0012 - val_loss: 0.0037 - val_mse: 0.0037\n",
            "Epoch 62/100\n",
            "33/33 [==============================] - 0s 2ms/step - loss: 0.0012 - mse: 0.0012 - val_loss: 0.0037 - val_mse: 0.0037\n",
            "Epoch 63/100\n",
            "33/33 [==============================] - 0s 3ms/step - loss: 0.0012 - mse: 0.0012 - val_loss: 0.0037 - val_mse: 0.0037\n",
            "Epoch 64/100\n",
            "33/33 [==============================] - 0s 3ms/step - loss: 0.0012 - mse: 0.0012 - val_loss: 0.0037 - val_mse: 0.0037\n",
            "Epoch 65/100\n",
            "33/33 [==============================] - 0s 2ms/step - loss: 0.0012 - mse: 0.0012 - val_loss: 0.0036 - val_mse: 0.0036\n",
            "Epoch 66/100\n",
            "33/33 [==============================] - 0s 2ms/step - loss: 0.0012 - mse: 0.0012 - val_loss: 0.0036 - val_mse: 0.0036\n",
            "Epoch 67/100\n",
            "33/33 [==============================] - 0s 3ms/step - loss: 0.0012 - mse: 0.0012 - val_loss: 0.0036 - val_mse: 0.0036\n",
            "Epoch 68/100\n",
            "33/33 [==============================] - 0s 2ms/step - loss: 0.0012 - mse: 0.0012 - val_loss: 0.0036 - val_mse: 0.0036\n",
            "Epoch 69/100\n",
            "33/33 [==============================] - 0s 2ms/step - loss: 0.0012 - mse: 0.0012 - val_loss: 0.0036 - val_mse: 0.0036\n",
            "Epoch 70/100\n",
            "33/33 [==============================] - 0s 2ms/step - loss: 0.0012 - mse: 0.0012 - val_loss: 0.0036 - val_mse: 0.0036\n",
            "Epoch 71/100\n",
            "33/33 [==============================] - 0s 3ms/step - loss: 0.0012 - mse: 0.0012 - val_loss: 0.0036 - val_mse: 0.0036\n",
            "Epoch 72/100\n",
            "33/33 [==============================] - 0s 3ms/step - loss: 0.0012 - mse: 0.0012 - val_loss: 0.0036 - val_mse: 0.0036\n",
            "Epoch 73/100\n",
            "33/33 [==============================] - 0s 2ms/step - loss: 0.0012 - mse: 0.0012 - val_loss: 0.0036 - val_mse: 0.0036\n",
            "Epoch 74/100\n",
            "33/33 [==============================] - 0s 3ms/step - loss: 0.0012 - mse: 0.0012 - val_loss: 0.0036 - val_mse: 0.0036\n",
            "Epoch 75/100\n",
            "33/33 [==============================] - 0s 3ms/step - loss: 0.0011 - mse: 0.0011 - val_loss: 0.0036 - val_mse: 0.0036\n",
            "Epoch 76/100\n",
            "33/33 [==============================] - 0s 4ms/step - loss: 0.0011 - mse: 0.0011 - val_loss: 0.0036 - val_mse: 0.0036\n",
            "Epoch 77/100\n",
            "33/33 [==============================] - 0s 3ms/step - loss: 0.0011 - mse: 0.0011 - val_loss: 0.0036 - val_mse: 0.0036\n",
            "Epoch 78/100\n",
            "33/33 [==============================] - 0s 3ms/step - loss: 0.0011 - mse: 0.0011 - val_loss: 0.0036 - val_mse: 0.0036\n",
            "Epoch 79/100\n",
            "33/33 [==============================] - 0s 2ms/step - loss: 0.0011 - mse: 0.0011 - val_loss: 0.0036 - val_mse: 0.0036\n",
            "Epoch 80/100\n",
            "33/33 [==============================] - 0s 3ms/step - loss: 0.0011 - mse: 0.0011 - val_loss: 0.0035 - val_mse: 0.0035\n",
            "Epoch 81/100\n",
            "33/33 [==============================] - 0s 2ms/step - loss: 0.0011 - mse: 0.0011 - val_loss: 0.0035 - val_mse: 0.0035\n",
            "Epoch 82/100\n",
            "33/33 [==============================] - 0s 3ms/step - loss: 0.0011 - mse: 0.0011 - val_loss: 0.0035 - val_mse: 0.0035\n",
            "Epoch 83/100\n",
            "33/33 [==============================] - 0s 3ms/step - loss: 0.0011 - mse: 0.0011 - val_loss: 0.0035 - val_mse: 0.0035\n",
            "Epoch 84/100\n",
            "33/33 [==============================] - 0s 3ms/step - loss: 0.0011 - mse: 0.0011 - val_loss: 0.0035 - val_mse: 0.0035\n",
            "Epoch 85/100\n",
            "33/33 [==============================] - 0s 2ms/step - loss: 0.0011 - mse: 0.0011 - val_loss: 0.0035 - val_mse: 0.0035\n",
            "Epoch 86/100\n",
            "33/33 [==============================] - 0s 2ms/step - loss: 0.0011 - mse: 0.0011 - val_loss: 0.0035 - val_mse: 0.0035\n",
            "Epoch 87/100\n",
            "33/33 [==============================] - 0s 3ms/step - loss: 0.0011 - mse: 0.0011 - val_loss: 0.0035 - val_mse: 0.0035\n",
            "Epoch 88/100\n",
            "33/33 [==============================] - 0s 2ms/step - loss: 0.0011 - mse: 0.0011 - val_loss: 0.0035 - val_mse: 0.0035\n",
            "Epoch 89/100\n",
            "33/33 [==============================] - 0s 2ms/step - loss: 0.0011 - mse: 0.0011 - val_loss: 0.0035 - val_mse: 0.0035\n",
            "Epoch 90/100\n",
            "33/33 [==============================] - 0s 2ms/step - loss: 0.0011 - mse: 0.0011 - val_loss: 0.0035 - val_mse: 0.0035\n",
            "Epoch 91/100\n",
            "33/33 [==============================] - 0s 3ms/step - loss: 0.0011 - mse: 0.0011 - val_loss: 0.0035 - val_mse: 0.0035\n",
            "Epoch 92/100\n",
            "33/33 [==============================] - 0s 2ms/step - loss: 0.0011 - mse: 0.0011 - val_loss: 0.0035 - val_mse: 0.0035\n",
            "Epoch 93/100\n",
            "33/33 [==============================] - 0s 2ms/step - loss: 0.0011 - mse: 0.0011 - val_loss: 0.0035 - val_mse: 0.0035\n",
            "Epoch 94/100\n",
            "33/33 [==============================] - 0s 3ms/step - loss: 0.0011 - mse: 0.0011 - val_loss: 0.0035 - val_mse: 0.0035\n",
            "Epoch 95/100\n",
            "33/33 [==============================] - 0s 3ms/step - loss: 0.0011 - mse: 0.0011 - val_loss: 0.0035 - val_mse: 0.0035\n",
            "Epoch 96/100\n",
            "33/33 [==============================] - 0s 2ms/step - loss: 0.0011 - mse: 0.0011 - val_loss: 0.0035 - val_mse: 0.0035\n",
            "Epoch 97/100\n",
            "33/33 [==============================] - 0s 2ms/step - loss: 0.0011 - mse: 0.0011 - val_loss: 0.0035 - val_mse: 0.0035\n",
            "Epoch 98/100\n",
            "33/33 [==============================] - 0s 3ms/step - loss: 0.0011 - mse: 0.0011 - val_loss: 0.0034 - val_mse: 0.0034\n",
            "Epoch 99/100\n",
            "33/33 [==============================] - 0s 3ms/step - loss: 0.0011 - mse: 0.0011 - val_loss: 0.0034 - val_mse: 0.0034\n",
            "Epoch 100/100\n",
            "33/33 [==============================] - 0s 2ms/step - loss: 0.0011 - mse: 0.0011 - val_loss: 0.0034 - val_mse: 0.0034\n"
          ]
        },
        {
          "output_type": "execute_result",
          "data": {
            "text/plain": [
              "<keras.callbacks.History at 0x7f89abed34d0>"
            ]
          },
          "metadata": {},
          "execution_count": 37
        }
      ]
    },
    {
      "cell_type": "code",
      "metadata": {
        "colab": {
          "base_uri": "https://localhost:8080/"
        },
        "id": "huFEivcR8n6V",
        "outputId": "c16c1b7f-b878-4359-d7b6-dd1185b000ee"
      },
      "source": [
        "prediction = model.predict(validation_x)\n",
        "calculate_error_rmse(pd.DataFrame(prediction), validation_volatility)"
      ],
      "execution_count": 39,
      "outputs": [
        {
          "output_type": "execute_result",
          "data": {
            "text/plain": [
              "0.05865153412409621"
            ]
          },
          "metadata": {},
          "execution_count": 39
        }
      ]
    },
    {
      "cell_type": "code",
      "metadata": {
        "colab": {
          "base_uri": "https://localhost:8080/"
        },
        "id": "P2X0EgHVAc78",
        "outputId": "ec2f827d-d3bf-4f0b-c1dc-6ff7607ff27e"
      },
      "source": [
        "model = tf.keras.models.Sequential([\n",
        "  tf.keras.layers.Dense(256, input_shape=[window_size]),\n",
        "  tf.keras.layers.Dense(128),\n",
        "  tf.keras.layers.Dense(1)\n",
        "])\n",
        "optimizer = tf.keras.optimizers.SGD(lr=1e-5, momentum=0.9)\n",
        "model.compile(loss=tf.keras.losses.MeanSquaredError(),\n",
        "              optimizer=optimizer,\n",
        "              metrics=[\"mse\"])\n",
        "model.fit(train_dataset, epochs=100, validation_data=validation_dataset)"
      ],
      "execution_count": 40,
      "outputs": [
        {
          "output_type": "stream",
          "name": "stderr",
          "text": [
            "/usr/local/lib/python3.7/dist-packages/keras/optimizer_v2/optimizer_v2.py:356: UserWarning: The `lr` argument is deprecated, use `learning_rate` instead.\n",
            "  \"The `lr` argument is deprecated, use `learning_rate` instead.\")\n"
          ]
        },
        {
          "output_type": "stream",
          "name": "stdout",
          "text": [
            "Epoch 1/100\n",
            "33/33 [==============================] - 0s 5ms/step - loss: 6.6522e-04 - mse: 6.6522e-04 - val_loss: 0.0016 - val_mse: 0.0016\n",
            "Epoch 2/100\n",
            "33/33 [==============================] - 0s 3ms/step - loss: 6.3620e-04 - mse: 6.3620e-04 - val_loss: 0.0015 - val_mse: 0.0015\n",
            "Epoch 3/100\n",
            "33/33 [==============================] - 0s 3ms/step - loss: 6.0685e-04 - mse: 6.0685e-04 - val_loss: 0.0015 - val_mse: 0.0015\n",
            "Epoch 4/100\n",
            "33/33 [==============================] - 0s 3ms/step - loss: 5.7936e-04 - mse: 5.7936e-04 - val_loss: 0.0014 - val_mse: 0.0014\n",
            "Epoch 5/100\n",
            "33/33 [==============================] - 0s 3ms/step - loss: 5.5374e-04 - mse: 5.5374e-04 - val_loss: 0.0014 - val_mse: 0.0014\n",
            "Epoch 6/100\n",
            "33/33 [==============================] - 0s 3ms/step - loss: 5.2990e-04 - mse: 5.2990e-04 - val_loss: 0.0014 - val_mse: 0.0014\n",
            "Epoch 7/100\n",
            "33/33 [==============================] - 0s 3ms/step - loss: 5.0787e-04 - mse: 5.0787e-04 - val_loss: 0.0013 - val_mse: 0.0013\n",
            "Epoch 8/100\n",
            "33/33 [==============================] - 0s 3ms/step - loss: 4.8730e-04 - mse: 4.8730e-04 - val_loss: 0.0013 - val_mse: 0.0013\n",
            "Epoch 9/100\n",
            "33/33 [==============================] - 0s 3ms/step - loss: 4.6825e-04 - mse: 4.6825e-04 - val_loss: 0.0013 - val_mse: 0.0013\n",
            "Epoch 10/100\n",
            "33/33 [==============================] - 0s 3ms/step - loss: 4.5056e-04 - mse: 4.5056e-04 - val_loss: 0.0012 - val_mse: 0.0012\n",
            "Epoch 11/100\n",
            "33/33 [==============================] - 0s 3ms/step - loss: 4.3394e-04 - mse: 4.3394e-04 - val_loss: 0.0012 - val_mse: 0.0012\n",
            "Epoch 12/100\n",
            "33/33 [==============================] - 0s 3ms/step - loss: 4.1855e-04 - mse: 4.1855e-04 - val_loss: 0.0012 - val_mse: 0.0012\n",
            "Epoch 13/100\n",
            "33/33 [==============================] - 0s 3ms/step - loss: 4.0422e-04 - mse: 4.0422e-04 - val_loss: 0.0012 - val_mse: 0.0012\n",
            "Epoch 14/100\n",
            "33/33 [==============================] - 0s 3ms/step - loss: 3.9093e-04 - mse: 3.9093e-04 - val_loss: 0.0011 - val_mse: 0.0011\n",
            "Epoch 15/100\n",
            "33/33 [==============================] - 0s 3ms/step - loss: 3.7859e-04 - mse: 3.7859e-04 - val_loss: 0.0011 - val_mse: 0.0011\n",
            "Epoch 16/100\n",
            "33/33 [==============================] - 0s 3ms/step - loss: 3.6700e-04 - mse: 3.6700e-04 - val_loss: 0.0011 - val_mse: 0.0011\n",
            "Epoch 17/100\n",
            "33/33 [==============================] - 0s 3ms/step - loss: 3.5623e-04 - mse: 3.5623e-04 - val_loss: 0.0011 - val_mse: 0.0011\n",
            "Epoch 18/100\n",
            "33/33 [==============================] - 0s 3ms/step - loss: 3.4634e-04 - mse: 3.4634e-04 - val_loss: 0.0011 - val_mse: 0.0011\n",
            "Epoch 19/100\n",
            "33/33 [==============================] - 0s 3ms/step - loss: 3.3706e-04 - mse: 3.3706e-04 - val_loss: 0.0010 - val_mse: 0.0010\n",
            "Epoch 20/100\n",
            "33/33 [==============================] - 0s 3ms/step - loss: 3.2852e-04 - mse: 3.2852e-04 - val_loss: 0.0010 - val_mse: 0.0010\n",
            "Epoch 21/100\n",
            "33/33 [==============================] - 0s 3ms/step - loss: 3.2054e-04 - mse: 3.2054e-04 - val_loss: 0.0010 - val_mse: 0.0010\n",
            "Epoch 22/100\n",
            "33/33 [==============================] - 0s 3ms/step - loss: 3.1309e-04 - mse: 3.1309e-04 - val_loss: 9.9371e-04 - val_mse: 9.9371e-04\n",
            "Epoch 23/100\n",
            "33/33 [==============================] - 0s 3ms/step - loss: 3.0611e-04 - mse: 3.0611e-04 - val_loss: 9.7960e-04 - val_mse: 9.7960e-04\n",
            "Epoch 24/100\n",
            "33/33 [==============================] - 0s 3ms/step - loss: 2.9963e-04 - mse: 2.9963e-04 - val_loss: 9.6639e-04 - val_mse: 9.6639e-04\n",
            "Epoch 25/100\n",
            "33/33 [==============================] - 0s 3ms/step - loss: 2.9353e-04 - mse: 2.9353e-04 - val_loss: 9.5359e-04 - val_mse: 9.5359e-04\n",
            "Epoch 26/100\n",
            "33/33 [==============================] - 0s 3ms/step - loss: 2.8789e-04 - mse: 2.8789e-04 - val_loss: 9.4141e-04 - val_mse: 9.4141e-04\n",
            "Epoch 27/100\n",
            "33/33 [==============================] - 0s 3ms/step - loss: 2.8270e-04 - mse: 2.8270e-04 - val_loss: 9.3020e-04 - val_mse: 9.3020e-04\n",
            "Epoch 28/100\n",
            "33/33 [==============================] - 0s 3ms/step - loss: 2.7787e-04 - mse: 2.7787e-04 - val_loss: 9.1970e-04 - val_mse: 9.1970e-04\n",
            "Epoch 29/100\n",
            "33/33 [==============================] - 0s 3ms/step - loss: 2.7343e-04 - mse: 2.7343e-04 - val_loss: 9.0970e-04 - val_mse: 9.0970e-04\n",
            "Epoch 30/100\n",
            "33/33 [==============================] - 0s 3ms/step - loss: 2.6923e-04 - mse: 2.6923e-04 - val_loss: 8.9982e-04 - val_mse: 8.9982e-04\n",
            "Epoch 31/100\n",
            "33/33 [==============================] - 0s 3ms/step - loss: 2.6527e-04 - mse: 2.6527e-04 - val_loss: 8.9080e-04 - val_mse: 8.9080e-04\n",
            "Epoch 32/100\n",
            "33/33 [==============================] - 0s 3ms/step - loss: 2.6166e-04 - mse: 2.6166e-04 - val_loss: 8.8171e-04 - val_mse: 8.8171e-04\n",
            "Epoch 33/100\n",
            "33/33 [==============================] - 0s 3ms/step - loss: 2.5826e-04 - mse: 2.5826e-04 - val_loss: 8.7346e-04 - val_mse: 8.7346e-04\n",
            "Epoch 34/100\n",
            "33/33 [==============================] - 0s 3ms/step - loss: 2.5509e-04 - mse: 2.5509e-04 - val_loss: 8.6523e-04 - val_mse: 8.6523e-04\n",
            "Epoch 35/100\n",
            "33/33 [==============================] - 0s 3ms/step - loss: 2.5215e-04 - mse: 2.5215e-04 - val_loss: 8.5786e-04 - val_mse: 8.5786e-04\n",
            "Epoch 36/100\n",
            "33/33 [==============================] - 0s 3ms/step - loss: 2.4946e-04 - mse: 2.4946e-04 - val_loss: 8.5037e-04 - val_mse: 8.5037e-04\n",
            "Epoch 37/100\n",
            "33/33 [==============================] - 0s 3ms/step - loss: 2.4691e-04 - mse: 2.4691e-04 - val_loss: 8.4405e-04 - val_mse: 8.4405e-04\n",
            "Epoch 38/100\n",
            "33/33 [==============================] - 0s 3ms/step - loss: 2.4465e-04 - mse: 2.4465e-04 - val_loss: 8.3725e-04 - val_mse: 8.3725e-04\n",
            "Epoch 39/100\n",
            "33/33 [==============================] - 0s 3ms/step - loss: 2.4239e-04 - mse: 2.4239e-04 - val_loss: 8.3120e-04 - val_mse: 8.3120e-04\n",
            "Epoch 40/100\n",
            "33/33 [==============================] - 0s 3ms/step - loss: 2.4037e-04 - mse: 2.4037e-04 - val_loss: 8.2501e-04 - val_mse: 8.2501e-04\n",
            "Epoch 41/100\n",
            "33/33 [==============================] - 0s 3ms/step - loss: 2.3845e-04 - mse: 2.3845e-04 - val_loss: 8.1944e-04 - val_mse: 8.1944e-04\n",
            "Epoch 42/100\n",
            "33/33 [==============================] - 0s 3ms/step - loss: 2.3668e-04 - mse: 2.3668e-04 - val_loss: 8.1413e-04 - val_mse: 8.1413e-04\n",
            "Epoch 43/100\n",
            "33/33 [==============================] - 0s 3ms/step - loss: 2.3498e-04 - mse: 2.3498e-04 - val_loss: 8.0911e-04 - val_mse: 8.0911e-04\n",
            "Epoch 44/100\n",
            "33/33 [==============================] - 0s 3ms/step - loss: 2.3348e-04 - mse: 2.3348e-04 - val_loss: 8.0430e-04 - val_mse: 8.0430e-04\n",
            "Epoch 45/100\n",
            "33/33 [==============================] - 0s 3ms/step - loss: 2.3212e-04 - mse: 2.3212e-04 - val_loss: 7.9957e-04 - val_mse: 7.9957e-04\n",
            "Epoch 46/100\n",
            "33/33 [==============================] - 0s 3ms/step - loss: 2.3080e-04 - mse: 2.3080e-04 - val_loss: 7.9522e-04 - val_mse: 7.9522e-04\n",
            "Epoch 47/100\n",
            "33/33 [==============================] - 0s 4ms/step - loss: 2.2956e-04 - mse: 2.2956e-04 - val_loss: 7.9105e-04 - val_mse: 7.9105e-04\n",
            "Epoch 48/100\n",
            "33/33 [==============================] - 0s 3ms/step - loss: 2.2843e-04 - mse: 2.2843e-04 - val_loss: 7.8722e-04 - val_mse: 7.8722e-04\n",
            "Epoch 49/100\n",
            "33/33 [==============================] - 0s 3ms/step - loss: 2.2738e-04 - mse: 2.2738e-04 - val_loss: 7.8298e-04 - val_mse: 7.8298e-04\n",
            "Epoch 50/100\n",
            "33/33 [==============================] - 0s 3ms/step - loss: 2.2632e-04 - mse: 2.2632e-04 - val_loss: 7.7929e-04 - val_mse: 7.7929e-04\n",
            "Epoch 51/100\n",
            "33/33 [==============================] - 0s 3ms/step - loss: 2.2536e-04 - mse: 2.2536e-04 - val_loss: 7.7547e-04 - val_mse: 7.7547e-04\n",
            "Epoch 52/100\n",
            "33/33 [==============================] - 0s 3ms/step - loss: 2.2450e-04 - mse: 2.2450e-04 - val_loss: 7.7201e-04 - val_mse: 7.7201e-04\n",
            "Epoch 53/100\n",
            "33/33 [==============================] - 0s 3ms/step - loss: 2.2369e-04 - mse: 2.2369e-04 - val_loss: 7.6885e-04 - val_mse: 7.6885e-04\n",
            "Epoch 54/100\n",
            "33/33 [==============================] - 0s 3ms/step - loss: 2.2296e-04 - mse: 2.2296e-04 - val_loss: 7.6553e-04 - val_mse: 7.6553e-04\n",
            "Epoch 55/100\n",
            "33/33 [==============================] - 0s 3ms/step - loss: 2.2226e-04 - mse: 2.2226e-04 - val_loss: 7.6287e-04 - val_mse: 7.6287e-04\n",
            "Epoch 56/100\n",
            "33/33 [==============================] - 0s 3ms/step - loss: 2.2161e-04 - mse: 2.2161e-04 - val_loss: 7.5990e-04 - val_mse: 7.5990e-04\n",
            "Epoch 57/100\n",
            "33/33 [==============================] - 0s 3ms/step - loss: 2.2101e-04 - mse: 2.2101e-04 - val_loss: 7.5721e-04 - val_mse: 7.5721e-04\n",
            "Epoch 58/100\n",
            "33/33 [==============================] - 0s 3ms/step - loss: 2.2044e-04 - mse: 2.2044e-04 - val_loss: 7.5447e-04 - val_mse: 7.5447e-04\n",
            "Epoch 59/100\n",
            "33/33 [==============================] - 0s 3ms/step - loss: 2.1993e-04 - mse: 2.1993e-04 - val_loss: 7.5198e-04 - val_mse: 7.5198e-04\n",
            "Epoch 60/100\n",
            "33/33 [==============================] - 0s 3ms/step - loss: 2.1947e-04 - mse: 2.1947e-04 - val_loss: 7.4974e-04 - val_mse: 7.4974e-04\n",
            "Epoch 61/100\n",
            "33/33 [==============================] - 0s 3ms/step - loss: 2.1904e-04 - mse: 2.1904e-04 - val_loss: 7.4748e-04 - val_mse: 7.4748e-04\n",
            "Epoch 62/100\n",
            "33/33 [==============================] - 0s 3ms/step - loss: 2.1862e-04 - mse: 2.1862e-04 - val_loss: 7.4533e-04 - val_mse: 7.4533e-04\n",
            "Epoch 63/100\n",
            "33/33 [==============================] - 0s 3ms/step - loss: 2.1824e-04 - mse: 2.1824e-04 - val_loss: 7.4339e-04 - val_mse: 7.4339e-04\n",
            "Epoch 64/100\n",
            "33/33 [==============================] - 0s 3ms/step - loss: 2.1792e-04 - mse: 2.1792e-04 - val_loss: 7.4104e-04 - val_mse: 7.4104e-04\n",
            "Epoch 65/100\n",
            "33/33 [==============================] - 0s 3ms/step - loss: 2.1755e-04 - mse: 2.1755e-04 - val_loss: 7.3932e-04 - val_mse: 7.3932e-04\n",
            "Epoch 66/100\n",
            "33/33 [==============================] - 0s 3ms/step - loss: 2.1725e-04 - mse: 2.1725e-04 - val_loss: 7.3765e-04 - val_mse: 7.3765e-04\n",
            "Epoch 67/100\n",
            "33/33 [==============================] - 0s 3ms/step - loss: 2.1697e-04 - mse: 2.1697e-04 - val_loss: 7.3580e-04 - val_mse: 7.3580e-04\n",
            "Epoch 68/100\n",
            "33/33 [==============================] - 0s 2ms/step - loss: 2.1670e-04 - mse: 2.1670e-04 - val_loss: 7.3417e-04 - val_mse: 7.3417e-04\n",
            "Epoch 69/100\n",
            "33/33 [==============================] - 0s 3ms/step - loss: 2.1645e-04 - mse: 2.1645e-04 - val_loss: 7.3278e-04 - val_mse: 7.3278e-04\n",
            "Epoch 70/100\n",
            "33/33 [==============================] - 0s 3ms/step - loss: 2.1622e-04 - mse: 2.1622e-04 - val_loss: 7.3087e-04 - val_mse: 7.3087e-04\n",
            "Epoch 71/100\n",
            "33/33 [==============================] - 0s 3ms/step - loss: 2.1597e-04 - mse: 2.1597e-04 - val_loss: 7.2949e-04 - val_mse: 7.2949e-04\n",
            "Epoch 72/100\n",
            "33/33 [==============================] - 0s 3ms/step - loss: 2.1576e-04 - mse: 2.1576e-04 - val_loss: 7.2791e-04 - val_mse: 7.2791e-04\n",
            "Epoch 73/100\n",
            "33/33 [==============================] - 0s 2ms/step - loss: 2.1557e-04 - mse: 2.1557e-04 - val_loss: 7.2655e-04 - val_mse: 7.2655e-04\n",
            "Epoch 74/100\n",
            "33/33 [==============================] - 0s 3ms/step - loss: 2.1539e-04 - mse: 2.1539e-04 - val_loss: 7.2505e-04 - val_mse: 7.2505e-04\n",
            "Epoch 75/100\n",
            "33/33 [==============================] - 0s 3ms/step - loss: 2.1521e-04 - mse: 2.1521e-04 - val_loss: 7.2364e-04 - val_mse: 7.2364e-04\n",
            "Epoch 76/100\n",
            "33/33 [==============================] - 0s 3ms/step - loss: 2.1505e-04 - mse: 2.1505e-04 - val_loss: 7.2256e-04 - val_mse: 7.2256e-04\n",
            "Epoch 77/100\n",
            "33/33 [==============================] - 0s 3ms/step - loss: 2.1491e-04 - mse: 2.1491e-04 - val_loss: 7.2121e-04 - val_mse: 7.2121e-04\n",
            "Epoch 78/100\n",
            "33/33 [==============================] - 0s 3ms/step - loss: 2.1477e-04 - mse: 2.1477e-04 - val_loss: 7.2031e-04 - val_mse: 7.2031e-04\n",
            "Epoch 79/100\n",
            "33/33 [==============================] - 0s 3ms/step - loss: 2.1465e-04 - mse: 2.1465e-04 - val_loss: 7.1893e-04 - val_mse: 7.1893e-04\n",
            "Epoch 80/100\n",
            "33/33 [==============================] - 0s 3ms/step - loss: 2.1453e-04 - mse: 2.1453e-04 - val_loss: 7.1781e-04 - val_mse: 7.1781e-04\n",
            "Epoch 81/100\n",
            "33/33 [==============================] - 0s 4ms/step - loss: 2.1441e-04 - mse: 2.1441e-04 - val_loss: 7.1697e-04 - val_mse: 7.1697e-04\n",
            "Epoch 82/100\n",
            "33/33 [==============================] - 0s 2ms/step - loss: 2.1431e-04 - mse: 2.1431e-04 - val_loss: 7.1594e-04 - val_mse: 7.1594e-04\n",
            "Epoch 83/100\n",
            "33/33 [==============================] - 0s 3ms/step - loss: 2.1422e-04 - mse: 2.1422e-04 - val_loss: 7.1485e-04 - val_mse: 7.1485e-04\n",
            "Epoch 84/100\n",
            "33/33 [==============================] - 0s 3ms/step - loss: 2.1413e-04 - mse: 2.1413e-04 - val_loss: 7.1408e-04 - val_mse: 7.1408e-04\n",
            "Epoch 85/100\n",
            "33/33 [==============================] - 0s 3ms/step - loss: 2.1406e-04 - mse: 2.1406e-04 - val_loss: 7.1328e-04 - val_mse: 7.1328e-04\n",
            "Epoch 86/100\n",
            "33/33 [==============================] - 0s 3ms/step - loss: 2.1399e-04 - mse: 2.1399e-04 - val_loss: 7.1221e-04 - val_mse: 7.1221e-04\n",
            "Epoch 87/100\n",
            "33/33 [==============================] - 0s 3ms/step - loss: 2.1391e-04 - mse: 2.1391e-04 - val_loss: 7.1145e-04 - val_mse: 7.1145e-04\n",
            "Epoch 88/100\n",
            "33/33 [==============================] - 0s 3ms/step - loss: 2.1385e-04 - mse: 2.1385e-04 - val_loss: 7.1085e-04 - val_mse: 7.1085e-04\n",
            "Epoch 89/100\n",
            "33/33 [==============================] - 0s 3ms/step - loss: 2.1380e-04 - mse: 2.1380e-04 - val_loss: 7.1021e-04 - val_mse: 7.1021e-04\n",
            "Epoch 90/100\n",
            "33/33 [==============================] - 0s 3ms/step - loss: 2.1375e-04 - mse: 2.1375e-04 - val_loss: 7.0949e-04 - val_mse: 7.0949e-04\n",
            "Epoch 91/100\n",
            "33/33 [==============================] - 0s 3ms/step - loss: 2.1370e-04 - mse: 2.1370e-04 - val_loss: 7.0889e-04 - val_mse: 7.0889e-04\n",
            "Epoch 92/100\n",
            "33/33 [==============================] - 0s 3ms/step - loss: 2.1365e-04 - mse: 2.1365e-04 - val_loss: 7.0833e-04 - val_mse: 7.0833e-04\n",
            "Epoch 93/100\n",
            "33/33 [==============================] - 0s 3ms/step - loss: 2.1361e-04 - mse: 2.1361e-04 - val_loss: 7.0774e-04 - val_mse: 7.0774e-04\n",
            "Epoch 94/100\n",
            "33/33 [==============================] - 0s 3ms/step - loss: 2.1357e-04 - mse: 2.1357e-04 - val_loss: 7.0705e-04 - val_mse: 7.0705e-04\n",
            "Epoch 95/100\n",
            "33/33 [==============================] - 0s 3ms/step - loss: 2.1352e-04 - mse: 2.1352e-04 - val_loss: 7.0643e-04 - val_mse: 7.0643e-04\n",
            "Epoch 96/100\n",
            "33/33 [==============================] - 0s 3ms/step - loss: 2.1348e-04 - mse: 2.1348e-04 - val_loss: 7.0580e-04 - val_mse: 7.0580e-04\n",
            "Epoch 97/100\n",
            "33/33 [==============================] - 0s 3ms/step - loss: 2.1345e-04 - mse: 2.1345e-04 - val_loss: 7.0549e-04 - val_mse: 7.0549e-04\n",
            "Epoch 98/100\n",
            "33/33 [==============================] - 0s 3ms/step - loss: 2.1342e-04 - mse: 2.1342e-04 - val_loss: 7.0473e-04 - val_mse: 7.0473e-04\n",
            "Epoch 99/100\n",
            "33/33 [==============================] - 0s 3ms/step - loss: 2.1339e-04 - mse: 2.1339e-04 - val_loss: 7.0424e-04 - val_mse: 7.0424e-04\n",
            "Epoch 100/100\n",
            "33/33 [==============================] - 0s 3ms/step - loss: 2.1336e-04 - mse: 2.1336e-04 - val_loss: 7.0382e-04 - val_mse: 7.0382e-04\n"
          ]
        },
        {
          "output_type": "execute_result",
          "data": {
            "text/plain": [
              "<keras.callbacks.History at 0x7f89a5a446d0>"
            ]
          },
          "metadata": {},
          "execution_count": 40
        }
      ]
    },
    {
      "cell_type": "code",
      "metadata": {
        "colab": {
          "base_uri": "https://localhost:8080/"
        },
        "id": "aCswb8QKFmZy",
        "outputId": "38dc0b47-746e-4101-8134-2a96b5e65e35"
      },
      "source": [
        "prediction = model.predict(validation_x)\n",
        "calculate_error_rmse(pd.DataFrame(prediction), validation_volatility)"
      ],
      "execution_count": 41,
      "outputs": [
        {
          "output_type": "execute_result",
          "data": {
            "text/plain": [
              "0.026529689148563504"
            ]
          },
          "metadata": {},
          "execution_count": 41
        }
      ]
    },
    {
      "cell_type": "code",
      "metadata": {
        "colab": {
          "base_uri": "https://localhost:8080/"
        },
        "id": "6MvBZqVFUyBo",
        "outputId": "83540ed5-5aa3-46b5-c7e4-05dadf37162f"
      },
      "source": [
        "model = tf.keras.models.Sequential([\n",
        "  tf.keras.layers.Dense(256, input_shape=[window_size], activation=\"relu\"),\n",
        "  tf.keras.layers.Dense(128, activation=\"relu\"),\n",
        "  tf.keras.layers.Dense(1)\n",
        "])\n",
        "optimizer = tf.keras.optimizers.SGD(lr=1e-5, momentum=0.9)\n",
        "model.compile(loss=tf.keras.losses.MeanSquaredError(),\n",
        "              optimizer=optimizer,\n",
        "              metrics=[\"mse\"])\n",
        "model.fit(train_dataset, epochs=100, validation_data=validation_dataset)"
      ],
      "execution_count": 42,
      "outputs": [
        {
          "output_type": "stream",
          "name": "stderr",
          "text": [
            "/usr/local/lib/python3.7/dist-packages/keras/optimizer_v2/optimizer_v2.py:356: UserWarning: The `lr` argument is deprecated, use `learning_rate` instead.\n",
            "  \"The `lr` argument is deprecated, use `learning_rate` instead.\")\n"
          ]
        },
        {
          "output_type": "stream",
          "name": "stdout",
          "text": [
            "Epoch 1/100\n",
            "33/33 [==============================] - 0s 5ms/step - loss: 5.1172e-04 - mse: 5.1172e-04 - val_loss: 0.0013 - val_mse: 0.0013\n",
            "Epoch 2/100\n",
            "33/33 [==============================] - 0s 3ms/step - loss: 5.0430e-04 - mse: 5.0430e-04 - val_loss: 0.0013 - val_mse: 0.0013\n",
            "Epoch 3/100\n",
            "33/33 [==============================] - 0s 3ms/step - loss: 4.9638e-04 - mse: 4.9638e-04 - val_loss: 0.0013 - val_mse: 0.0013\n",
            "Epoch 4/100\n",
            "33/33 [==============================] - 0s 3ms/step - loss: 4.8862e-04 - mse: 4.8862e-04 - val_loss: 0.0013 - val_mse: 0.0013\n",
            "Epoch 5/100\n",
            "33/33 [==============================] - 0s 3ms/step - loss: 4.8103e-04 - mse: 4.8103e-04 - val_loss: 0.0013 - val_mse: 0.0013\n",
            "Epoch 6/100\n",
            "33/33 [==============================] - 0s 3ms/step - loss: 4.7365e-04 - mse: 4.7365e-04 - val_loss: 0.0012 - val_mse: 0.0012\n",
            "Epoch 7/100\n",
            "33/33 [==============================] - 0s 3ms/step - loss: 4.6640e-04 - mse: 4.6640e-04 - val_loss: 0.0012 - val_mse: 0.0012\n",
            "Epoch 8/100\n",
            "33/33 [==============================] - 0s 3ms/step - loss: 4.5935e-04 - mse: 4.5935e-04 - val_loss: 0.0012 - val_mse: 0.0012\n",
            "Epoch 9/100\n",
            "33/33 [==============================] - 0s 3ms/step - loss: 4.5245e-04 - mse: 4.5245e-04 - val_loss: 0.0012 - val_mse: 0.0012\n",
            "Epoch 10/100\n",
            "33/33 [==============================] - 0s 3ms/step - loss: 4.4564e-04 - mse: 4.4564e-04 - val_loss: 0.0012 - val_mse: 0.0012\n",
            "Epoch 11/100\n",
            "33/33 [==============================] - 0s 3ms/step - loss: 4.3900e-04 - mse: 4.3900e-04 - val_loss: 0.0012 - val_mse: 0.0012\n",
            "Epoch 12/100\n",
            "33/33 [==============================] - 0s 3ms/step - loss: 4.3250e-04 - mse: 4.3250e-04 - val_loss: 0.0012 - val_mse: 0.0012\n",
            "Epoch 13/100\n",
            "33/33 [==============================] - 0s 3ms/step - loss: 4.2616e-04 - mse: 4.2616e-04 - val_loss: 0.0012 - val_mse: 0.0012\n",
            "Epoch 14/100\n",
            "33/33 [==============================] - 0s 3ms/step - loss: 4.1993e-04 - mse: 4.1993e-04 - val_loss: 0.0012 - val_mse: 0.0012\n",
            "Epoch 15/100\n",
            "33/33 [==============================] - 0s 3ms/step - loss: 4.1384e-04 - mse: 4.1384e-04 - val_loss: 0.0012 - val_mse: 0.0012\n",
            "Epoch 16/100\n",
            "33/33 [==============================] - 0s 3ms/step - loss: 4.0795e-04 - mse: 4.0795e-04 - val_loss: 0.0011 - val_mse: 0.0011\n",
            "Epoch 17/100\n",
            "33/33 [==============================] - 0s 3ms/step - loss: 4.0210e-04 - mse: 4.0210e-04 - val_loss: 0.0011 - val_mse: 0.0011\n",
            "Epoch 18/100\n",
            "33/33 [==============================] - 0s 3ms/step - loss: 3.9645e-04 - mse: 3.9645e-04 - val_loss: 0.0011 - val_mse: 0.0011\n",
            "Epoch 19/100\n",
            "33/33 [==============================] - 0s 3ms/step - loss: 3.9094e-04 - mse: 3.9094e-04 - val_loss: 0.0011 - val_mse: 0.0011\n",
            "Epoch 20/100\n",
            "33/33 [==============================] - 0s 3ms/step - loss: 3.8549e-04 - mse: 3.8549e-04 - val_loss: 0.0011 - val_mse: 0.0011\n",
            "Epoch 21/100\n",
            "33/33 [==============================] - 0s 3ms/step - loss: 3.8019e-04 - mse: 3.8019e-04 - val_loss: 0.0011 - val_mse: 0.0011\n",
            "Epoch 22/100\n",
            "33/33 [==============================] - 0s 3ms/step - loss: 3.7499e-04 - mse: 3.7499e-04 - val_loss: 0.0011 - val_mse: 0.0011\n",
            "Epoch 23/100\n",
            "33/33 [==============================] - 0s 3ms/step - loss: 3.6992e-04 - mse: 3.6992e-04 - val_loss: 0.0011 - val_mse: 0.0011\n",
            "Epoch 24/100\n",
            "33/33 [==============================] - 0s 3ms/step - loss: 3.6495e-04 - mse: 3.6495e-04 - val_loss: 0.0011 - val_mse: 0.0011\n",
            "Epoch 25/100\n",
            "33/33 [==============================] - 0s 3ms/step - loss: 3.6009e-04 - mse: 3.6009e-04 - val_loss: 0.0011 - val_mse: 0.0011\n",
            "Epoch 26/100\n",
            "33/33 [==============================] - 0s 2ms/step - loss: 3.5534e-04 - mse: 3.5534e-04 - val_loss: 0.0011 - val_mse: 0.0011\n",
            "Epoch 27/100\n",
            "33/33 [==============================] - 0s 3ms/step - loss: 3.5069e-04 - mse: 3.5069e-04 - val_loss: 0.0011 - val_mse: 0.0011\n",
            "Epoch 28/100\n",
            "33/33 [==============================] - 0s 3ms/step - loss: 3.4618e-04 - mse: 3.4618e-04 - val_loss: 0.0010 - val_mse: 0.0010\n",
            "Epoch 29/100\n",
            "33/33 [==============================] - 0s 2ms/step - loss: 3.4169e-04 - mse: 3.4169e-04 - val_loss: 0.0010 - val_mse: 0.0010\n",
            "Epoch 30/100\n",
            "33/33 [==============================] - 0s 3ms/step - loss: 3.3737e-04 - mse: 3.3737e-04 - val_loss: 0.0010 - val_mse: 0.0010\n",
            "Epoch 31/100\n",
            "33/33 [==============================] - 0s 3ms/step - loss: 3.3312e-04 - mse: 3.3312e-04 - val_loss: 0.0010 - val_mse: 0.0010\n",
            "Epoch 32/100\n",
            "33/33 [==============================] - 0s 3ms/step - loss: 3.2895e-04 - mse: 3.2895e-04 - val_loss: 0.0010 - val_mse: 0.0010\n",
            "Epoch 33/100\n",
            "33/33 [==============================] - 0s 3ms/step - loss: 3.2488e-04 - mse: 3.2488e-04 - val_loss: 0.0010 - val_mse: 0.0010\n",
            "Epoch 34/100\n",
            "33/33 [==============================] - 0s 3ms/step - loss: 3.2090e-04 - mse: 3.2090e-04 - val_loss: 0.0010 - val_mse: 0.0010\n",
            "Epoch 35/100\n",
            "33/33 [==============================] - 0s 3ms/step - loss: 3.1701e-04 - mse: 3.1701e-04 - val_loss: 9.9675e-04 - val_mse: 9.9675e-04\n",
            "Epoch 36/100\n",
            "33/33 [==============================] - 0s 3ms/step - loss: 3.1325e-04 - mse: 3.1325e-04 - val_loss: 9.9030e-04 - val_mse: 9.9030e-04\n",
            "Epoch 37/100\n",
            "33/33 [==============================] - 0s 2ms/step - loss: 3.0956e-04 - mse: 3.0956e-04 - val_loss: 9.8398e-04 - val_mse: 9.8398e-04\n",
            "Epoch 38/100\n",
            "33/33 [==============================] - 0s 3ms/step - loss: 3.0592e-04 - mse: 3.0592e-04 - val_loss: 9.7773e-04 - val_mse: 9.7773e-04\n",
            "Epoch 39/100\n",
            "33/33 [==============================] - 0s 3ms/step - loss: 3.0237e-04 - mse: 3.0237e-04 - val_loss: 9.7167e-04 - val_mse: 9.7167e-04\n",
            "Epoch 40/100\n",
            "33/33 [==============================] - 0s 3ms/step - loss: 2.9889e-04 - mse: 2.9889e-04 - val_loss: 9.6567e-04 - val_mse: 9.6567e-04\n",
            "Epoch 41/100\n",
            "33/33 [==============================] - 0s 3ms/step - loss: 2.9547e-04 - mse: 2.9547e-04 - val_loss: 9.5973e-04 - val_mse: 9.5973e-04\n",
            "Epoch 42/100\n",
            "33/33 [==============================] - 0s 3ms/step - loss: 2.9214e-04 - mse: 2.9214e-04 - val_loss: 9.5389e-04 - val_mse: 9.5389e-04\n",
            "Epoch 43/100\n",
            "33/33 [==============================] - 0s 3ms/step - loss: 2.8888e-04 - mse: 2.8888e-04 - val_loss: 9.4823e-04 - val_mse: 9.4823e-04\n",
            "Epoch 44/100\n",
            "33/33 [==============================] - 0s 3ms/step - loss: 2.8571e-04 - mse: 2.8571e-04 - val_loss: 9.4262e-04 - val_mse: 9.4262e-04\n",
            "Epoch 45/100\n",
            "33/33 [==============================] - 0s 3ms/step - loss: 2.8258e-04 - mse: 2.8258e-04 - val_loss: 9.3709e-04 - val_mse: 9.3709e-04\n",
            "Epoch 46/100\n",
            "33/33 [==============================] - 0s 3ms/step - loss: 2.7956e-04 - mse: 2.7956e-04 - val_loss: 9.3172e-04 - val_mse: 9.3172e-04\n",
            "Epoch 47/100\n",
            "33/33 [==============================] - 0s 3ms/step - loss: 2.7659e-04 - mse: 2.7659e-04 - val_loss: 9.2651e-04 - val_mse: 9.2651e-04\n",
            "Epoch 48/100\n",
            "33/33 [==============================] - 0s 3ms/step - loss: 2.7370e-04 - mse: 2.7370e-04 - val_loss: 9.2128e-04 - val_mse: 9.2128e-04\n",
            "Epoch 49/100\n",
            "33/33 [==============================] - 0s 3ms/step - loss: 2.7086e-04 - mse: 2.7086e-04 - val_loss: 9.1616e-04 - val_mse: 9.1616e-04\n",
            "Epoch 50/100\n",
            "33/33 [==============================] - 0s 3ms/step - loss: 2.6807e-04 - mse: 2.6807e-04 - val_loss: 9.1113e-04 - val_mse: 9.1113e-04\n",
            "Epoch 51/100\n",
            "33/33 [==============================] - 0s 3ms/step - loss: 2.6536e-04 - mse: 2.6536e-04 - val_loss: 9.0619e-04 - val_mse: 9.0619e-04\n",
            "Epoch 52/100\n",
            "33/33 [==============================] - 0s 3ms/step - loss: 2.6267e-04 - mse: 2.6267e-04 - val_loss: 9.0120e-04 - val_mse: 9.0120e-04\n",
            "Epoch 53/100\n",
            "33/33 [==============================] - 0s 3ms/step - loss: 2.6005e-04 - mse: 2.6005e-04 - val_loss: 8.9643e-04 - val_mse: 8.9643e-04\n",
            "Epoch 54/100\n",
            "33/33 [==============================] - 0s 3ms/step - loss: 2.5752e-04 - mse: 2.5752e-04 - val_loss: 8.9163e-04 - val_mse: 8.9163e-04\n",
            "Epoch 55/100\n",
            "33/33 [==============================] - 0s 3ms/step - loss: 2.5503e-04 - mse: 2.5503e-04 - val_loss: 8.8707e-04 - val_mse: 8.8707e-04\n",
            "Epoch 56/100\n",
            "33/33 [==============================] - 0s 3ms/step - loss: 2.5261e-04 - mse: 2.5261e-04 - val_loss: 8.8264e-04 - val_mse: 8.8264e-04\n",
            "Epoch 57/100\n",
            "33/33 [==============================] - 0s 3ms/step - loss: 2.5026e-04 - mse: 2.5026e-04 - val_loss: 8.7813e-04 - val_mse: 8.7813e-04\n",
            "Epoch 58/100\n",
            "33/33 [==============================] - 0s 3ms/step - loss: 2.4793e-04 - mse: 2.4793e-04 - val_loss: 8.7375e-04 - val_mse: 8.7375e-04\n",
            "Epoch 59/100\n",
            "33/33 [==============================] - 0s 3ms/step - loss: 2.4567e-04 - mse: 2.4567e-04 - val_loss: 8.6941e-04 - val_mse: 8.6941e-04\n",
            "Epoch 60/100\n",
            "33/33 [==============================] - 0s 3ms/step - loss: 2.4343e-04 - mse: 2.4343e-04 - val_loss: 8.6527e-04 - val_mse: 8.6527e-04\n",
            "Epoch 61/100\n",
            "33/33 [==============================] - 0s 3ms/step - loss: 2.4128e-04 - mse: 2.4128e-04 - val_loss: 8.6117e-04 - val_mse: 8.6117e-04\n",
            "Epoch 62/100\n",
            "33/33 [==============================] - 0s 3ms/step - loss: 2.3916e-04 - mse: 2.3916e-04 - val_loss: 8.5694e-04 - val_mse: 8.5694e-04\n",
            "Epoch 63/100\n",
            "33/33 [==============================] - 0s 3ms/step - loss: 2.3706e-04 - mse: 2.3706e-04 - val_loss: 8.5291e-04 - val_mse: 8.5291e-04\n",
            "Epoch 64/100\n",
            "33/33 [==============================] - 0s 3ms/step - loss: 2.3502e-04 - mse: 2.3502e-04 - val_loss: 8.4899e-04 - val_mse: 8.4899e-04\n",
            "Epoch 65/100\n",
            "33/33 [==============================] - 0s 3ms/step - loss: 2.3304e-04 - mse: 2.3304e-04 - val_loss: 8.4508e-04 - val_mse: 8.4508e-04\n",
            "Epoch 66/100\n",
            "33/33 [==============================] - 0s 2ms/step - loss: 2.3108e-04 - mse: 2.3108e-04 - val_loss: 8.4127e-04 - val_mse: 8.4127e-04\n",
            "Epoch 67/100\n",
            "33/33 [==============================] - 0s 3ms/step - loss: 2.2917e-04 - mse: 2.2917e-04 - val_loss: 8.3748e-04 - val_mse: 8.3748e-04\n",
            "Epoch 68/100\n",
            "33/33 [==============================] - 0s 3ms/step - loss: 2.2728e-04 - mse: 2.2728e-04 - val_loss: 8.3364e-04 - val_mse: 8.3364e-04\n",
            "Epoch 69/100\n",
            "33/33 [==============================] - 0s 3ms/step - loss: 2.2545e-04 - mse: 2.2545e-04 - val_loss: 8.2993e-04 - val_mse: 8.2993e-04\n",
            "Epoch 70/100\n",
            "33/33 [==============================] - 0s 3ms/step - loss: 2.2367e-04 - mse: 2.2367e-04 - val_loss: 8.2642e-04 - val_mse: 8.2642e-04\n",
            "Epoch 71/100\n",
            "33/33 [==============================] - 0s 3ms/step - loss: 2.2196e-04 - mse: 2.2196e-04 - val_loss: 8.2291e-04 - val_mse: 8.2291e-04\n",
            "Epoch 72/100\n",
            "33/33 [==============================] - 0s 3ms/step - loss: 2.2026e-04 - mse: 2.2026e-04 - val_loss: 8.1952e-04 - val_mse: 8.1952e-04\n",
            "Epoch 73/100\n",
            "33/33 [==============================] - 0s 3ms/step - loss: 2.1860e-04 - mse: 2.1860e-04 - val_loss: 8.1596e-04 - val_mse: 8.1596e-04\n",
            "Epoch 74/100\n",
            "33/33 [==============================] - 0s 3ms/step - loss: 2.1696e-04 - mse: 2.1696e-04 - val_loss: 8.1263e-04 - val_mse: 8.1263e-04\n",
            "Epoch 75/100\n",
            "33/33 [==============================] - 0s 3ms/step - loss: 2.1537e-04 - mse: 2.1537e-04 - val_loss: 8.0941e-04 - val_mse: 8.0941e-04\n",
            "Epoch 76/100\n",
            "33/33 [==============================] - 0s 3ms/step - loss: 2.1383e-04 - mse: 2.1383e-04 - val_loss: 8.0629e-04 - val_mse: 8.0629e-04\n",
            "Epoch 77/100\n",
            "33/33 [==============================] - 0s 3ms/step - loss: 2.1236e-04 - mse: 2.1236e-04 - val_loss: 8.0309e-04 - val_mse: 8.0309e-04\n",
            "Epoch 78/100\n",
            "33/33 [==============================] - 0s 3ms/step - loss: 2.1088e-04 - mse: 2.1088e-04 - val_loss: 7.9998e-04 - val_mse: 7.9998e-04\n",
            "Epoch 79/100\n",
            "33/33 [==============================] - 0s 3ms/step - loss: 2.0944e-04 - mse: 2.0944e-04 - val_loss: 7.9685e-04 - val_mse: 7.9685e-04\n",
            "Epoch 80/100\n",
            "33/33 [==============================] - 0s 3ms/step - loss: 2.0802e-04 - mse: 2.0802e-04 - val_loss: 7.9395e-04 - val_mse: 7.9395e-04\n",
            "Epoch 81/100\n",
            "33/33 [==============================] - 0s 3ms/step - loss: 2.0665e-04 - mse: 2.0665e-04 - val_loss: 7.9099e-04 - val_mse: 7.9099e-04\n",
            "Epoch 82/100\n",
            "33/33 [==============================] - 0s 3ms/step - loss: 2.0530e-04 - mse: 2.0530e-04 - val_loss: 7.8797e-04 - val_mse: 7.8797e-04\n",
            "Epoch 83/100\n",
            "33/33 [==============================] - 0s 3ms/step - loss: 2.0396e-04 - mse: 2.0396e-04 - val_loss: 7.8517e-04 - val_mse: 7.8517e-04\n",
            "Epoch 84/100\n",
            "33/33 [==============================] - 0s 3ms/step - loss: 2.0270e-04 - mse: 2.0270e-04 - val_loss: 7.8228e-04 - val_mse: 7.8228e-04\n",
            "Epoch 85/100\n",
            "33/33 [==============================] - 0s 3ms/step - loss: 2.0142e-04 - mse: 2.0142e-04 - val_loss: 7.7959e-04 - val_mse: 7.7959e-04\n",
            "Epoch 86/100\n",
            "33/33 [==============================] - 0s 2ms/step - loss: 2.0021e-04 - mse: 2.0021e-04 - val_loss: 7.7682e-04 - val_mse: 7.7682e-04\n",
            "Epoch 87/100\n",
            "33/33 [==============================] - 0s 3ms/step - loss: 1.9899e-04 - mse: 1.9899e-04 - val_loss: 7.7414e-04 - val_mse: 7.7414e-04\n",
            "Epoch 88/100\n",
            "33/33 [==============================] - 0s 3ms/step - loss: 1.9781e-04 - mse: 1.9781e-04 - val_loss: 7.7152e-04 - val_mse: 7.7152e-04\n",
            "Epoch 89/100\n",
            "33/33 [==============================] - 0s 3ms/step - loss: 1.9667e-04 - mse: 1.9667e-04 - val_loss: 7.6897e-04 - val_mse: 7.6897e-04\n",
            "Epoch 90/100\n",
            "33/33 [==============================] - 0s 3ms/step - loss: 1.9555e-04 - mse: 1.9555e-04 - val_loss: 7.6640e-04 - val_mse: 7.6640e-04\n",
            "Epoch 91/100\n",
            "33/33 [==============================] - 0s 3ms/step - loss: 1.9444e-04 - mse: 1.9444e-04 - val_loss: 7.6386e-04 - val_mse: 7.6386e-04\n",
            "Epoch 92/100\n",
            "33/33 [==============================] - 0s 3ms/step - loss: 1.9338e-04 - mse: 1.9338e-04 - val_loss: 7.6135e-04 - val_mse: 7.6135e-04\n",
            "Epoch 93/100\n",
            "33/33 [==============================] - 0s 3ms/step - loss: 1.9232e-04 - mse: 1.9232e-04 - val_loss: 7.5892e-04 - val_mse: 7.5892e-04\n",
            "Epoch 94/100\n",
            "33/33 [==============================] - 0s 3ms/step - loss: 1.9129e-04 - mse: 1.9129e-04 - val_loss: 7.5656e-04 - val_mse: 7.5656e-04\n",
            "Epoch 95/100\n",
            "33/33 [==============================] - 0s 3ms/step - loss: 1.9029e-04 - mse: 1.9029e-04 - val_loss: 7.5419e-04 - val_mse: 7.5419e-04\n",
            "Epoch 96/100\n",
            "33/33 [==============================] - 0s 3ms/step - loss: 1.8931e-04 - mse: 1.8931e-04 - val_loss: 7.5187e-04 - val_mse: 7.5187e-04\n",
            "Epoch 97/100\n",
            "33/33 [==============================] - 0s 3ms/step - loss: 1.8835e-04 - mse: 1.8835e-04 - val_loss: 7.4962e-04 - val_mse: 7.4962e-04\n",
            "Epoch 98/100\n",
            "33/33 [==============================] - 0s 3ms/step - loss: 1.8743e-04 - mse: 1.8743e-04 - val_loss: 7.4735e-04 - val_mse: 7.4735e-04\n",
            "Epoch 99/100\n",
            "33/33 [==============================] - 0s 3ms/step - loss: 1.8650e-04 - mse: 1.8650e-04 - val_loss: 7.4513e-04 - val_mse: 7.4513e-04\n",
            "Epoch 100/100\n",
            "33/33 [==============================] - 0s 3ms/step - loss: 1.8561e-04 - mse: 1.8561e-04 - val_loss: 7.4300e-04 - val_mse: 7.4300e-04\n"
          ]
        },
        {
          "output_type": "execute_result",
          "data": {
            "text/plain": [
              "<keras.callbacks.History at 0x7f89a593c210>"
            ]
          },
          "metadata": {},
          "execution_count": 42
        }
      ]
    },
    {
      "cell_type": "code",
      "metadata": {
        "colab": {
          "base_uri": "https://localhost:8080/"
        },
        "id": "nsb4RyBH3JbK",
        "outputId": "592ff59b-c7a7-4bea-9bb8-54b610334617"
      },
      "source": [
        "prediction = model.predict(validation_x)\n",
        "calculate_error_rmse(pd.DataFrame(prediction), validation_volatility)"
      ],
      "execution_count": 43,
      "outputs": [
        {
          "output_type": "execute_result",
          "data": {
            "text/plain": [
              "0.027258098296350227"
            ]
          },
          "metadata": {},
          "execution_count": 43
        }
      ]
    },
    {
      "cell_type": "markdown",
      "metadata": {
        "id": "FTYnHKzu33np"
      },
      "source": [
        "## Linear Regression (Normalize)"
      ]
    },
    {
      "cell_type": "code",
      "metadata": {
        "id": "yOPX47wf3Qct"
      },
      "source": [
        "window_size = forward_window\n",
        "batch_size = 32\n",
        "shuffle_buffer=1000\n",
        "\n",
        "train_x = rolling(weekly_data_returns.WILL5000IND_Ret[training_dates].values, window_size)\n",
        "scaler_x = train_x.std()\n",
        "train_x = train_x / scaler_x\n",
        "train_y = training_volatility.WILL5000IND_Ret_Realized_Vol.values[window_size-1:][:,None]\n",
        "scaler_y = train_y.std()\n",
        "train_y = train_y / scaler_y\n",
        "train_data = np.hstack((train_x,train_y))\n",
        "\n",
        "validation_x = rolling(weekly_data_returns[weekly_data_returns.index <= validation_dates[-1]].WILL5000IND_Ret.values, window_size)[-len(validation_dates):]\n",
        "validation_y = validation_volatility.WILL5000IND_Ret_Realized_Vol.values[:,None]\n",
        "validation_x = validation_x / scaler_x\n",
        "validation_y = validation_y / scaler_y\n",
        "validation_data = np.hstack((validation_x,validation_y))\n",
        "\n",
        "\n",
        "train_dataset = tf.data.Dataset.from_tensor_slices(train_data)\n",
        "train_dataset = train_dataset.shuffle(shuffle_buffer)\n",
        "train_dataset = train_dataset.map(lambda window: (window[:-1], window[-1]))\n",
        "train_dataset = train_dataset.batch(batch_size).prefetch(1)\n",
        "\n",
        "validation_dataset = tf.data.Dataset.from_tensor_slices(validation_data)\n",
        "validation_dataset = validation_dataset.map(lambda window: (window[:-1], window[-1]))\n",
        "validation_dataset = validation_dataset.batch(batch_size).prefetch(1)\n"
      ],
      "execution_count": 47,
      "outputs": []
    },
    {
      "cell_type": "code",
      "metadata": {
        "colab": {
          "base_uri": "https://localhost:8080/"
        },
        "id": "rj7aZCl24Ojz",
        "outputId": "131b5d49-f31f-4fe8-d612-3a33c32d7957"
      },
      "source": [
        "model = tf.keras.models.Sequential([\n",
        "  tf.keras.layers.Dense(1,input_shape=[window_size])\n",
        "])\n",
        "optimizer = tf.keras.optimizers.SGD(learning_rate=1e-5, momentum=0.9)\n",
        "model.compile(loss=tf.keras.losses.MeanSquaredError(),\n",
        "              optimizer=optimizer,\n",
        "              metrics=[\"mse\"])\n",
        "history = model.fit(train_dataset, epochs=100, validation_data=validation_dataset, verbose=0)"
      ],
      "execution_count": 61,
      "outputs": [
        {
          "output_type": "stream",
          "name": "stderr",
          "text": [
            "/usr/local/lib/python3.7/dist-packages/keras/optimizer_v2/optimizer_v2.py:356: UserWarning: The `lr` argument is deprecated, use `learning_rate` instead.\n",
            "  \"The `lr` argument is deprecated, use `learning_rate` instead.\")\n"
          ]
        }
      ]
    },
    {
      "cell_type": "code",
      "metadata": {
        "colab": {
          "base_uri": "https://localhost:8080/"
        },
        "id": "k-v9D8EB4Qac",
        "outputId": "edd668e9-241e-4d6a-81ea-801308b9a52a"
      },
      "source": [
        "prediction = model.predict(validation_x)\n",
        "calculate_error_rmse(pd.DataFrame(prediction).mul(scaler_y), validation_volatility)"
      ],
      "execution_count": 49,
      "outputs": [
        {
          "output_type": "execute_result",
          "data": {
            "text/plain": [
              "0.03193162502759505"
            ]
          },
          "metadata": {},
          "execution_count": 49
        }
      ]
    },
    {
      "cell_type": "code",
      "metadata": {
        "colab": {
          "base_uri": "https://localhost:8080/",
          "height": 282
        },
        "id": "UUzsORLM6DiO",
        "outputId": "7f790404-4137-4591-d51f-e579d0a9b362"
      },
      "source": [
        "plt.plot(history.history['val_mse'],label='Validation MSE')\n",
        "plt.plot(history.history['mse'],label='Training MSE')\n",
        "plt.legend()"
      ],
      "execution_count": 72,
      "outputs": [
        {
          "output_type": "execute_result",
          "data": {
            "text/plain": [
              "<matplotlib.legend.Legend at 0x7f89a3568c90>"
            ]
          },
          "metadata": {},
          "execution_count": 72
        },
        {
          "output_type": "display_data",
          "data": {
            "image/png": "[encoded data removed]",
            "text/plain": [
              "<Figure size 432x288 with 1 Axes>"
            ]
          },
          "metadata": {
            "needs_background": "light"
          }
        }
      ]
    },
    {
      "cell_type": "code",
      "metadata": {
        "id": "kz-e5CXi6aaP"
      },
      "source": [
        "model = tf.keras.models.Sequential([\n",
        "  tf.keras.layers.Dense(256,input_shape=[window_size]),\n",
        "  tf.keras.layers.Dense(128),\n",
        "  tf.keras.layers.Dense(1)\n",
        "])\n",
        "optimizer = tf.keras.optimizers.SGD(learning_rate=1e-5, momentum=0.9)\n",
        "model.compile(loss=tf.keras.losses.MeanSquaredError(),\n",
        "              optimizer=optimizer,\n",
        "              metrics=[\"mse\"])\n",
        "history = model.fit(train_dataset, epochs=100, validation_data=validation_dataset, verbose=0)"
      ],
      "execution_count": 73,
      "outputs": []
    },
    {
      "cell_type": "code",
      "metadata": {
        "colab": {
          "base_uri": "https://localhost:8080/",
          "height": 282
        },
        "id": "9jO0aWu290Uw",
        "outputId": "7c91f65c-820e-4932-fff4-4ef4a45f7ed8"
      },
      "source": [
        "plt.plot(history.history['val_mse'],label='Validation MSE')\n",
        "plt.plot(history.history['mse'],label='Training MSE')\n",
        "plt.legend()"
      ],
      "execution_count": 74,
      "outputs": [
        {
          "output_type": "execute_result",
          "data": {
            "text/plain": [
              "<matplotlib.legend.Legend at 0x7f899da4b410>"
            ]
          },
          "metadata": {},
          "execution_count": 74
        },
        {
          "output_type": "display_data",
          "data": {
            "image/png": "[encoded data removed]",
            "text/plain": [
              "<Figure size 432x288 with 1 Axes>"
            ]
          },
          "metadata": {
            "needs_background": "light"
          }
        }
      ]
    },
    {
      "cell_type": "code",
      "metadata": {
        "colab": {
          "base_uri": "https://localhost:8080/"
        },
        "id": "5uNRWt8J-D3x",
        "outputId": "ae18c84d-0048-4145-da9e-2575150b13bc"
      },
      "source": [
        "prediction = model.predict(validation_x)\n",
        "calculate_error_rmse(pd.DataFrame(prediction).mul(scaler_y), validation_volatility)"
      ],
      "execution_count": 75,
      "outputs": [
        {
          "output_type": "stream",
          "name": "stdout",
          "text": [
            "WARNING:tensorflow:5 out of the last 16 calls to <function Model.make_predict_function.<locals>.predict_function at 0x7f899f24b0e0> triggered tf.function retracing. Tracing is expensive and the excessive number of tracings could be due to (1) creating @tf.function repeatedly in a loop, (2) passing tensors with different shapes, (3) passing Python objects instead of tensors. For (1), please define your @tf.function outside of the loop. For (2), @tf.function has experimental_relax_shapes=True option that relaxes argument shapes that can avoid unnecessary retracing. For (3), please refer to https://www.tensorflow.org/guide/function#controlling_retracing and https://www.tensorflow.org/api_docs/python/tf/function for  more details.\n"
          ]
        },
        {
          "output_type": "execute_result",
          "data": {
            "text/plain": [
              "0.023669748462590318"
            ]
          },
          "metadata": {},
          "execution_count": 75
        }
      ]
    },
    {
      "cell_type": "code",
      "metadata": {
        "id": "mMhCe4OT-IRv"
      },
      "source": [
        "model = tf.keras.models.Sequential([\n",
        "  tf.keras.layers.Dense(256,input_shape=[window_size],activation=\"relu\"),\n",
        "  tf.keras.layers.Dense(128,activation=\"relu\"),\n",
        "  tf.keras.layers.Dense(1)\n",
        "])\n",
        "optimizer = tf.keras.optimizers.SGD(learning_rate=1e-5, momentum=0.9)\n",
        "model.compile(loss=tf.keras.losses.MeanSquaredError(),\n",
        "              optimizer=optimizer,\n",
        "              metrics=[\"mse\"])\n",
        "history = model.fit(train_dataset, epochs=100, validation_data=validation_dataset, verbose=0)"
      ],
      "execution_count": 76,
      "outputs": []
    },
    {
      "cell_type": "code",
      "metadata": {
        "colab": {
          "base_uri": "https://localhost:8080/",
          "height": 282
        },
        "id": "utcEObNh-sTL",
        "outputId": "25b825cf-6307-43a0-f0d3-fd23a78e446b"
      },
      "source": [
        "plt.plot(history.history['val_mse'],label='Validation MSE')\n",
        "plt.plot(history.history['mse'],label='Training MSE')\n",
        "plt.legend()"
      ],
      "execution_count": 77,
      "outputs": [
        {
          "output_type": "execute_result",
          "data": {
            "text/plain": [
              "<matplotlib.legend.Legend at 0x7f899f0fcdd0>"
            ]
          },
          "metadata": {},
          "execution_count": 77
        },
        {
          "output_type": "display_data",
          "data": {
            "image/png": "[encoded data removed]",
            "text/plain": [
              "<Figure size 432x288 with 1 Axes>"
            ]
          },
          "metadata": {
            "needs_background": "light"
          }
        }
      ]
    },
    {
      "cell_type": "code",
      "metadata": {
        "colab": {
          "base_uri": "https://localhost:8080/"
        },
        "id": "qPB97jyE-5ig",
        "outputId": "fa9d1528-7287-4832-ead1-0becdb0f1631"
      },
      "source": [
        "prediction = model.predict(validation_x)\n",
        "calculate_error_rmse(pd.DataFrame(prediction).mul(scaler_y), validation_volatility)"
      ],
      "execution_count": 78,
      "outputs": [
        {
          "output_type": "stream",
          "name": "stdout",
          "text": [
            "WARNING:tensorflow:5 out of the last 13 calls to <function Model.make_predict_function.<locals>.predict_function at 0x7f899f052680> triggered tf.function retracing. Tracing is expensive and the excessive number of tracings could be due to (1) creating @tf.function repeatedly in a loop, (2) passing tensors with different shapes, (3) passing Python objects instead of tensors. For (1), please define your @tf.function outside of the loop. For (2), @tf.function has experimental_relax_shapes=True option that relaxes argument shapes that can avoid unnecessary retracing. For (3), please refer to https://www.tensorflow.org/guide/function#controlling_retracing and https://www.tensorflow.org/api_docs/python/tf/function for  more details.\n"
          ]
        },
        {
          "output_type": "execute_result",
          "data": {
            "text/plain": [
              "0.023475703402842094"
            ]
          },
          "metadata": {},
          "execution_count": 78
        }
      ]
    },
    {
      "cell_type": "code",
      "metadata": {
        "id": "lTpGkVWS-8iW"
      },
      "source": [
        "model = tf.keras.models.Sequential([\n",
        "  tf.keras.layers.Dense(128,activation=\"relu\"),\n",
        "  tf.keras.layers.Dropout(0.2),\n",
        "  tf.keras.layers.Dense(1)\n",
        "])\n",
        "optimizer = tf.keras.optimizers.SGD(learning_rate=1e-5, momentum=0.9)\n",
        "model.compile(loss=tf.keras.losses.MeanSquaredError(),\n",
        "              optimizer=optimizer,\n",
        "              metrics=[\"mse\"])\n",
        "history = model.fit(train_dataset, epochs=100, validation_data=validation_dataset, verbose=0)"
      ],
      "execution_count": 82,
      "outputs": []
    },
    {
      "cell_type": "code",
      "metadata": {
        "colab": {
          "base_uri": "https://localhost:8080/",
          "height": 282
        },
        "id": "xJUk7Rlh_KKS",
        "outputId": "e6fe7b9c-b2ae-44a6-9658-7d7a5f2b6d4e"
      },
      "source": [
        "plt.plot(history.history['val_mse'],label='Validation MSE')\n",
        "plt.plot(history.history['mse'],label='Training MSE')\n",
        "plt.legend()"
      ],
      "execution_count": 83,
      "outputs": [
        {
          "output_type": "execute_result",
          "data": {
            "text/plain": [
              "<matplotlib.legend.Legend at 0x7f899f015390>"
            ]
          },
          "metadata": {},
          "execution_count": 83
        },
        {
          "output_type": "display_data",
          "data": {
            "image/png": "[encoded data removed]",
            "text/plain": [
              "<Figure size 432x288 with 1 Axes>"
            ]
          },
          "metadata": {
            "needs_background": "light"
          }
        }
      ]
    },
    {
      "cell_type": "code",
      "metadata": {
        "colab": {
          "base_uri": "https://localhost:8080/"
        },
        "id": "Qudk5Bcv_OfV",
        "outputId": "03601d0f-17ba-406c-8f04-1cd5405a8b70"
      },
      "source": [
        "prediction = model.predict(validation_x)\n",
        "calculate_error_rmse(pd.DataFrame(prediction).mul(scaler_y), validation_volatility)"
      ],
      "execution_count": 84,
      "outputs": [
        {
          "output_type": "execute_result",
          "data": {
            "text/plain": [
              "0.02351698303418633"
            ]
          },
          "metadata": {},
          "execution_count": 84
        }
      ]
    },
    {
      "cell_type": "markdown",
      "metadata": {
        "id": "ou-DlAp7By24"
      },
      "source": [
        "## Add in Squared-Feature"
      ]
    },
    {
      "cell_type": "code",
      "metadata": {
        "id": "2r7KmM1w_SVs"
      },
      "source": [
        "window_size = forward_window\n",
        "batch_size = 32\n",
        "shuffle_buffer=1000\n",
        "\n",
        "train_x = rolling(weekly_data_returns.WILL5000IND_Ret[training_dates].values, window_size)\n",
        "scaler_x = train_x.std()\n",
        "train_x = train_x / scaler_x\n",
        "scaler_x2 = (train_x**2).std()\n",
        "train_x2 = (train_x**2) / scaler_x2\n",
        "train_y = training_volatility.WILL5000IND_Ret_Realized_Vol.values[window_size-1:][:,None]\n",
        "scaler_y = train_y.std()\n",
        "train_y = train_y / scaler_y\n",
        "\n",
        "train_data = np.hstack((train_x,train_x2,train_y))\n",
        "\n",
        "validation_x = rolling(weekly_data_returns[weekly_data_returns.index <= validation_dates[-1]].WILL5000IND_Ret.values, window_size)[-len(validation_dates):]\n",
        "validation_y = validation_volatility.WILL5000IND_Ret_Realized_Vol.values[:,None]\n",
        "validation_x = validation_x / scaler_x\n",
        "validation_x2 = (validation_x**2) / scaler_x2\n",
        "validation_y = validation_y / scaler_y\n",
        "validation_data = np.hstack((validation_x,validation_x2,validation_y))\n",
        "\n",
        "\n",
        "train_dataset = tf.data.Dataset.from_tensor_slices(train_data)\n",
        "train_dataset = train_dataset.shuffle(shuffle_buffer)\n",
        "train_dataset = train_dataset.map(lambda window: (window[:-1], window[-1]))\n",
        "train_dataset = train_dataset.batch(batch_size).prefetch(1)\n",
        "\n",
        "validation_dataset = tf.data.Dataset.from_tensor_slices(validation_data)\n",
        "validation_dataset = validation_dataset.map(lambda window: (window[:-1], window[-1]))\n",
        "validation_dataset = validation_dataset.batch(batch_size).prefetch(1)\n"
      ],
      "execution_count": 85,
      "outputs": []
    },
    {
      "cell_type": "code",
      "metadata": {
        "colab": {
          "base_uri": "https://localhost:8080/"
        },
        "id": "HWs55CtnFMEu",
        "outputId": "4549f999-260f-4fd9-fed0-b7434d87b142"
      },
      "source": [
        "model = tf.keras.models.Sequential([\n",
        "  tf.keras.layers.Dense(256,activation=\"relu\"),\n",
        "  tf.keras.layers.Dropout(0.2),\n",
        "  tf.keras.layers.Dense(1)\n",
        "])\n",
        "optimizer = tf.keras.optimizers.SGD(learning_rate=1e-5, momentum=0.9)\n",
        "model.compile(loss=tf.keras.losses.MeanSquaredError(),\n",
        "              optimizer=optimizer,\n",
        "              metrics=[\"mse\"])\n",
        "history = model.fit(train_dataset, epochs=500, validation_data=validation_dataset, verbose=1)"
      ],
      "execution_count": 95,
      "outputs": [
        {
          "output_type": "stream",
          "name": "stdout",
          "text": [
            "Epoch 1/500\n",
            "33/33 [==============================] - 0s 5ms/step - loss: 3.8898 - mse: 3.8898 - val_loss: 8.9094 - val_mse: 8.9094\n",
            "Epoch 2/500\n",
            "33/33 [==============================] - 0s 3ms/step - loss: 3.5167 - mse: 3.5167 - val_loss: 8.3123 - val_mse: 8.3123\n",
            "Epoch 3/500\n",
            "33/33 [==============================] - 0s 3ms/step - loss: 3.3497 - mse: 3.3497 - val_loss: 7.7378 - val_mse: 7.7378\n",
            "Epoch 4/500\n",
            "33/33 [==============================] - 0s 3ms/step - loss: 3.0663 - mse: 3.0663 - val_loss: 7.2697 - val_mse: 7.2697\n",
            "Epoch 5/500\n",
            "33/33 [==============================] - 0s 3ms/step - loss: 2.8674 - mse: 2.8674 - val_loss: 6.8824 - val_mse: 6.8824\n",
            "Epoch 6/500\n",
            "33/33 [==============================] - 0s 3ms/step - loss: 2.7246 - mse: 2.7246 - val_loss: 6.5365 - val_mse: 6.5365\n",
            "Epoch 7/500\n",
            "33/33 [==============================] - 0s 3ms/step - loss: 2.5637 - mse: 2.5637 - val_loss: 6.2510 - val_mse: 6.2510\n",
            "Epoch 8/500\n",
            "33/33 [==============================] - 0s 3ms/step - loss: 2.3874 - mse: 2.3874 - val_loss: 6.0165 - val_mse: 6.0165\n",
            "Epoch 9/500\n",
            "33/33 [==============================] - 0s 2ms/step - loss: 2.2843 - mse: 2.2843 - val_loss: 5.8183 - val_mse: 5.8183\n",
            "Epoch 10/500\n",
            "33/33 [==============================] - 0s 3ms/step - loss: 2.1888 - mse: 2.1888 - val_loss: 5.6524 - val_mse: 5.6524\n",
            "Epoch 11/500\n",
            "33/33 [==============================] - 0s 3ms/step - loss: 2.0675 - mse: 2.0675 - val_loss: 5.5098 - val_mse: 5.5098\n",
            "Epoch 12/500\n",
            "33/33 [==============================] - 0s 3ms/step - loss: 1.9932 - mse: 1.9932 - val_loss: 5.3948 - val_mse: 5.3948\n",
            "Epoch 13/500\n",
            "33/33 [==============================] - 0s 3ms/step - loss: 1.9240 - mse: 1.9240 - val_loss: 5.3009 - val_mse: 5.3009\n",
            "Epoch 14/500\n",
            "33/33 [==============================] - 0s 3ms/step - loss: 1.8390 - mse: 1.8390 - val_loss: 5.2259 - val_mse: 5.2259\n",
            "Epoch 15/500\n",
            "33/33 [==============================] - 0s 3ms/step - loss: 1.7433 - mse: 1.7433 - val_loss: 5.1610 - val_mse: 5.1610\n",
            "Epoch 16/500\n",
            "33/33 [==============================] - 0s 3ms/step - loss: 1.6996 - mse: 1.6996 - val_loss: 5.1089 - val_mse: 5.1089\n",
            "Epoch 17/500\n",
            "33/33 [==============================] - 0s 3ms/step - loss: 1.6731 - mse: 1.6731 - val_loss: 5.0688 - val_mse: 5.0688\n",
            "Epoch 18/500\n",
            "33/33 [==============================] - 0s 3ms/step - loss: 1.6054 - mse: 1.6054 - val_loss: 5.0382 - val_mse: 5.0382\n",
            "Epoch 19/500\n",
            "33/33 [==============================] - 0s 3ms/step - loss: 1.5762 - mse: 1.5762 - val_loss: 5.0133 - val_mse: 5.0133\n",
            "Epoch 20/500\n",
            "33/33 [==============================] - 0s 2ms/step - loss: 1.5193 - mse: 1.5193 - val_loss: 4.9957 - val_mse: 4.9957\n",
            "Epoch 21/500\n",
            "33/33 [==============================] - 0s 3ms/step - loss: 1.5009 - mse: 1.5009 - val_loss: 4.9852 - val_mse: 4.9852\n",
            "Epoch 22/500\n",
            "33/33 [==============================] - 0s 3ms/step - loss: 1.4778 - mse: 1.4778 - val_loss: 4.9734 - val_mse: 4.9734\n",
            "Epoch 23/500\n",
            "33/33 [==============================] - 0s 2ms/step - loss: 1.4648 - mse: 1.4648 - val_loss: 4.9645 - val_mse: 4.9645\n",
            "Epoch 24/500\n",
            "33/33 [==============================] - 0s 3ms/step - loss: 1.4052 - mse: 1.4052 - val_loss: 4.9595 - val_mse: 4.9595\n",
            "Epoch 25/500\n",
            "33/33 [==============================] - 0s 3ms/step - loss: 1.3899 - mse: 1.3899 - val_loss: 4.9564 - val_mse: 4.9564\n",
            "Epoch 26/500\n",
            "33/33 [==============================] - 0s 3ms/step - loss: 1.3775 - mse: 1.3775 - val_loss: 4.9539 - val_mse: 4.9539\n",
            "Epoch 27/500\n",
            "33/33 [==============================] - 0s 3ms/step - loss: 1.3834 - mse: 1.3834 - val_loss: 4.9491 - val_mse: 4.9491\n",
            "Epoch 28/500\n",
            "33/33 [==============================] - 0s 3ms/step - loss: 1.3101 - mse: 1.3101 - val_loss: 4.9488 - val_mse: 4.9488\n",
            "Epoch 29/500\n",
            "33/33 [==============================] - 0s 3ms/step - loss: 1.3425 - mse: 1.3425 - val_loss: 4.9443 - val_mse: 4.9443\n",
            "Epoch 30/500\n",
            "33/33 [==============================] - 0s 3ms/step - loss: 1.2844 - mse: 1.2844 - val_loss: 4.9457 - val_mse: 4.9457\n",
            "Epoch 31/500\n",
            "33/33 [==============================] - 0s 3ms/step - loss: 1.2621 - mse: 1.2621 - val_loss: 4.9511 - val_mse: 4.9511\n",
            "Epoch 32/500\n",
            "33/33 [==============================] - 0s 4ms/step - loss: 1.2697 - mse: 1.2697 - val_loss: 4.9524 - val_mse: 4.9524\n",
            "Epoch 33/500\n",
            "33/33 [==============================] - 0s 2ms/step - loss: 1.2691 - mse: 1.2691 - val_loss: 4.9506 - val_mse: 4.9506\n",
            "Epoch 34/500\n",
            "33/33 [==============================] - 0s 3ms/step - loss: 1.2318 - mse: 1.2318 - val_loss: 4.9447 - val_mse: 4.9447\n",
            "Epoch 35/500\n",
            "33/33 [==============================] - 0s 3ms/step - loss: 1.2175 - mse: 1.2175 - val_loss: 4.9489 - val_mse: 4.9489\n",
            "Epoch 36/500\n",
            "33/33 [==============================] - 0s 2ms/step - loss: 1.2457 - mse: 1.2457 - val_loss: 4.9399 - val_mse: 4.9399\n",
            "Epoch 37/500\n",
            "33/33 [==============================] - 0s 3ms/step - loss: 1.2330 - mse: 1.2330 - val_loss: 4.9378 - val_mse: 4.9378\n",
            "Epoch 38/500\n",
            "33/33 [==============================] - 0s 3ms/step - loss: 1.2301 - mse: 1.2301 - val_loss: 4.9369 - val_mse: 4.9369\n",
            "Epoch 39/500\n",
            "33/33 [==============================] - 0s 3ms/step - loss: 1.1837 - mse: 1.1837 - val_loss: 4.9308 - val_mse: 4.9308\n",
            "Epoch 40/500\n",
            "33/33 [==============================] - 0s 3ms/step - loss: 1.2047 - mse: 1.2047 - val_loss: 4.9258 - val_mse: 4.9258\n",
            "Epoch 41/500\n",
            "33/33 [==============================] - 0s 3ms/step - loss: 1.1494 - mse: 1.1494 - val_loss: 4.9257 - val_mse: 4.9257\n",
            "Epoch 42/500\n",
            "33/33 [==============================] - 0s 3ms/step - loss: 1.1643 - mse: 1.1643 - val_loss: 4.9223 - val_mse: 4.9223\n",
            "Epoch 43/500\n",
            "33/33 [==============================] - 0s 3ms/step - loss: 1.1656 - mse: 1.1656 - val_loss: 4.9183 - val_mse: 4.9183\n",
            "Epoch 44/500\n",
            "33/33 [==============================] - 0s 3ms/step - loss: 1.1440 - mse: 1.1440 - val_loss: 4.9076 - val_mse: 4.9076\n",
            "Epoch 45/500\n",
            "33/33 [==============================] - 0s 3ms/step - loss: 1.1330 - mse: 1.1330 - val_loss: 4.9029 - val_mse: 4.9029\n",
            "Epoch 46/500\n",
            "33/33 [==============================] - 0s 3ms/step - loss: 1.1289 - mse: 1.1289 - val_loss: 4.8996 - val_mse: 4.8996\n",
            "Epoch 47/500\n",
            "33/33 [==============================] - 0s 3ms/step - loss: 1.1295 - mse: 1.1295 - val_loss: 4.8922 - val_mse: 4.8922\n",
            "Epoch 48/500\n",
            "33/33 [==============================] - 0s 3ms/step - loss: 1.1381 - mse: 1.1381 - val_loss: 4.8713 - val_mse: 4.8713\n",
            "Epoch 49/500\n",
            "33/33 [==============================] - 0s 3ms/step - loss: 1.1749 - mse: 1.1749 - val_loss: 4.8555 - val_mse: 4.8555\n",
            "Epoch 50/500\n",
            "33/33 [==============================] - 0s 3ms/step - loss: 1.0850 - mse: 1.0850 - val_loss: 4.8546 - val_mse: 4.8546\n",
            "Epoch 51/500\n",
            "33/33 [==============================] - 0s 2ms/step - loss: 1.1152 - mse: 1.1152 - val_loss: 4.8291 - val_mse: 4.8291\n",
            "Epoch 52/500\n",
            "33/33 [==============================] - 0s 3ms/step - loss: 1.0856 - mse: 1.0856 - val_loss: 4.8224 - val_mse: 4.8224\n",
            "Epoch 53/500\n",
            "33/33 [==============================] - 0s 3ms/step - loss: 1.1096 - mse: 1.1096 - val_loss: 4.8104 - val_mse: 4.8104\n",
            "Epoch 54/500\n",
            "33/33 [==============================] - 0s 3ms/step - loss: 1.0462 - mse: 1.0462 - val_loss: 4.7986 - val_mse: 4.7986\n",
            "Epoch 55/500\n",
            "33/33 [==============================] - 0s 3ms/step - loss: 1.0761 - mse: 1.0761 - val_loss: 4.7906 - val_mse: 4.7906\n",
            "Epoch 56/500\n",
            "33/33 [==============================] - 0s 3ms/step - loss: 1.0669 - mse: 1.0669 - val_loss: 4.7755 - val_mse: 4.7755\n",
            "Epoch 57/500\n",
            "33/33 [==============================] - 0s 3ms/step - loss: 1.0606 - mse: 1.0606 - val_loss: 4.7615 - val_mse: 4.7615\n",
            "Epoch 58/500\n",
            "33/33 [==============================] - 0s 3ms/step - loss: 1.0239 - mse: 1.0239 - val_loss: 4.7588 - val_mse: 4.7588\n",
            "Epoch 59/500\n",
            "33/33 [==============================] - 0s 3ms/step - loss: 1.0284 - mse: 1.0284 - val_loss: 4.7506 - val_mse: 4.7506\n",
            "Epoch 60/500\n",
            "33/33 [==============================] - 0s 3ms/step - loss: 1.0267 - mse: 1.0267 - val_loss: 4.7401 - val_mse: 4.7401\n",
            "Epoch 61/500\n",
            "33/33 [==============================] - 0s 3ms/step - loss: 1.0518 - mse: 1.0518 - val_loss: 4.7346 - val_mse: 4.7346\n",
            "Epoch 62/500\n",
            "33/33 [==============================] - 0s 3ms/step - loss: 1.0332 - mse: 1.0332 - val_loss: 4.7235 - val_mse: 4.7235\n",
            "Epoch 63/500\n",
            "33/33 [==============================] - 0s 3ms/step - loss: 1.0593 - mse: 1.0593 - val_loss: 4.7148 - val_mse: 4.7148\n",
            "Epoch 64/500\n",
            "33/33 [==============================] - 0s 3ms/step - loss: 1.0380 - mse: 1.0380 - val_loss: 4.6898 - val_mse: 4.6898\n",
            "Epoch 65/500\n",
            "33/33 [==============================] - 0s 3ms/step - loss: 0.9743 - mse: 0.9743 - val_loss: 4.6862 - val_mse: 4.6862\n",
            "Epoch 66/500\n",
            "33/33 [==============================] - 0s 3ms/step - loss: 1.0103 - mse: 1.0103 - val_loss: 4.6760 - val_mse: 4.6760\n",
            "Epoch 67/500\n",
            "33/33 [==============================] - 0s 3ms/step - loss: 1.0119 - mse: 1.0119 - val_loss: 4.6601 - val_mse: 4.6601\n",
            "Epoch 68/500\n",
            "33/33 [==============================] - 0s 3ms/step - loss: 0.9827 - mse: 0.9827 - val_loss: 4.6502 - val_mse: 4.6502\n",
            "Epoch 69/500\n",
            "33/33 [==============================] - 0s 2ms/step - loss: 1.0162 - mse: 1.0162 - val_loss: 4.6439 - val_mse: 4.6439\n",
            "Epoch 70/500\n",
            "33/33 [==============================] - 0s 2ms/step - loss: 1.0281 - mse: 1.0281 - val_loss: 4.6247 - val_mse: 4.6247\n",
            "Epoch 71/500\n",
            "33/33 [==============================] - 0s 3ms/step - loss: 0.9999 - mse: 0.9999 - val_loss: 4.6027 - val_mse: 4.6027\n",
            "Epoch 72/500\n",
            "33/33 [==============================] - 0s 3ms/step - loss: 1.0460 - mse: 1.0460 - val_loss: 4.5871 - val_mse: 4.5871\n",
            "Epoch 73/500\n",
            "33/33 [==============================] - 0s 3ms/step - loss: 0.9922 - mse: 0.9922 - val_loss: 4.5738 - val_mse: 4.5738\n",
            "Epoch 74/500\n",
            "33/33 [==============================] - 0s 3ms/step - loss: 1.0364 - mse: 1.0364 - val_loss: 4.5461 - val_mse: 4.5461\n",
            "Epoch 75/500\n",
            "33/33 [==============================] - 0s 3ms/step - loss: 1.0053 - mse: 1.0053 - val_loss: 4.5301 - val_mse: 4.5301\n",
            "Epoch 76/500\n",
            "33/33 [==============================] - 0s 3ms/step - loss: 0.9874 - mse: 0.9874 - val_loss: 4.5261 - val_mse: 4.5261\n",
            "Epoch 77/500\n",
            "33/33 [==============================] - 0s 3ms/step - loss: 1.0152 - mse: 1.0152 - val_loss: 4.5048 - val_mse: 4.5048\n",
            "Epoch 78/500\n",
            "33/33 [==============================] - 0s 3ms/step - loss: 0.9868 - mse: 0.9868 - val_loss: 4.4796 - val_mse: 4.4796\n",
            "Epoch 79/500\n",
            "33/33 [==============================] - 0s 3ms/step - loss: 0.9919 - mse: 0.9919 - val_loss: 4.4625 - val_mse: 4.4625\n",
            "Epoch 80/500\n",
            "33/33 [==============================] - 0s 3ms/step - loss: 0.9819 - mse: 0.9819 - val_loss: 4.4583 - val_mse: 4.4583\n",
            "Epoch 81/500\n",
            "33/33 [==============================] - 0s 3ms/step - loss: 1.0036 - mse: 1.0036 - val_loss: 4.4343 - val_mse: 4.4343\n",
            "Epoch 82/500\n",
            "33/33 [==============================] - 0s 3ms/step - loss: 0.9933 - mse: 0.9933 - val_loss: 4.4212 - val_mse: 4.4212\n",
            "Epoch 83/500\n",
            "33/33 [==============================] - 0s 3ms/step - loss: 0.9381 - mse: 0.9381 - val_loss: 4.4124 - val_mse: 4.4124\n",
            "Epoch 84/500\n",
            "33/33 [==============================] - 0s 3ms/step - loss: 0.9646 - mse: 0.9646 - val_loss: 4.3962 - val_mse: 4.3962\n",
            "Epoch 85/500\n",
            "33/33 [==============================] - 0s 3ms/step - loss: 0.9393 - mse: 0.9393 - val_loss: 4.3963 - val_mse: 4.3963\n",
            "Epoch 86/500\n",
            "33/33 [==============================] - 0s 3ms/step - loss: 0.9579 - mse: 0.9579 - val_loss: 4.3800 - val_mse: 4.3800\n",
            "Epoch 87/500\n",
            "33/33 [==============================] - 0s 3ms/step - loss: 0.9730 - mse: 0.9730 - val_loss: 4.3627 - val_mse: 4.3627\n",
            "Epoch 88/500\n",
            "33/33 [==============================] - 0s 3ms/step - loss: 0.9329 - mse: 0.9329 - val_loss: 4.3512 - val_mse: 4.3512\n",
            "Epoch 89/500\n",
            "33/33 [==============================] - 0s 3ms/step - loss: 0.9283 - mse: 0.9283 - val_loss: 4.3477 - val_mse: 4.3477\n",
            "Epoch 90/500\n",
            "33/33 [==============================] - 0s 3ms/step - loss: 0.9445 - mse: 0.9445 - val_loss: 4.3406 - val_mse: 4.3406\n",
            "Epoch 91/500\n",
            "33/33 [==============================] - 0s 3ms/step - loss: 0.9267 - mse: 0.9267 - val_loss: 4.3322 - val_mse: 4.3322\n",
            "Epoch 92/500\n",
            "33/33 [==============================] - 0s 3ms/step - loss: 0.9352 - mse: 0.9352 - val_loss: 4.3180 - val_mse: 4.3180\n",
            "Epoch 93/500\n",
            "33/33 [==============================] - 0s 3ms/step - loss: 0.9560 - mse: 0.9560 - val_loss: 4.3090 - val_mse: 4.3090\n",
            "Epoch 94/500\n",
            "33/33 [==============================] - 0s 2ms/step - loss: 0.9589 - mse: 0.9589 - val_loss: 4.2936 - val_mse: 4.2936\n",
            "Epoch 95/500\n",
            "33/33 [==============================] - 0s 2ms/step - loss: 0.9297 - mse: 0.9297 - val_loss: 4.2815 - val_mse: 4.2815\n",
            "Epoch 96/500\n",
            "33/33 [==============================] - 0s 3ms/step - loss: 0.9232 - mse: 0.9232 - val_loss: 4.2677 - val_mse: 4.2677\n",
            "Epoch 97/500\n",
            "33/33 [==============================] - 0s 3ms/step - loss: 0.9049 - mse: 0.9049 - val_loss: 4.2541 - val_mse: 4.2541\n",
            "Epoch 98/500\n",
            "33/33 [==============================] - 0s 3ms/step - loss: 0.9076 - mse: 0.9076 - val_loss: 4.2470 - val_mse: 4.2470\n",
            "Epoch 99/500\n",
            "33/33 [==============================] - 0s 3ms/step - loss: 0.9023 - mse: 0.9023 - val_loss: 4.2389 - val_mse: 4.2389\n",
            "Epoch 100/500\n",
            "33/33 [==============================] - 0s 3ms/step - loss: 0.8913 - mse: 0.8913 - val_loss: 4.2321 - val_mse: 4.2321\n",
            "Epoch 101/500\n",
            "33/33 [==============================] - 0s 3ms/step - loss: 0.9471 - mse: 0.9471 - val_loss: 4.2264 - val_mse: 4.2264\n",
            "Epoch 102/500\n",
            "33/33 [==============================] - 0s 3ms/step - loss: 0.8919 - mse: 0.8919 - val_loss: 4.2080 - val_mse: 4.2080\n",
            "Epoch 103/500\n",
            "33/33 [==============================] - 0s 3ms/step - loss: 0.9316 - mse: 0.9316 - val_loss: 4.1963 - val_mse: 4.1963\n",
            "Epoch 104/500\n",
            "33/33 [==============================] - 0s 3ms/step - loss: 0.8769 - mse: 0.8769 - val_loss: 4.1841 - val_mse: 4.1841\n",
            "Epoch 105/500\n",
            "33/33 [==============================] - 0s 3ms/step - loss: 0.9076 - mse: 0.9076 - val_loss: 4.1833 - val_mse: 4.1833\n",
            "Epoch 106/500\n",
            "33/33 [==============================] - 0s 2ms/step - loss: 0.8958 - mse: 0.8958 - val_loss: 4.1742 - val_mse: 4.1742\n",
            "Epoch 107/500\n",
            "33/33 [==============================] - 0s 4ms/step - loss: 0.9181 - mse: 0.9181 - val_loss: 4.1621 - val_mse: 4.1621\n",
            "Epoch 108/500\n",
            "33/33 [==============================] - 0s 3ms/step - loss: 0.8846 - mse: 0.8846 - val_loss: 4.1555 - val_mse: 4.1555\n",
            "Epoch 109/500\n",
            "33/33 [==============================] - 0s 3ms/step - loss: 0.8821 - mse: 0.8821 - val_loss: 4.1498 - val_mse: 4.1498\n",
            "Epoch 110/500\n",
            "33/33 [==============================] - 0s 3ms/step - loss: 0.8737 - mse: 0.8737 - val_loss: 4.1318 - val_mse: 4.1318\n",
            "Epoch 111/500\n",
            "33/33 [==============================] - 0s 3ms/step - loss: 0.8764 - mse: 0.8764 - val_loss: 4.1258 - val_mse: 4.1258\n",
            "Epoch 112/500\n",
            "33/33 [==============================] - 0s 3ms/step - loss: 0.8715 - mse: 0.8715 - val_loss: 4.1199 - val_mse: 4.1199\n",
            "Epoch 113/500\n",
            "33/33 [==============================] - 0s 2ms/step - loss: 0.8910 - mse: 0.8910 - val_loss: 4.1088 - val_mse: 4.1088\n",
            "Epoch 114/500\n",
            "33/33 [==============================] - 0s 3ms/step - loss: 0.8654 - mse: 0.8654 - val_loss: 4.0981 - val_mse: 4.0981\n",
            "Epoch 115/500\n",
            "33/33 [==============================] - 0s 3ms/step - loss: 0.8632 - mse: 0.8632 - val_loss: 4.0870 - val_mse: 4.0870\n",
            "Epoch 116/500\n",
            "33/33 [==============================] - 0s 3ms/step - loss: 0.9038 - mse: 0.9038 - val_loss: 4.0774 - val_mse: 4.0774\n",
            "Epoch 117/500\n",
            "33/33 [==============================] - 0s 3ms/step - loss: 0.8769 - mse: 0.8769 - val_loss: 4.0677 - val_mse: 4.0677\n",
            "Epoch 118/500\n",
            "33/33 [==============================] - 0s 3ms/step - loss: 0.8779 - mse: 0.8779 - val_loss: 4.0608 - val_mse: 4.0608\n",
            "Epoch 119/500\n",
            "33/33 [==============================] - 0s 3ms/step - loss: 0.8720 - mse: 0.8720 - val_loss: 4.0544 - val_mse: 4.0544\n",
            "Epoch 120/500\n",
            "33/33 [==============================] - 0s 3ms/step - loss: 0.8445 - mse: 0.8445 - val_loss: 4.0531 - val_mse: 4.0531\n",
            "Epoch 121/500\n",
            "33/33 [==============================] - 0s 3ms/step - loss: 0.8488 - mse: 0.8488 - val_loss: 4.0469 - val_mse: 4.0469\n",
            "Epoch 122/500\n",
            "33/33 [==============================] - 0s 3ms/step - loss: 0.8348 - mse: 0.8348 - val_loss: 4.0456 - val_mse: 4.0456\n",
            "Epoch 123/500\n",
            "33/33 [==============================] - 0s 3ms/step - loss: 0.8601 - mse: 0.8601 - val_loss: 4.0381 - val_mse: 4.0381\n",
            "Epoch 124/500\n",
            "33/33 [==============================] - 0s 3ms/step - loss: 0.8459 - mse: 0.8459 - val_loss: 4.0292 - val_mse: 4.0292\n",
            "Epoch 125/500\n",
            "33/33 [==============================] - 0s 3ms/step - loss: 0.8570 - mse: 0.8570 - val_loss: 4.0188 - val_mse: 4.0188\n",
            "Epoch 126/500\n",
            "33/33 [==============================] - 0s 3ms/step - loss: 0.8589 - mse: 0.8589 - val_loss: 4.0144 - val_mse: 4.0144\n",
            "Epoch 127/500\n",
            "33/33 [==============================] - 0s 3ms/step - loss: 0.8490 - mse: 0.8490 - val_loss: 4.0039 - val_mse: 4.0039\n",
            "Epoch 128/500\n",
            "33/33 [==============================] - 0s 3ms/step - loss: 0.8611 - mse: 0.8611 - val_loss: 3.9977 - val_mse: 3.9977\n",
            "Epoch 129/500\n",
            "33/33 [==============================] - 0s 3ms/step - loss: 0.8719 - mse: 0.8719 - val_loss: 3.9931 - val_mse: 3.9931\n",
            "Epoch 130/500\n",
            "33/33 [==============================] - 0s 3ms/step - loss: 0.8769 - mse: 0.8769 - val_loss: 3.9813 - val_mse: 3.9813\n",
            "Epoch 131/500\n",
            "33/33 [==============================] - 0s 3ms/step - loss: 0.8759 - mse: 0.8759 - val_loss: 3.9702 - val_mse: 3.9702\n",
            "Epoch 132/500\n",
            "33/33 [==============================] - 0s 3ms/step - loss: 0.8313 - mse: 0.8313 - val_loss: 3.9633 - val_mse: 3.9633\n",
            "Epoch 133/500\n",
            "33/33 [==============================] - 0s 3ms/step - loss: 0.8448 - mse: 0.8448 - val_loss: 3.9561 - val_mse: 3.9561\n",
            "Epoch 134/500\n",
            "33/33 [==============================] - 0s 3ms/step - loss: 0.8477 - mse: 0.8477 - val_loss: 3.9458 - val_mse: 3.9458\n",
            "Epoch 135/500\n",
            "33/33 [==============================] - 0s 3ms/step - loss: 0.8436 - mse: 0.8436 - val_loss: 3.9391 - val_mse: 3.9391\n",
            "Epoch 136/500\n",
            "33/33 [==============================] - 0s 3ms/step - loss: 0.8311 - mse: 0.8311 - val_loss: 3.9328 - val_mse: 3.9328\n",
            "Epoch 137/500\n",
            "33/33 [==============================] - 0s 3ms/step - loss: 0.8418 - mse: 0.8418 - val_loss: 3.9278 - val_mse: 3.9278\n",
            "Epoch 138/500\n",
            "33/33 [==============================] - 0s 3ms/step - loss: 0.8519 - mse: 0.8519 - val_loss: 3.9182 - val_mse: 3.9182\n",
            "Epoch 139/500\n",
            "33/33 [==============================] - 0s 3ms/step - loss: 0.8400 - mse: 0.8400 - val_loss: 3.9132 - val_mse: 3.9132\n",
            "Epoch 140/500\n",
            "33/33 [==============================] - 0s 3ms/step - loss: 0.8450 - mse: 0.8450 - val_loss: 3.9068 - val_mse: 3.9068\n",
            "Epoch 141/500\n",
            "33/33 [==============================] - 0s 3ms/step - loss: 0.8187 - mse: 0.8187 - val_loss: 3.9057 - val_mse: 3.9057\n",
            "Epoch 142/500\n",
            "33/33 [==============================] - 0s 3ms/step - loss: 0.8366 - mse: 0.8366 - val_loss: 3.9000 - val_mse: 3.9000\n",
            "Epoch 143/500\n",
            "33/33 [==============================] - 0s 3ms/step - loss: 0.8187 - mse: 0.8187 - val_loss: 3.8896 - val_mse: 3.8896\n",
            "Epoch 144/500\n",
            "33/33 [==============================] - 0s 2ms/step - loss: 0.8298 - mse: 0.8298 - val_loss: 3.8794 - val_mse: 3.8794\n",
            "Epoch 145/500\n",
            "33/33 [==============================] - 0s 3ms/step - loss: 0.8428 - mse: 0.8428 - val_loss: 3.8757 - val_mse: 3.8757\n",
            "Epoch 146/500\n",
            "33/33 [==============================] - 0s 3ms/step - loss: 0.8332 - mse: 0.8332 - val_loss: 3.8709 - val_mse: 3.8709\n",
            "Epoch 147/500\n",
            "33/33 [==============================] - 0s 3ms/step - loss: 0.8589 - mse: 0.8589 - val_loss: 3.8646 - val_mse: 3.8646\n",
            "Epoch 148/500\n",
            "33/33 [==============================] - 0s 4ms/step - loss: 0.8236 - mse: 0.8236 - val_loss: 3.8591 - val_mse: 3.8591\n",
            "Epoch 149/500\n",
            "33/33 [==============================] - 0s 3ms/step - loss: 0.8329 - mse: 0.8329 - val_loss: 3.8538 - val_mse: 3.8538\n",
            "Epoch 150/500\n",
            "33/33 [==============================] - 0s 3ms/step - loss: 0.8258 - mse: 0.8258 - val_loss: 3.8439 - val_mse: 3.8439\n",
            "Epoch 151/500\n",
            "33/33 [==============================] - 0s 3ms/step - loss: 0.8378 - mse: 0.8378 - val_loss: 3.8407 - val_mse: 3.8407\n",
            "Epoch 152/500\n",
            "33/33 [==============================] - 0s 3ms/step - loss: 0.8065 - mse: 0.8065 - val_loss: 3.8364 - val_mse: 3.8364\n",
            "Epoch 153/500\n",
            "33/33 [==============================] - 0s 3ms/step - loss: 0.8075 - mse: 0.8075 - val_loss: 3.8352 - val_mse: 3.8352\n",
            "Epoch 154/500\n",
            "33/33 [==============================] - 0s 2ms/step - loss: 0.8400 - mse: 0.8400 - val_loss: 3.8306 - val_mse: 3.8306\n",
            "Epoch 155/500\n",
            "33/33 [==============================] - 0s 3ms/step - loss: 0.8108 - mse: 0.8108 - val_loss: 3.8249 - val_mse: 3.8249\n",
            "Epoch 156/500\n",
            "33/33 [==============================] - 0s 3ms/step - loss: 0.8265 - mse: 0.8265 - val_loss: 3.8156 - val_mse: 3.8156\n",
            "Epoch 157/500\n",
            "33/33 [==============================] - 0s 3ms/step - loss: 0.8210 - mse: 0.8210 - val_loss: 3.8115 - val_mse: 3.8115\n",
            "Epoch 158/500\n",
            "33/33 [==============================] - 0s 3ms/step - loss: 0.8286 - mse: 0.8286 - val_loss: 3.8031 - val_mse: 3.8031\n",
            "Epoch 159/500\n",
            "33/33 [==============================] - 0s 3ms/step - loss: 0.8097 - mse: 0.8097 - val_loss: 3.8002 - val_mse: 3.8002\n",
            "Epoch 160/500\n",
            "33/33 [==============================] - 0s 2ms/step - loss: 0.7962 - mse: 0.7962 - val_loss: 3.8006 - val_mse: 3.8006\n",
            "Epoch 161/500\n",
            "33/33 [==============================] - 0s 3ms/step - loss: 0.8338 - mse: 0.8338 - val_loss: 3.7937 - val_mse: 3.7937\n",
            "Epoch 162/500\n",
            "33/33 [==============================] - 0s 3ms/step - loss: 0.8079 - mse: 0.8079 - val_loss: 3.7891 - val_mse: 3.7891\n",
            "Epoch 163/500\n",
            "33/33 [==============================] - 0s 3ms/step - loss: 0.8465 - mse: 0.8465 - val_loss: 3.7815 - val_mse: 3.7815\n",
            "Epoch 164/500\n",
            "33/33 [==============================] - 0s 3ms/step - loss: 0.7983 - mse: 0.7983 - val_loss: 3.7765 - val_mse: 3.7765\n",
            "Epoch 165/500\n",
            "33/33 [==============================] - 0s 3ms/step - loss: 0.8069 - mse: 0.8069 - val_loss: 3.7672 - val_mse: 3.7672\n",
            "Epoch 166/500\n",
            "33/33 [==============================] - 0s 3ms/step - loss: 0.8138 - mse: 0.8138 - val_loss: 3.7623 - val_mse: 3.7623\n",
            "Epoch 167/500\n",
            "33/33 [==============================] - 0s 3ms/step - loss: 0.8160 - mse: 0.8160 - val_loss: 3.7551 - val_mse: 3.7551\n",
            "Epoch 168/500\n",
            "33/33 [==============================] - 0s 3ms/step - loss: 0.7897 - mse: 0.7897 - val_loss: 3.7540 - val_mse: 3.7540\n",
            "Epoch 169/500\n",
            "33/33 [==============================] - 0s 3ms/step - loss: 0.7951 - mse: 0.7951 - val_loss: 3.7503 - val_mse: 3.7503\n",
            "Epoch 170/500\n",
            "33/33 [==============================] - 0s 3ms/step - loss: 0.8467 - mse: 0.8467 - val_loss: 3.7447 - val_mse: 3.7447\n",
            "Epoch 171/500\n",
            "33/33 [==============================] - 0s 3ms/step - loss: 0.7804 - mse: 0.7804 - val_loss: 3.7325 - val_mse: 3.7325\n",
            "Epoch 172/500\n",
            "33/33 [==============================] - 0s 3ms/step - loss: 0.8180 - mse: 0.8180 - val_loss: 3.7294 - val_mse: 3.7294\n",
            "Epoch 173/500\n",
            "33/33 [==============================] - 0s 3ms/step - loss: 0.7934 - mse: 0.7934 - val_loss: 3.7234 - val_mse: 3.7234\n",
            "Epoch 174/500\n",
            "33/33 [==============================] - 0s 3ms/step - loss: 0.7916 - mse: 0.7916 - val_loss: 3.7200 - val_mse: 3.7200\n",
            "Epoch 175/500\n",
            "33/33 [==============================] - 0s 3ms/step - loss: 0.8121 - mse: 0.8121 - val_loss: 3.7175 - val_mse: 3.7175\n",
            "Epoch 176/500\n",
            "33/33 [==============================] - 0s 3ms/step - loss: 0.8102 - mse: 0.8102 - val_loss: 3.7121 - val_mse: 3.7121\n",
            "Epoch 177/500\n",
            "33/33 [==============================] - 0s 3ms/step - loss: 0.8239 - mse: 0.8239 - val_loss: 3.7087 - val_mse: 3.7087\n",
            "Epoch 178/500\n",
            "33/33 [==============================] - 0s 3ms/step - loss: 0.7788 - mse: 0.7788 - val_loss: 3.7026 - val_mse: 3.7026\n",
            "Epoch 179/500\n",
            "33/33 [==============================] - 0s 3ms/step - loss: 0.7888 - mse: 0.7888 - val_loss: 3.7006 - val_mse: 3.7006\n",
            "Epoch 180/500\n",
            "33/33 [==============================] - 0s 3ms/step - loss: 0.8110 - mse: 0.8110 - val_loss: 3.6964 - val_mse: 3.6964\n",
            "Epoch 181/500\n",
            "33/33 [==============================] - 0s 3ms/step - loss: 0.7721 - mse: 0.7721 - val_loss: 3.6921 - val_mse: 3.6921\n",
            "Epoch 182/500\n",
            "33/33 [==============================] - 0s 3ms/step - loss: 0.8173 - mse: 0.8173 - val_loss: 3.6875 - val_mse: 3.6875\n",
            "Epoch 183/500\n",
            "33/33 [==============================] - 0s 3ms/step - loss: 0.7998 - mse: 0.7998 - val_loss: 3.6776 - val_mse: 3.6776\n",
            "Epoch 184/500\n",
            "33/33 [==============================] - 0s 3ms/step - loss: 0.7925 - mse: 0.7925 - val_loss: 3.6727 - val_mse: 3.6727\n",
            "Epoch 185/500\n",
            "33/33 [==============================] - 0s 3ms/step - loss: 0.7861 - mse: 0.7861 - val_loss: 3.6713 - val_mse: 3.6713\n",
            "Epoch 186/500\n",
            "33/33 [==============================] - 0s 3ms/step - loss: 0.7834 - mse: 0.7834 - val_loss: 3.6661 - val_mse: 3.6661\n",
            "Epoch 187/500\n",
            "33/33 [==============================] - 0s 4ms/step - loss: 0.7987 - mse: 0.7987 - val_loss: 3.6619 - val_mse: 3.6619\n",
            "Epoch 188/500\n",
            "33/33 [==============================] - 0s 3ms/step - loss: 0.7813 - mse: 0.7813 - val_loss: 3.6584 - val_mse: 3.6584\n",
            "Epoch 189/500\n",
            "33/33 [==============================] - 0s 3ms/step - loss: 0.7689 - mse: 0.7689 - val_loss: 3.6587 - val_mse: 3.6587\n",
            "Epoch 190/500\n",
            "33/33 [==============================] - 0s 2ms/step - loss: 0.7888 - mse: 0.7888 - val_loss: 3.6570 - val_mse: 3.6570\n",
            "Epoch 191/500\n",
            "33/33 [==============================] - 0s 3ms/step - loss: 0.7867 - mse: 0.7867 - val_loss: 3.6528 - val_mse: 3.6528\n",
            "Epoch 192/500\n",
            "33/33 [==============================] - 0s 3ms/step - loss: 0.7806 - mse: 0.7806 - val_loss: 3.6505 - val_mse: 3.6505\n",
            "Epoch 193/500\n",
            "33/33 [==============================] - 0s 3ms/step - loss: 0.7945 - mse: 0.7945 - val_loss: 3.6516 - val_mse: 3.6516\n",
            "Epoch 194/500\n",
            "33/33 [==============================] - 0s 3ms/step - loss: 0.7747 - mse: 0.7747 - val_loss: 3.6505 - val_mse: 3.6505\n",
            "Epoch 195/500\n",
            "33/33 [==============================] - 0s 3ms/step - loss: 0.7829 - mse: 0.7829 - val_loss: 3.6438 - val_mse: 3.6438\n",
            "Epoch 196/500\n",
            "33/33 [==============================] - 0s 3ms/step - loss: 0.7744 - mse: 0.7744 - val_loss: 3.6441 - val_mse: 3.6441\n",
            "Epoch 197/500\n",
            "33/33 [==============================] - 0s 3ms/step - loss: 0.7615 - mse: 0.7615 - val_loss: 3.6445 - val_mse: 3.6445\n",
            "Epoch 198/500\n",
            "33/33 [==============================] - 0s 3ms/step - loss: 0.7891 - mse: 0.7891 - val_loss: 3.6392 - val_mse: 3.6392\n",
            "Epoch 199/500\n",
            "33/33 [==============================] - 0s 3ms/step - loss: 0.7824 - mse: 0.7824 - val_loss: 3.6342 - val_mse: 3.6342\n",
            "Epoch 200/500\n",
            "33/33 [==============================] - 0s 3ms/step - loss: 0.7681 - mse: 0.7681 - val_loss: 3.6307 - val_mse: 3.6307\n",
            "Epoch 201/500\n",
            "33/33 [==============================] - 0s 3ms/step - loss: 0.8029 - mse: 0.8029 - val_loss: 3.6278 - val_mse: 3.6278\n",
            "Epoch 202/500\n",
            "33/33 [==============================] - 0s 3ms/step - loss: 0.7580 - mse: 0.7580 - val_loss: 3.6273 - val_mse: 3.6273\n",
            "Epoch 203/500\n",
            "33/33 [==============================] - 0s 3ms/step - loss: 0.7929 - mse: 0.7929 - val_loss: 3.6253 - val_mse: 3.6253\n",
            "Epoch 204/500\n",
            "33/33 [==============================] - 0s 3ms/step - loss: 0.7885 - mse: 0.7885 - val_loss: 3.6204 - val_mse: 3.6204\n",
            "Epoch 205/500\n",
            "33/33 [==============================] - 0s 3ms/step - loss: 0.7855 - mse: 0.7855 - val_loss: 3.6171 - val_mse: 3.6171\n",
            "Epoch 206/500\n",
            "33/33 [==============================] - 0s 3ms/step - loss: 0.7817 - mse: 0.7817 - val_loss: 3.6137 - val_mse: 3.6137\n",
            "Epoch 207/500\n",
            "33/33 [==============================] - 0s 3ms/step - loss: 0.7830 - mse: 0.7830 - val_loss: 3.6132 - val_mse: 3.6132\n",
            "Epoch 208/500\n",
            "33/33 [==============================] - 0s 3ms/step - loss: 0.7865 - mse: 0.7865 - val_loss: 3.6079 - val_mse: 3.6079\n",
            "Epoch 209/500\n",
            "33/33 [==============================] - 0s 3ms/step - loss: 0.7953 - mse: 0.7953 - val_loss: 3.6010 - val_mse: 3.6010\n",
            "Epoch 210/500\n",
            "33/33 [==============================] - 0s 3ms/step - loss: 0.7735 - mse: 0.7735 - val_loss: 3.5955 - val_mse: 3.5955\n",
            "Epoch 211/500\n",
            "33/33 [==============================] - 0s 3ms/step - loss: 0.7679 - mse: 0.7679 - val_loss: 3.5936 - val_mse: 3.5936\n",
            "Epoch 212/500\n",
            "33/33 [==============================] - 0s 3ms/step - loss: 0.7597 - mse: 0.7597 - val_loss: 3.5898 - val_mse: 3.5898\n",
            "Epoch 213/500\n",
            "33/33 [==============================] - 0s 3ms/step - loss: 0.7815 - mse: 0.7815 - val_loss: 3.5846 - val_mse: 3.5846\n",
            "Epoch 214/500\n",
            "33/33 [==============================] - 0s 3ms/step - loss: 0.7698 - mse: 0.7698 - val_loss: 3.5837 - val_mse: 3.5837\n",
            "Epoch 215/500\n",
            "33/33 [==============================] - 0s 3ms/step - loss: 0.7613 - mse: 0.7613 - val_loss: 3.5827 - val_mse: 3.5827\n",
            "Epoch 216/500\n",
            "33/33 [==============================] - 0s 3ms/step - loss: 0.7804 - mse: 0.7804 - val_loss: 3.5791 - val_mse: 3.5791\n",
            "Epoch 217/500\n",
            "33/33 [==============================] - 0s 3ms/step - loss: 0.7727 - mse: 0.7727 - val_loss: 3.5777 - val_mse: 3.5777\n",
            "Epoch 218/500\n",
            "33/33 [==============================] - 0s 3ms/step - loss: 0.7713 - mse: 0.7713 - val_loss: 3.5769 - val_mse: 3.5769\n",
            "Epoch 219/500\n",
            "33/33 [==============================] - 0s 3ms/step - loss: 0.7734 - mse: 0.7734 - val_loss: 3.5763 - val_mse: 3.5763\n",
            "Epoch 220/500\n",
            "33/33 [==============================] - 0s 3ms/step - loss: 0.7660 - mse: 0.7660 - val_loss: 3.5735 - val_mse: 3.5735\n",
            "Epoch 221/500\n",
            "33/33 [==============================] - 0s 3ms/step - loss: 0.7382 - mse: 0.7382 - val_loss: 3.5743 - val_mse: 3.5743\n",
            "Epoch 222/500\n",
            "33/33 [==============================] - 0s 3ms/step - loss: 0.7591 - mse: 0.7591 - val_loss: 3.5719 - val_mse: 3.5719\n",
            "Epoch 223/500\n",
            "33/33 [==============================] - 0s 3ms/step - loss: 0.7732 - mse: 0.7732 - val_loss: 3.5721 - val_mse: 3.5721\n",
            "Epoch 224/500\n",
            "33/33 [==============================] - 0s 3ms/step - loss: 0.7668 - mse: 0.7668 - val_loss: 3.5711 - val_mse: 3.5711\n",
            "Epoch 225/500\n",
            "33/33 [==============================] - 0s 3ms/step - loss: 0.7586 - mse: 0.7586 - val_loss: 3.5695 - val_mse: 3.5695\n",
            "Epoch 226/500\n",
            "33/33 [==============================] - 0s 3ms/step - loss: 0.7752 - mse: 0.7752 - val_loss: 3.5690 - val_mse: 3.5690\n",
            "Epoch 227/500\n",
            "33/33 [==============================] - 0s 3ms/step - loss: 0.7671 - mse: 0.7671 - val_loss: 3.5652 - val_mse: 3.5652\n",
            "Epoch 228/500\n",
            "33/33 [==============================] - 0s 3ms/step - loss: 0.7672 - mse: 0.7672 - val_loss: 3.5639 - val_mse: 3.5639\n",
            "Epoch 229/500\n",
            "33/33 [==============================] - 0s 3ms/step - loss: 0.7591 - mse: 0.7591 - val_loss: 3.5655 - val_mse: 3.5655\n",
            "Epoch 230/500\n",
            "33/33 [==============================] - 0s 3ms/step - loss: 0.7862 - mse: 0.7862 - val_loss: 3.5613 - val_mse: 3.5613\n",
            "Epoch 231/500\n",
            "33/33 [==============================] - 0s 4ms/step - loss: 0.7635 - mse: 0.7635 - val_loss: 3.5603 - val_mse: 3.5603\n",
            "Epoch 232/500\n",
            "33/33 [==============================] - 0s 3ms/step - loss: 0.7704 - mse: 0.7704 - val_loss: 3.5577 - val_mse: 3.5577\n",
            "Epoch 233/500\n",
            "33/33 [==============================] - 0s 3ms/step - loss: 0.7902 - mse: 0.7902 - val_loss: 3.5536 - val_mse: 3.5536\n",
            "Epoch 234/500\n",
            "33/33 [==============================] - 0s 4ms/step - loss: 0.7592 - mse: 0.7592 - val_loss: 3.5494 - val_mse: 3.5494\n",
            "Epoch 235/500\n",
            "33/33 [==============================] - 0s 3ms/step - loss: 0.7909 - mse: 0.7909 - val_loss: 3.5452 - val_mse: 3.5452\n",
            "Epoch 236/500\n",
            "33/33 [==============================] - 0s 3ms/step - loss: 0.7366 - mse: 0.7366 - val_loss: 3.5452 - val_mse: 3.5452\n",
            "Epoch 237/500\n",
            "33/33 [==============================] - 0s 3ms/step - loss: 0.7695 - mse: 0.7695 - val_loss: 3.5441 - val_mse: 3.5441\n",
            "Epoch 238/500\n",
            "33/33 [==============================] - 0s 3ms/step - loss: 0.7458 - mse: 0.7458 - val_loss: 3.5427 - val_mse: 3.5427\n",
            "Epoch 239/500\n",
            "33/33 [==============================] - 0s 4ms/step - loss: 0.7515 - mse: 0.7515 - val_loss: 3.5418 - val_mse: 3.5418\n",
            "Epoch 240/500\n",
            "33/33 [==============================] - 0s 3ms/step - loss: 0.7566 - mse: 0.7566 - val_loss: 3.5398 - val_mse: 3.5398\n",
            "Epoch 241/500\n",
            "33/33 [==============================] - 0s 3ms/step - loss: 0.7446 - mse: 0.7446 - val_loss: 3.5398 - val_mse: 3.5398\n",
            "Epoch 242/500\n",
            "33/33 [==============================] - 0s 3ms/step - loss: 0.7707 - mse: 0.7707 - val_loss: 3.5381 - val_mse: 3.5381\n",
            "Epoch 243/500\n",
            "33/33 [==============================] - 0s 3ms/step - loss: 0.7512 - mse: 0.7512 - val_loss: 3.5339 - val_mse: 3.5339\n",
            "Epoch 244/500\n",
            "33/33 [==============================] - 0s 3ms/step - loss: 0.7492 - mse: 0.7492 - val_loss: 3.5306 - val_mse: 3.5306\n",
            "Epoch 245/500\n",
            "33/33 [==============================] - 0s 3ms/step - loss: 0.7408 - mse: 0.7408 - val_loss: 3.5306 - val_mse: 3.5306\n",
            "Epoch 246/500\n",
            "33/33 [==============================] - 0s 3ms/step - loss: 0.7469 - mse: 0.7469 - val_loss: 3.5304 - val_mse: 3.5304\n",
            "Epoch 247/500\n",
            "33/33 [==============================] - 0s 3ms/step - loss: 0.7498 - mse: 0.7498 - val_loss: 3.5307 - val_mse: 3.5307\n",
            "Epoch 248/500\n",
            "33/33 [==============================] - 0s 3ms/step - loss: 0.7410 - mse: 0.7410 - val_loss: 3.5286 - val_mse: 3.5286\n",
            "Epoch 249/500\n",
            "33/33 [==============================] - 0s 3ms/step - loss: 0.7509 - mse: 0.7509 - val_loss: 3.5285 - val_mse: 3.5285\n",
            "Epoch 250/500\n",
            "33/33 [==============================] - 0s 3ms/step - loss: 0.7741 - mse: 0.7741 - val_loss: 3.5214 - val_mse: 3.5214\n",
            "Epoch 251/500\n",
            "33/33 [==============================] - 0s 3ms/step - loss: 0.7634 - mse: 0.7634 - val_loss: 3.5185 - val_mse: 3.5185\n",
            "Epoch 252/500\n",
            "33/33 [==============================] - 0s 3ms/step - loss: 0.7444 - mse: 0.7444 - val_loss: 3.5168 - val_mse: 3.5168\n",
            "Epoch 253/500\n",
            "33/33 [==============================] - 0s 3ms/step - loss: 0.7506 - mse: 0.7506 - val_loss: 3.5126 - val_mse: 3.5126\n",
            "Epoch 254/500\n",
            "33/33 [==============================] - 0s 3ms/step - loss: 0.7574 - mse: 0.7574 - val_loss: 3.5099 - val_mse: 3.5099\n",
            "Epoch 255/500\n",
            "33/33 [==============================] - 0s 3ms/step - loss: 0.7575 - mse: 0.7575 - val_loss: 3.5078 - val_mse: 3.5078\n",
            "Epoch 256/500\n",
            "33/33 [==============================] - 0s 3ms/step - loss: 0.7554 - mse: 0.7554 - val_loss: 3.5050 - val_mse: 3.5050\n",
            "Epoch 257/500\n",
            "33/33 [==============================] - 0s 3ms/step - loss: 0.7623 - mse: 0.7623 - val_loss: 3.5025 - val_mse: 3.5025\n",
            "Epoch 258/500\n",
            "33/33 [==============================] - 0s 3ms/step - loss: 0.7354 - mse: 0.7354 - val_loss: 3.5011 - val_mse: 3.5011\n",
            "Epoch 259/500\n",
            "33/33 [==============================] - 0s 3ms/step - loss: 0.7629 - mse: 0.7629 - val_loss: 3.4959 - val_mse: 3.4959\n",
            "Epoch 260/500\n",
            "33/33 [==============================] - 0s 3ms/step - loss: 0.7495 - mse: 0.7495 - val_loss: 3.4948 - val_mse: 3.4948\n",
            "Epoch 261/500\n",
            "33/33 [==============================] - 0s 3ms/step - loss: 0.7326 - mse: 0.7326 - val_loss: 3.4957 - val_mse: 3.4957\n",
            "Epoch 262/500\n",
            "33/33 [==============================] - 0s 3ms/step - loss: 0.7579 - mse: 0.7579 - val_loss: 3.4958 - val_mse: 3.4958\n",
            "Epoch 263/500\n",
            "33/33 [==============================] - 0s 3ms/step - loss: 0.7545 - mse: 0.7545 - val_loss: 3.4944 - val_mse: 3.4944\n",
            "Epoch 264/500\n",
            "33/33 [==============================] - 0s 3ms/step - loss: 0.7443 - mse: 0.7443 - val_loss: 3.4892 - val_mse: 3.4892\n",
            "Epoch 265/500\n",
            "33/33 [==============================] - 0s 3ms/step - loss: 0.7398 - mse: 0.7398 - val_loss: 3.4881 - val_mse: 3.4881\n",
            "Epoch 266/500\n",
            "33/33 [==============================] - 0s 3ms/step - loss: 0.7470 - mse: 0.7470 - val_loss: 3.4863 - val_mse: 3.4863\n",
            "Epoch 267/500\n",
            "33/33 [==============================] - 0s 3ms/step - loss: 0.7378 - mse: 0.7378 - val_loss: 3.4848 - val_mse: 3.4848\n",
            "Epoch 268/500\n",
            "33/33 [==============================] - 0s 3ms/step - loss: 0.7392 - mse: 0.7392 - val_loss: 3.4824 - val_mse: 3.4824\n",
            "Epoch 269/500\n",
            "33/33 [==============================] - 0s 4ms/step - loss: 0.7480 - mse: 0.7480 - val_loss: 3.4837 - val_mse: 3.4837\n",
            "Epoch 270/500\n",
            "33/33 [==============================] - 0s 3ms/step - loss: 0.7510 - mse: 0.7510 - val_loss: 3.4830 - val_mse: 3.4830\n",
            "Epoch 271/500\n",
            "33/33 [==============================] - 0s 3ms/step - loss: 0.7510 - mse: 0.7510 - val_loss: 3.4805 - val_mse: 3.4805\n",
            "Epoch 272/500\n",
            "33/33 [==============================] - 0s 3ms/step - loss: 0.7473 - mse: 0.7473 - val_loss: 3.4791 - val_mse: 3.4791\n",
            "Epoch 273/500\n",
            "33/33 [==============================] - 0s 4ms/step - loss: 0.7533 - mse: 0.7533 - val_loss: 3.4769 - val_mse: 3.4769\n",
            "Epoch 274/500\n",
            "33/33 [==============================] - 0s 3ms/step - loss: 0.7519 - mse: 0.7519 - val_loss: 3.4738 - val_mse: 3.4738\n",
            "Epoch 275/500\n",
            "33/33 [==============================] - 0s 3ms/step - loss: 0.7364 - mse: 0.7364 - val_loss: 3.4710 - val_mse: 3.4710\n",
            "Epoch 276/500\n",
            "33/33 [==============================] - 0s 3ms/step - loss: 0.7331 - mse: 0.7331 - val_loss: 3.4710 - val_mse: 3.4710\n",
            "Epoch 277/500\n",
            "33/33 [==============================] - 0s 3ms/step - loss: 0.7261 - mse: 0.7261 - val_loss: 3.4718 - val_mse: 3.4718\n",
            "Epoch 278/500\n",
            "33/33 [==============================] - 0s 3ms/step - loss: 0.7432 - mse: 0.7432 - val_loss: 3.4709 - val_mse: 3.4709\n",
            "Epoch 279/500\n",
            "33/33 [==============================] - 0s 3ms/step - loss: 0.7435 - mse: 0.7435 - val_loss: 3.4687 - val_mse: 3.4687\n",
            "Epoch 280/500\n",
            "33/33 [==============================] - 0s 3ms/step - loss: 0.7400 - mse: 0.7400 - val_loss: 3.4682 - val_mse: 3.4682\n",
            "Epoch 281/500\n",
            "33/33 [==============================] - 0s 3ms/step - loss: 0.7396 - mse: 0.7396 - val_loss: 3.4662 - val_mse: 3.4662\n",
            "Epoch 282/500\n",
            "33/33 [==============================] - 0s 3ms/step - loss: 0.7338 - mse: 0.7338 - val_loss: 3.4656 - val_mse: 3.4656\n",
            "Epoch 283/500\n",
            "33/33 [==============================] - 0s 3ms/step - loss: 0.7498 - mse: 0.7498 - val_loss: 3.4627 - val_mse: 3.4627\n",
            "Epoch 284/500\n",
            "33/33 [==============================] - 0s 3ms/step - loss: 0.7297 - mse: 0.7297 - val_loss: 3.4623 - val_mse: 3.4623\n",
            "Epoch 285/500\n",
            "33/33 [==============================] - 0s 3ms/step - loss: 0.7272 - mse: 0.7272 - val_loss: 3.4613 - val_mse: 3.4613\n",
            "Epoch 286/500\n",
            "33/33 [==============================] - 0s 3ms/step - loss: 0.7418 - mse: 0.7418 - val_loss: 3.4611 - val_mse: 3.4611\n",
            "Epoch 287/500\n",
            "33/33 [==============================] - 0s 3ms/step - loss: 0.7487 - mse: 0.7487 - val_loss: 3.4589 - val_mse: 3.4589\n",
            "Epoch 288/500\n",
            "33/33 [==============================] - 0s 3ms/step - loss: 0.7252 - mse: 0.7252 - val_loss: 3.4564 - val_mse: 3.4564\n",
            "Epoch 289/500\n",
            "33/33 [==============================] - 0s 3ms/step - loss: 0.7304 - mse: 0.7304 - val_loss: 3.4523 - val_mse: 3.4523\n",
            "Epoch 290/500\n",
            "33/33 [==============================] - 0s 3ms/step - loss: 0.7442 - mse: 0.7442 - val_loss: 3.4504 - val_mse: 3.4504\n",
            "Epoch 291/500\n",
            "33/33 [==============================] - 0s 3ms/step - loss: 0.7206 - mse: 0.7206 - val_loss: 3.4522 - val_mse: 3.4522\n",
            "Epoch 292/500\n",
            "33/33 [==============================] - 0s 3ms/step - loss: 0.7416 - mse: 0.7416 - val_loss: 3.4503 - val_mse: 3.4503\n",
            "Epoch 293/500\n",
            "33/33 [==============================] - 0s 3ms/step - loss: 0.7122 - mse: 0.7122 - val_loss: 3.4492 - val_mse: 3.4492\n",
            "Epoch 294/500\n",
            "33/33 [==============================] - 0s 3ms/step - loss: 0.7573 - mse: 0.7573 - val_loss: 3.4489 - val_mse: 3.4489\n",
            "Epoch 295/500\n",
            "33/33 [==============================] - 0s 3ms/step - loss: 0.7415 - mse: 0.7415 - val_loss: 3.4459 - val_mse: 3.4459\n",
            "Epoch 296/500\n",
            "33/33 [==============================] - 0s 3ms/step - loss: 0.7395 - mse: 0.7395 - val_loss: 3.4449 - val_mse: 3.4449\n",
            "Epoch 297/500\n",
            "33/33 [==============================] - 0s 3ms/step - loss: 0.7458 - mse: 0.7458 - val_loss: 3.4427 - val_mse: 3.4427\n",
            "Epoch 298/500\n",
            "33/33 [==============================] - 0s 3ms/step - loss: 0.7374 - mse: 0.7374 - val_loss: 3.4410 - val_mse: 3.4410\n",
            "Epoch 299/500\n",
            "33/33 [==============================] - 0s 3ms/step - loss: 0.7100 - mse: 0.7100 - val_loss: 3.4417 - val_mse: 3.4417\n",
            "Epoch 300/500\n",
            "33/33 [==============================] - 0s 3ms/step - loss: 0.7321 - mse: 0.7321 - val_loss: 3.4409 - val_mse: 3.4409\n",
            "Epoch 301/500\n",
            "33/33 [==============================] - 0s 3ms/step - loss: 0.7288 - mse: 0.7288 - val_loss: 3.4366 - val_mse: 3.4366\n",
            "Epoch 302/500\n",
            "33/33 [==============================] - 0s 3ms/step - loss: 0.7398 - mse: 0.7398 - val_loss: 3.4349 - val_mse: 3.4349\n",
            "Epoch 303/500\n",
            "33/33 [==============================] - 0s 3ms/step - loss: 0.7491 - mse: 0.7491 - val_loss: 3.4313 - val_mse: 3.4313\n",
            "Epoch 304/500\n",
            "33/33 [==============================] - 0s 3ms/step - loss: 0.7336 - mse: 0.7336 - val_loss: 3.4316 - val_mse: 3.4316\n",
            "Epoch 305/500\n",
            "33/33 [==============================] - 0s 4ms/step - loss: 0.7087 - mse: 0.7087 - val_loss: 3.4302 - val_mse: 3.4302\n",
            "Epoch 306/500\n",
            "33/33 [==============================] - 0s 3ms/step - loss: 0.7514 - mse: 0.7514 - val_loss: 3.4290 - val_mse: 3.4290\n",
            "Epoch 307/500\n",
            "33/33 [==============================] - 0s 3ms/step - loss: 0.7374 - mse: 0.7374 - val_loss: 3.4283 - val_mse: 3.4283\n",
            "Epoch 308/500\n",
            "33/33 [==============================] - 0s 3ms/step - loss: 0.7154 - mse: 0.7154 - val_loss: 3.4303 - val_mse: 3.4303\n",
            "Epoch 309/500\n",
            "33/33 [==============================] - 0s 3ms/step - loss: 0.7540 - mse: 0.7540 - val_loss: 3.4285 - val_mse: 3.4285\n",
            "Epoch 310/500\n",
            "33/33 [==============================] - 0s 3ms/step - loss: 0.7383 - mse: 0.7383 - val_loss: 3.4278 - val_mse: 3.4278\n",
            "Epoch 311/500\n",
            "33/33 [==============================] - 0s 3ms/step - loss: 0.7452 - mse: 0.7452 - val_loss: 3.4242 - val_mse: 3.4242\n",
            "Epoch 312/500\n",
            "33/33 [==============================] - 0s 3ms/step - loss: 0.7374 - mse: 0.7374 - val_loss: 3.4221 - val_mse: 3.4221\n",
            "Epoch 313/500\n",
            "33/33 [==============================] - 0s 3ms/step - loss: 0.7460 - mse: 0.7460 - val_loss: 3.4206 - val_mse: 3.4206\n",
            "Epoch 314/500\n",
            "33/33 [==============================] - 0s 4ms/step - loss: 0.7413 - mse: 0.7413 - val_loss: 3.4185 - val_mse: 3.4185\n",
            "Epoch 315/500\n",
            "33/33 [==============================] - 0s 3ms/step - loss: 0.7339 - mse: 0.7339 - val_loss: 3.4179 - val_mse: 3.4179\n",
            "Epoch 316/500\n",
            "33/33 [==============================] - 0s 3ms/step - loss: 0.7429 - mse: 0.7429 - val_loss: 3.4185 - val_mse: 3.4185\n",
            "Epoch 317/500\n",
            "33/33 [==============================] - 0s 3ms/step - loss: 0.7158 - mse: 0.7158 - val_loss: 3.4187 - val_mse: 3.4187\n",
            "Epoch 318/500\n",
            "33/33 [==============================] - 0s 4ms/step - loss: 0.7532 - mse: 0.7532 - val_loss: 3.4198 - val_mse: 3.4198\n",
            "Epoch 319/500\n",
            "33/33 [==============================] - 0s 3ms/step - loss: 0.7235 - mse: 0.7235 - val_loss: 3.4190 - val_mse: 3.4190\n",
            "Epoch 320/500\n",
            "33/33 [==============================] - 0s 3ms/step - loss: 0.7363 - mse: 0.7363 - val_loss: 3.4197 - val_mse: 3.4197\n",
            "Epoch 321/500\n",
            "33/33 [==============================] - 0s 3ms/step - loss: 0.7374 - mse: 0.7374 - val_loss: 3.4198 - val_mse: 3.4198\n",
            "Epoch 322/500\n",
            "33/33 [==============================] - 0s 3ms/step - loss: 0.7329 - mse: 0.7329 - val_loss: 3.4194 - val_mse: 3.4194\n",
            "Epoch 323/500\n",
            "33/33 [==============================] - 0s 3ms/step - loss: 0.7108 - mse: 0.7108 - val_loss: 3.4176 - val_mse: 3.4176\n",
            "Epoch 324/500\n",
            "33/33 [==============================] - 0s 3ms/step - loss: 0.7254 - mse: 0.7254 - val_loss: 3.4159 - val_mse: 3.4159\n",
            "Epoch 325/500\n",
            "33/33 [==============================] - 0s 3ms/step - loss: 0.7450 - mse: 0.7450 - val_loss: 3.4133 - val_mse: 3.4133\n",
            "Epoch 326/500\n",
            "33/33 [==============================] - 0s 3ms/step - loss: 0.7511 - mse: 0.7511 - val_loss: 3.4124 - val_mse: 3.4124\n",
            "Epoch 327/500\n",
            "33/33 [==============================] - 0s 3ms/step - loss: 0.7245 - mse: 0.7245 - val_loss: 3.4112 - val_mse: 3.4112\n",
            "Epoch 328/500\n",
            "33/33 [==============================] - 0s 3ms/step - loss: 0.7268 - mse: 0.7268 - val_loss: 3.4103 - val_mse: 3.4103\n",
            "Epoch 329/500\n",
            "33/33 [==============================] - 0s 3ms/step - loss: 0.7288 - mse: 0.7288 - val_loss: 3.4110 - val_mse: 3.4110\n",
            "Epoch 330/500\n",
            "33/33 [==============================] - 0s 4ms/step - loss: 0.7256 - mse: 0.7256 - val_loss: 3.4093 - val_mse: 3.4093\n",
            "Epoch 331/500\n",
            "33/33 [==============================] - 0s 3ms/step - loss: 0.7220 - mse: 0.7220 - val_loss: 3.4093 - val_mse: 3.4093\n",
            "Epoch 332/500\n",
            "33/33 [==============================] - 0s 3ms/step - loss: 0.7331 - mse: 0.7331 - val_loss: 3.4092 - val_mse: 3.4092\n",
            "Epoch 333/500\n",
            "33/33 [==============================] - 0s 3ms/step - loss: 0.7319 - mse: 0.7319 - val_loss: 3.4073 - val_mse: 3.4073\n",
            "Epoch 334/500\n",
            "33/33 [==============================] - 0s 3ms/step - loss: 0.7014 - mse: 0.7014 - val_loss: 3.4064 - val_mse: 3.4064\n",
            "Epoch 335/500\n",
            "33/33 [==============================] - 0s 3ms/step - loss: 0.7295 - mse: 0.7295 - val_loss: 3.4053 - val_mse: 3.4053\n",
            "Epoch 336/500\n",
            "33/33 [==============================] - 0s 3ms/step - loss: 0.7309 - mse: 0.7309 - val_loss: 3.4041 - val_mse: 3.4041\n",
            "Epoch 337/500\n",
            "33/33 [==============================] - 0s 3ms/step - loss: 0.7248 - mse: 0.7248 - val_loss: 3.4038 - val_mse: 3.4038\n",
            "Epoch 338/500\n",
            "33/33 [==============================] - 0s 3ms/step - loss: 0.7127 - mse: 0.7127 - val_loss: 3.4047 - val_mse: 3.4047\n",
            "Epoch 339/500\n",
            "33/33 [==============================] - 0s 3ms/step - loss: 0.7283 - mse: 0.7283 - val_loss: 3.4037 - val_mse: 3.4037\n",
            "Epoch 340/500\n",
            "33/33 [==============================] - 0s 3ms/step - loss: 0.7125 - mse: 0.7125 - val_loss: 3.4025 - val_mse: 3.4025\n",
            "Epoch 341/500\n",
            "33/33 [==============================] - 0s 3ms/step - loss: 0.7214 - mse: 0.7214 - val_loss: 3.4005 - val_mse: 3.4005\n",
            "Epoch 342/500\n",
            "33/33 [==============================] - 0s 3ms/step - loss: 0.7254 - mse: 0.7254 - val_loss: 3.3994 - val_mse: 3.3994\n",
            "Epoch 343/500\n",
            "33/33 [==============================] - 0s 3ms/step - loss: 0.7122 - mse: 0.7122 - val_loss: 3.3997 - val_mse: 3.3997\n",
            "Epoch 344/500\n",
            "33/33 [==============================] - 0s 3ms/step - loss: 0.7330 - mse: 0.7330 - val_loss: 3.4003 - val_mse: 3.4003\n",
            "Epoch 345/500\n",
            "33/33 [==============================] - 0s 3ms/step - loss: 0.7441 - mse: 0.7441 - val_loss: 3.3990 - val_mse: 3.3990\n",
            "Epoch 346/500\n",
            "33/33 [==============================] - 0s 3ms/step - loss: 0.7132 - mse: 0.7132 - val_loss: 3.3979 - val_mse: 3.3979\n",
            "Epoch 347/500\n",
            "33/33 [==============================] - 0s 3ms/step - loss: 0.7187 - mse: 0.7187 - val_loss: 3.3957 - val_mse: 3.3957\n",
            "Epoch 348/500\n",
            "33/33 [==============================] - 0s 3ms/step - loss: 0.7315 - mse: 0.7315 - val_loss: 3.3941 - val_mse: 3.3941\n",
            "Epoch 349/500\n",
            "33/33 [==============================] - 0s 3ms/step - loss: 0.7220 - mse: 0.7220 - val_loss: 3.3956 - val_mse: 3.3956\n",
            "Epoch 350/500\n",
            "33/33 [==============================] - 0s 3ms/step - loss: 0.7144 - mse: 0.7144 - val_loss: 3.3964 - val_mse: 3.3964\n",
            "Epoch 351/500\n",
            "33/33 [==============================] - 0s 3ms/step - loss: 0.7182 - mse: 0.7182 - val_loss: 3.3953 - val_mse: 3.3953\n",
            "Epoch 352/500\n",
            "33/33 [==============================] - 0s 3ms/step - loss: 0.7140 - mse: 0.7140 - val_loss: 3.3951 - val_mse: 3.3951\n",
            "Epoch 353/500\n",
            "33/33 [==============================] - 0s 3ms/step - loss: 0.7276 - mse: 0.7276 - val_loss: 3.3957 - val_mse: 3.3957\n",
            "Epoch 354/500\n",
            "33/33 [==============================] - 0s 3ms/step - loss: 0.7397 - mse: 0.7397 - val_loss: 3.3959 - val_mse: 3.3959\n",
            "Epoch 355/500\n",
            "33/33 [==============================] - 0s 3ms/step - loss: 0.7241 - mse: 0.7241 - val_loss: 3.3944 - val_mse: 3.3944\n",
            "Epoch 356/500\n",
            "33/33 [==============================] - 0s 3ms/step - loss: 0.7208 - mse: 0.7208 - val_loss: 3.3935 - val_mse: 3.3935\n",
            "Epoch 357/500\n",
            "33/33 [==============================] - 0s 3ms/step - loss: 0.7317 - mse: 0.7317 - val_loss: 3.3918 - val_mse: 3.3918\n",
            "Epoch 358/500\n",
            "33/33 [==============================] - 0s 3ms/step - loss: 0.7228 - mse: 0.7228 - val_loss: 3.3904 - val_mse: 3.3904\n",
            "Epoch 359/500\n",
            "33/33 [==============================] - 0s 3ms/step - loss: 0.7141 - mse: 0.7141 - val_loss: 3.3893 - val_mse: 3.3893\n",
            "Epoch 360/500\n",
            "33/33 [==============================] - 0s 3ms/step - loss: 0.7252 - mse: 0.7252 - val_loss: 3.3872 - val_mse: 3.3872\n",
            "Epoch 361/500\n",
            "33/33 [==============================] - 0s 3ms/step - loss: 0.7129 - mse: 0.7129 - val_loss: 3.3866 - val_mse: 3.3866\n",
            "Epoch 362/500\n",
            "33/33 [==============================] - 0s 4ms/step - loss: 0.7197 - mse: 0.7197 - val_loss: 3.3878 - val_mse: 3.3878\n",
            "Epoch 363/500\n",
            "33/33 [==============================] - 0s 3ms/step - loss: 0.7085 - mse: 0.7085 - val_loss: 3.3880 - val_mse: 3.3880\n",
            "Epoch 364/500\n",
            "33/33 [==============================] - 0s 4ms/step - loss: 0.7140 - mse: 0.7140 - val_loss: 3.3870 - val_mse: 3.3870\n",
            "Epoch 365/500\n",
            "33/33 [==============================] - 0s 3ms/step - loss: 0.7176 - mse: 0.7176 - val_loss: 3.3874 - val_mse: 3.3874\n",
            "Epoch 366/500\n",
            "33/33 [==============================] - 0s 3ms/step - loss: 0.7095 - mse: 0.7095 - val_loss: 3.3884 - val_mse: 3.3884\n",
            "Epoch 367/500\n",
            "33/33 [==============================] - 0s 3ms/step - loss: 0.7184 - mse: 0.7184 - val_loss: 3.3874 - val_mse: 3.3874\n",
            "Epoch 368/500\n",
            "33/33 [==============================] - 0s 4ms/step - loss: 0.7125 - mse: 0.7125 - val_loss: 3.3856 - val_mse: 3.3856\n",
            "Epoch 369/500\n",
            "33/33 [==============================] - 0s 3ms/step - loss: 0.7203 - mse: 0.7203 - val_loss: 3.3849 - val_mse: 3.3849\n",
            "Epoch 370/500\n",
            "33/33 [==============================] - 0s 4ms/step - loss: 0.7345 - mse: 0.7345 - val_loss: 3.3803 - val_mse: 3.3803\n",
            "Epoch 371/500\n",
            "33/33 [==============================] - 0s 3ms/step - loss: 0.7180 - mse: 0.7180 - val_loss: 3.3813 - val_mse: 3.3813\n",
            "Epoch 372/500\n",
            "33/33 [==============================] - 0s 3ms/step - loss: 0.7350 - mse: 0.7350 - val_loss: 3.3810 - val_mse: 3.3810\n",
            "Epoch 373/500\n",
            "33/33 [==============================] - 0s 3ms/step - loss: 0.7129 - mse: 0.7129 - val_loss: 3.3796 - val_mse: 3.3796\n",
            "Epoch 374/500\n",
            "33/33 [==============================] - 0s 3ms/step - loss: 0.7247 - mse: 0.7247 - val_loss: 3.3793 - val_mse: 3.3793\n",
            "Epoch 375/500\n",
            "33/33 [==============================] - 0s 3ms/step - loss: 0.7158 - mse: 0.7158 - val_loss: 3.3776 - val_mse: 3.3776\n",
            "Epoch 376/500\n",
            "33/33 [==============================] - 0s 3ms/step - loss: 0.7337 - mse: 0.7337 - val_loss: 3.3763 - val_mse: 3.3763\n",
            "Epoch 377/500\n",
            "33/33 [==============================] - 0s 4ms/step - loss: 0.7299 - mse: 0.7299 - val_loss: 3.3760 - val_mse: 3.3760\n",
            "Epoch 378/500\n",
            "33/33 [==============================] - 0s 4ms/step - loss: 0.7164 - mse: 0.7164 - val_loss: 3.3755 - val_mse: 3.3755\n",
            "Epoch 379/500\n",
            "33/33 [==============================] - 0s 3ms/step - loss: 0.7212 - mse: 0.7212 - val_loss: 3.3734 - val_mse: 3.3734\n",
            "Epoch 380/500\n",
            "33/33 [==============================] - 0s 3ms/step - loss: 0.7105 - mse: 0.7105 - val_loss: 3.3734 - val_mse: 3.3734\n",
            "Epoch 381/500\n",
            "33/33 [==============================] - 0s 3ms/step - loss: 0.7408 - mse: 0.7408 - val_loss: 3.3739 - val_mse: 3.3739\n",
            "Epoch 382/500\n",
            "33/33 [==============================] - 0s 3ms/step - loss: 0.7149 - mse: 0.7149 - val_loss: 3.3734 - val_mse: 3.3734\n",
            "Epoch 383/500\n",
            "33/33 [==============================] - 0s 3ms/step - loss: 0.7324 - mse: 0.7324 - val_loss: 3.3730 - val_mse: 3.3730\n",
            "Epoch 384/500\n",
            "33/33 [==============================] - 0s 3ms/step - loss: 0.7387 - mse: 0.7387 - val_loss: 3.3701 - val_mse: 3.3701\n",
            "Epoch 385/500\n",
            "33/33 [==============================] - 0s 4ms/step - loss: 0.7033 - mse: 0.7033 - val_loss: 3.3682 - val_mse: 3.3682\n",
            "Epoch 386/500\n",
            "33/33 [==============================] - 0s 4ms/step - loss: 0.7165 - mse: 0.7165 - val_loss: 3.3688 - val_mse: 3.3688\n",
            "Epoch 387/500\n",
            "33/33 [==============================] - 0s 4ms/step - loss: 0.7075 - mse: 0.7075 - val_loss: 3.3688 - val_mse: 3.3688\n",
            "Epoch 388/500\n",
            "33/33 [==============================] - 0s 3ms/step - loss: 0.7127 - mse: 0.7127 - val_loss: 3.3687 - val_mse: 3.3687\n",
            "Epoch 389/500\n",
            "33/33 [==============================] - 0s 3ms/step - loss: 0.7189 - mse: 0.7189 - val_loss: 3.3692 - val_mse: 3.3692\n",
            "Epoch 390/500\n",
            "33/33 [==============================] - 0s 3ms/step - loss: 0.7279 - mse: 0.7279 - val_loss: 3.3707 - val_mse: 3.3707\n",
            "Epoch 391/500\n",
            "33/33 [==============================] - 0s 3ms/step - loss: 0.7332 - mse: 0.7332 - val_loss: 3.3704 - val_mse: 3.3704\n",
            "Epoch 392/500\n",
            "33/33 [==============================] - 0s 3ms/step - loss: 0.7112 - mse: 0.7112 - val_loss: 3.3725 - val_mse: 3.3725\n",
            "Epoch 393/500\n",
            "33/33 [==============================] - 0s 3ms/step - loss: 0.7162 - mse: 0.7162 - val_loss: 3.3718 - val_mse: 3.3718\n",
            "Epoch 394/500\n",
            "33/33 [==============================] - 0s 3ms/step - loss: 0.7163 - mse: 0.7163 - val_loss: 3.3719 - val_mse: 3.3719\n",
            "Epoch 395/500\n",
            "33/33 [==============================] - 0s 3ms/step - loss: 0.6947 - mse: 0.6947 - val_loss: 3.3709 - val_mse: 3.3709\n",
            "Epoch 396/500\n",
            "33/33 [==============================] - 0s 3ms/step - loss: 0.7140 - mse: 0.7140 - val_loss: 3.3723 - val_mse: 3.3723\n",
            "Epoch 397/500\n",
            "33/33 [==============================] - 0s 3ms/step - loss: 0.7004 - mse: 0.7004 - val_loss: 3.3714 - val_mse: 3.3714\n",
            "Epoch 398/500\n",
            "33/33 [==============================] - 0s 3ms/step - loss: 0.7226 - mse: 0.7226 - val_loss: 3.3712 - val_mse: 3.3712\n",
            "Epoch 399/500\n",
            "33/33 [==============================] - 0s 3ms/step - loss: 0.7229 - mse: 0.7229 - val_loss: 3.3709 - val_mse: 3.3709\n",
            "Epoch 400/500\n",
            "33/33 [==============================] - 0s 3ms/step - loss: 0.7263 - mse: 0.7263 - val_loss: 3.3666 - val_mse: 3.3666\n",
            "Epoch 401/500\n",
            "33/33 [==============================] - 0s 3ms/step - loss: 0.7293 - mse: 0.7293 - val_loss: 3.3649 - val_mse: 3.3649\n",
            "Epoch 402/500\n",
            "33/33 [==============================] - 0s 3ms/step - loss: 0.7062 - mse: 0.7062 - val_loss: 3.3627 - val_mse: 3.3627\n",
            "Epoch 403/500\n",
            "33/33 [==============================] - 0s 3ms/step - loss: 0.7053 - mse: 0.7053 - val_loss: 3.3602 - val_mse: 3.3602\n",
            "Epoch 404/500\n",
            "33/33 [==============================] - 0s 4ms/step - loss: 0.7102 - mse: 0.7102 - val_loss: 3.3585 - val_mse: 3.3585\n",
            "Epoch 405/500\n",
            "33/33 [==============================] - 0s 3ms/step - loss: 0.7056 - mse: 0.7056 - val_loss: 3.3571 - val_mse: 3.3571\n",
            "Epoch 406/500\n",
            "33/33 [==============================] - 0s 3ms/step - loss: 0.7193 - mse: 0.7193 - val_loss: 3.3564 - val_mse: 3.3564\n",
            "Epoch 407/500\n",
            "33/33 [==============================] - 0s 3ms/step - loss: 0.7312 - mse: 0.7312 - val_loss: 3.3542 - val_mse: 3.3542\n",
            "Epoch 408/500\n",
            "33/33 [==============================] - 0s 3ms/step - loss: 0.7209 - mse: 0.7209 - val_loss: 3.3542 - val_mse: 3.3542\n",
            "Epoch 409/500\n",
            "33/33 [==============================] - 0s 3ms/step - loss: 0.7031 - mse: 0.7031 - val_loss: 3.3529 - val_mse: 3.3529\n",
            "Epoch 410/500\n",
            "33/33 [==============================] - 0s 3ms/step - loss: 0.7252 - mse: 0.7252 - val_loss: 3.3525 - val_mse: 3.3525\n",
            "Epoch 411/500\n",
            "33/33 [==============================] - 0s 4ms/step - loss: 0.7097 - mse: 0.7097 - val_loss: 3.3511 - val_mse: 3.3511\n",
            "Epoch 412/500\n",
            "33/33 [==============================] - 0s 4ms/step - loss: 0.7118 - mse: 0.7118 - val_loss: 3.3504 - val_mse: 3.3504\n",
            "Epoch 413/500\n",
            "33/33 [==============================] - 0s 3ms/step - loss: 0.7246 - mse: 0.7246 - val_loss: 3.3498 - val_mse: 3.3498\n",
            "Epoch 414/500\n",
            "33/33 [==============================] - 0s 3ms/step - loss: 0.7076 - mse: 0.7076 - val_loss: 3.3483 - val_mse: 3.3483\n",
            "Epoch 415/500\n",
            "33/33 [==============================] - 0s 3ms/step - loss: 0.7069 - mse: 0.7069 - val_loss: 3.3482 - val_mse: 3.3482\n",
            "Epoch 416/500\n",
            "33/33 [==============================] - 0s 3ms/step - loss: 0.6840 - mse: 0.6840 - val_loss: 3.3479 - val_mse: 3.3479\n",
            "Epoch 417/500\n",
            "33/33 [==============================] - 0s 3ms/step - loss: 0.6965 - mse: 0.6965 - val_loss: 3.3470 - val_mse: 3.3470\n",
            "Epoch 418/500\n",
            "33/33 [==============================] - 0s 3ms/step - loss: 0.7327 - mse: 0.7327 - val_loss: 3.3460 - val_mse: 3.3460\n",
            "Epoch 419/500\n",
            "33/33 [==============================] - 0s 3ms/step - loss: 0.7057 - mse: 0.7057 - val_loss: 3.3465 - val_mse: 3.3465\n",
            "Epoch 420/500\n",
            "33/33 [==============================] - 0s 3ms/step - loss: 0.7144 - mse: 0.7144 - val_loss: 3.3449 - val_mse: 3.3449\n",
            "Epoch 421/500\n",
            "33/33 [==============================] - 0s 4ms/step - loss: 0.7147 - mse: 0.7147 - val_loss: 3.3448 - val_mse: 3.3448\n",
            "Epoch 422/500\n",
            "33/33 [==============================] - 0s 4ms/step - loss: 0.7060 - mse: 0.7060 - val_loss: 3.3438 - val_mse: 3.3438\n",
            "Epoch 423/500\n",
            "33/33 [==============================] - 0s 3ms/step - loss: 0.7112 - mse: 0.7112 - val_loss: 3.3445 - val_mse: 3.3445\n",
            "Epoch 424/500\n",
            "33/33 [==============================] - 0s 3ms/step - loss: 0.7015 - mse: 0.7015 - val_loss: 3.3457 - val_mse: 3.3457\n",
            "Epoch 425/500\n",
            "33/33 [==============================] - 0s 3ms/step - loss: 0.7047 - mse: 0.7047 - val_loss: 3.3455 - val_mse: 3.3455\n",
            "Epoch 426/500\n",
            "33/33 [==============================] - 0s 3ms/step - loss: 0.7231 - mse: 0.7231 - val_loss: 3.3459 - val_mse: 3.3459\n",
            "Epoch 427/500\n",
            "33/33 [==============================] - 0s 3ms/step - loss: 0.6985 - mse: 0.6985 - val_loss: 3.3447 - val_mse: 3.3447\n",
            "Epoch 428/500\n",
            "33/33 [==============================] - 0s 3ms/step - loss: 0.7047 - mse: 0.7047 - val_loss: 3.3437 - val_mse: 3.3437\n",
            "Epoch 429/500\n",
            "33/33 [==============================] - 0s 3ms/step - loss: 0.7072 - mse: 0.7072 - val_loss: 3.3434 - val_mse: 3.3434\n",
            "Epoch 430/500\n",
            "33/33 [==============================] - 0s 3ms/step - loss: 0.7365 - mse: 0.7365 - val_loss: 3.3440 - val_mse: 3.3440\n",
            "Epoch 431/500\n",
            "33/33 [==============================] - 0s 3ms/step - loss: 0.7025 - mse: 0.7025 - val_loss: 3.3452 - val_mse: 3.3452\n",
            "Epoch 432/500\n",
            "33/33 [==============================] - 0s 3ms/step - loss: 0.7179 - mse: 0.7179 - val_loss: 3.3451 - val_mse: 3.3451\n",
            "Epoch 433/500\n",
            "33/33 [==============================] - 0s 3ms/step - loss: 0.7036 - mse: 0.7036 - val_loss: 3.3466 - val_mse: 3.3466\n",
            "Epoch 434/500\n",
            "33/33 [==============================] - 0s 3ms/step - loss: 0.7002 - mse: 0.7002 - val_loss: 3.3462 - val_mse: 3.3462\n",
            "Epoch 435/500\n",
            "33/33 [==============================] - 0s 3ms/step - loss: 0.6957 - mse: 0.6957 - val_loss: 3.3464 - val_mse: 3.3464\n",
            "Epoch 436/500\n",
            "33/33 [==============================] - 0s 3ms/step - loss: 0.6951 - mse: 0.6951 - val_loss: 3.3471 - val_mse: 3.3471\n",
            "Epoch 437/500\n",
            "33/33 [==============================] - 0s 3ms/step - loss: 0.7181 - mse: 0.7181 - val_loss: 3.3454 - val_mse: 3.3454\n",
            "Epoch 438/500\n",
            "33/33 [==============================] - 0s 3ms/step - loss: 0.7316 - mse: 0.7316 - val_loss: 3.3449 - val_mse: 3.3449\n",
            "Epoch 439/500\n",
            "33/33 [==============================] - 0s 3ms/step - loss: 0.7144 - mse: 0.7144 - val_loss: 3.3446 - val_mse: 3.3446\n",
            "Epoch 440/500\n",
            "33/33 [==============================] - 0s 3ms/step - loss: 0.7009 - mse: 0.7009 - val_loss: 3.3447 - val_mse: 3.3447\n",
            "Epoch 441/500\n",
            "33/33 [==============================] - 0s 3ms/step - loss: 0.6980 - mse: 0.6980 - val_loss: 3.3441 - val_mse: 3.3441\n",
            "Epoch 442/500\n",
            "33/33 [==============================] - 0s 3ms/step - loss: 0.6983 - mse: 0.6983 - val_loss: 3.3457 - val_mse: 3.3457\n",
            "Epoch 443/500\n",
            "33/33 [==============================] - 0s 3ms/step - loss: 0.6992 - mse: 0.6992 - val_loss: 3.3454 - val_mse: 3.3454\n",
            "Epoch 444/500\n",
            "33/33 [==============================] - 0s 3ms/step - loss: 0.7040 - mse: 0.7040 - val_loss: 3.3453 - val_mse: 3.3453\n",
            "Epoch 445/500\n",
            "33/33 [==============================] - 0s 3ms/step - loss: 0.7000 - mse: 0.7000 - val_loss: 3.3447 - val_mse: 3.3447\n",
            "Epoch 446/500\n",
            "33/33 [==============================] - 0s 3ms/step - loss: 0.7231 - mse: 0.7231 - val_loss: 3.3448 - val_mse: 3.3448\n",
            "Epoch 447/500\n",
            "33/33 [==============================] - 0s 3ms/step - loss: 0.7205 - mse: 0.7205 - val_loss: 3.3445 - val_mse: 3.3445\n",
            "Epoch 448/500\n",
            "33/33 [==============================] - 0s 3ms/step - loss: 0.7054 - mse: 0.7054 - val_loss: 3.3445 - val_mse: 3.3445\n",
            "Epoch 449/500\n",
            "33/33 [==============================] - 0s 3ms/step - loss: 0.7095 - mse: 0.7095 - val_loss: 3.3457 - val_mse: 3.3457\n",
            "Epoch 450/500\n",
            "33/33 [==============================] - 0s 3ms/step - loss: 0.7266 - mse: 0.7266 - val_loss: 3.3433 - val_mse: 3.3433\n",
            "Epoch 451/500\n",
            "33/33 [==============================] - 0s 3ms/step - loss: 0.7246 - mse: 0.7246 - val_loss: 3.3421 - val_mse: 3.3421\n",
            "Epoch 452/500\n",
            "33/33 [==============================] - 0s 3ms/step - loss: 0.6990 - mse: 0.6990 - val_loss: 3.3425 - val_mse: 3.3425\n",
            "Epoch 453/500\n",
            "33/33 [==============================] - 0s 3ms/step - loss: 0.6957 - mse: 0.6957 - val_loss: 3.3413 - val_mse: 3.3413\n",
            "Epoch 454/500\n",
            "33/33 [==============================] - 0s 3ms/step - loss: 0.7057 - mse: 0.7057 - val_loss: 3.3425 - val_mse: 3.3425\n",
            "Epoch 455/500\n",
            "33/33 [==============================] - 0s 3ms/step - loss: 0.7088 - mse: 0.7088 - val_loss: 3.3432 - val_mse: 3.3432\n",
            "Epoch 456/500\n",
            "33/33 [==============================] - 0s 3ms/step - loss: 0.7015 - mse: 0.7015 - val_loss: 3.3430 - val_mse: 3.3430\n",
            "Epoch 457/500\n",
            "33/33 [==============================] - 0s 3ms/step - loss: 0.7045 - mse: 0.7045 - val_loss: 3.3444 - val_mse: 3.3444\n",
            "Epoch 458/500\n",
            "33/33 [==============================] - 0s 4ms/step - loss: 0.6843 - mse: 0.6843 - val_loss: 3.3449 - val_mse: 3.3449\n",
            "Epoch 459/500\n",
            "33/33 [==============================] - 0s 4ms/step - loss: 0.7026 - mse: 0.7026 - val_loss: 3.3449 - val_mse: 3.3449\n",
            "Epoch 460/500\n",
            "33/33 [==============================] - 0s 3ms/step - loss: 0.6862 - mse: 0.6862 - val_loss: 3.3448 - val_mse: 3.3448\n",
            "Epoch 461/500\n",
            "33/33 [==============================] - 0s 3ms/step - loss: 0.7138 - mse: 0.7138 - val_loss: 3.3454 - val_mse: 3.3454\n",
            "Epoch 462/500\n",
            "33/33 [==============================] - 0s 3ms/step - loss: 0.6954 - mse: 0.6954 - val_loss: 3.3447 - val_mse: 3.3447\n",
            "Epoch 463/500\n",
            "33/33 [==============================] - 0s 3ms/step - loss: 0.7287 - mse: 0.7287 - val_loss: 3.3440 - val_mse: 3.3440\n",
            "Epoch 464/500\n",
            "33/33 [==============================] - 0s 3ms/step - loss: 0.7019 - mse: 0.7019 - val_loss: 3.3442 - val_mse: 3.3442\n",
            "Epoch 465/500\n",
            "33/33 [==============================] - 0s 3ms/step - loss: 0.6992 - mse: 0.6992 - val_loss: 3.3442 - val_mse: 3.3442\n",
            "Epoch 466/500\n",
            "33/33 [==============================] - 0s 3ms/step - loss: 0.7021 - mse: 0.7021 - val_loss: 3.3447 - val_mse: 3.3447\n",
            "Epoch 467/500\n",
            "33/33 [==============================] - 0s 4ms/step - loss: 0.7102 - mse: 0.7102 - val_loss: 3.3447 - val_mse: 3.3447\n",
            "Epoch 468/500\n",
            "33/33 [==============================] - 0s 3ms/step - loss: 0.7003 - mse: 0.7003 - val_loss: 3.3463 - val_mse: 3.3463\n",
            "Epoch 469/500\n",
            "33/33 [==============================] - 0s 3ms/step - loss: 0.7104 - mse: 0.7104 - val_loss: 3.3477 - val_mse: 3.3477\n",
            "Epoch 470/500\n",
            "33/33 [==============================] - 0s 3ms/step - loss: 0.6995 - mse: 0.6995 - val_loss: 3.3466 - val_mse: 3.3466\n",
            "Epoch 471/500\n",
            "33/33 [==============================] - 0s 3ms/step - loss: 0.7174 - mse: 0.7174 - val_loss: 3.3473 - val_mse: 3.3473\n",
            "Epoch 472/500\n",
            "33/33 [==============================] - 0s 3ms/step - loss: 0.7085 - mse: 0.7085 - val_loss: 3.3484 - val_mse: 3.3484\n",
            "Epoch 473/500\n",
            "33/33 [==============================] - 0s 3ms/step - loss: 0.7144 - mse: 0.7144 - val_loss: 3.3468 - val_mse: 3.3468\n",
            "Epoch 474/500\n",
            "33/33 [==============================] - 0s 3ms/step - loss: 0.7062 - mse: 0.7062 - val_loss: 3.3452 - val_mse: 3.3452\n",
            "Epoch 475/500\n",
            "33/33 [==============================] - 0s 3ms/step - loss: 0.7062 - mse: 0.7062 - val_loss: 3.3448 - val_mse: 3.3448\n",
            "Epoch 476/500\n",
            "33/33 [==============================] - 0s 3ms/step - loss: 0.7004 - mse: 0.7004 - val_loss: 3.3424 - val_mse: 3.3424\n",
            "Epoch 477/500\n",
            "33/33 [==============================] - 0s 3ms/step - loss: 0.6926 - mse: 0.6926 - val_loss: 3.3439 - val_mse: 3.3439\n",
            "Epoch 478/500\n",
            "33/33 [==============================] - 0s 3ms/step - loss: 0.7051 - mse: 0.7051 - val_loss: 3.3425 - val_mse: 3.3425\n",
            "Epoch 479/500\n",
            "33/33 [==============================] - 0s 4ms/step - loss: 0.6924 - mse: 0.6924 - val_loss: 3.3418 - val_mse: 3.3418\n",
            "Epoch 480/500\n",
            "33/33 [==============================] - 0s 4ms/step - loss: 0.7175 - mse: 0.7175 - val_loss: 3.3414 - val_mse: 3.3414\n",
            "Epoch 481/500\n",
            "33/33 [==============================] - 0s 3ms/step - loss: 0.6892 - mse: 0.6892 - val_loss: 3.3415 - val_mse: 3.3415\n",
            "Epoch 482/500\n",
            "33/33 [==============================] - 0s 3ms/step - loss: 0.6862 - mse: 0.6862 - val_loss: 3.3398 - val_mse: 3.3398\n",
            "Epoch 483/500\n",
            "33/33 [==============================] - 0s 3ms/step - loss: 0.7092 - mse: 0.7092 - val_loss: 3.3385 - val_mse: 3.3385\n",
            "Epoch 484/500\n",
            "33/33 [==============================] - 0s 3ms/step - loss: 0.7059 - mse: 0.7059 - val_loss: 3.3377 - val_mse: 3.3377\n",
            "Epoch 485/500\n",
            "33/33 [==============================] - 0s 3ms/step - loss: 0.6970 - mse: 0.6970 - val_loss: 3.3382 - val_mse: 3.3382\n",
            "Epoch 486/500\n",
            "33/33 [==============================] - 0s 3ms/step - loss: 0.7172 - mse: 0.7172 - val_loss: 3.3367 - val_mse: 3.3367\n",
            "Epoch 487/500\n",
            "33/33 [==============================] - 0s 3ms/step - loss: 0.7016 - mse: 0.7016 - val_loss: 3.3362 - val_mse: 3.3362\n",
            "Epoch 488/500\n",
            "33/33 [==============================] - 0s 3ms/step - loss: 0.7064 - mse: 0.7064 - val_loss: 3.3351 - val_mse: 3.3351\n",
            "Epoch 489/500\n",
            "33/33 [==============================] - 0s 3ms/step - loss: 0.7048 - mse: 0.7048 - val_loss: 3.3349 - val_mse: 3.3349\n",
            "Epoch 490/500\n",
            "33/33 [==============================] - 0s 3ms/step - loss: 0.6975 - mse: 0.6975 - val_loss: 3.3353 - val_mse: 3.3353\n",
            "Epoch 491/500\n",
            "33/33 [==============================] - 0s 3ms/step - loss: 0.7137 - mse: 0.7137 - val_loss: 3.3333 - val_mse: 3.3333\n",
            "Epoch 492/500\n",
            "33/33 [==============================] - 0s 3ms/step - loss: 0.7104 - mse: 0.7104 - val_loss: 3.3330 - val_mse: 3.3330\n",
            "Epoch 493/500\n",
            "33/33 [==============================] - 0s 3ms/step - loss: 0.7013 - mse: 0.7013 - val_loss: 3.3317 - val_mse: 3.3317\n",
            "Epoch 494/500\n",
            "33/33 [==============================] - 0s 4ms/step - loss: 0.7107 - mse: 0.7107 - val_loss: 3.3320 - val_mse: 3.3320\n",
            "Epoch 495/500\n",
            "33/33 [==============================] - 0s 3ms/step - loss: 0.7267 - mse: 0.7267 - val_loss: 3.3327 - val_mse: 3.3327\n",
            "Epoch 496/500\n",
            "33/33 [==============================] - 0s 3ms/step - loss: 0.7077 - mse: 0.7077 - val_loss: 3.3298 - val_mse: 3.3298\n",
            "Epoch 497/500\n",
            "33/33 [==============================] - 0s 3ms/step - loss: 0.7160 - mse: 0.7160 - val_loss: 3.3285 - val_mse: 3.3285\n",
            "Epoch 498/500\n",
            "33/33 [==============================] - 0s 4ms/step - loss: 0.6981 - mse: 0.6981 - val_loss: 3.3292 - val_mse: 3.3292\n",
            "Epoch 499/500\n",
            "33/33 [==============================] - 0s 3ms/step - loss: 0.6890 - mse: 0.6890 - val_loss: 3.3290 - val_mse: 3.3290\n",
            "Epoch 500/500\n",
            "33/33 [==============================] - 0s 4ms/step - loss: 0.6991 - mse: 0.6991 - val_loss: 3.3286 - val_mse: 3.3286\n"
          ]
        }
      ]
    },
    {
      "cell_type": "code",
      "metadata": {
        "colab": {
          "base_uri": "https://localhost:8080/",
          "height": 282
        },
        "id": "FsR2_UelFOs0",
        "outputId": "8594a818-fea6-4be4-cc64-55108fef79de"
      },
      "source": [
        "plt.plot(history.history['val_mse'],label='Validation MSE')\n",
        "plt.plot(history.history['mse'],label='Training MSE')\n",
        "plt.legend()"
      ],
      "execution_count": 96,
      "outputs": [
        {
          "output_type": "execute_result",
          "data": {
            "text/plain": [
              "<matplotlib.legend.Legend at 0x7f899ed33b10>"
            ]
          },
          "metadata": {},
          "execution_count": 96
        },
        {
          "output_type": "display_data",
          "data": {
            "image/png": "[encoded data removed]",
            "text/plain": [
              "<Figure size 432x288 with 1 Axes>"
            ]
          },
          "metadata": {
            "needs_background": "light"
          }
        }
      ]
    },
    {
      "cell_type": "code",
      "metadata": {
        "colab": {
          "base_uri": "https://localhost:8080/"
        },
        "id": "_3epx_z9FU31",
        "outputId": "d62b48c8-6437-43ee-ae18-3229ac0efb46"
      },
      "source": [
        "prediction = model.predict(np.hstack((validation_x,validation_x2)))\n",
        "calculate_error_rmse(pd.DataFrame(prediction).mul(scaler_y), validation_volatility)"
      ],
      "execution_count": 99,
      "outputs": [
        {
          "output_type": "execute_result",
          "data": {
            "text/plain": [
              "0.022707300434842134"
            ]
          },
          "metadata": {},
          "execution_count": 99
        }
      ]
    },
    {
      "cell_type": "code",
      "metadata": {
        "id": "P3sRfV8SHJBE"
      },
      "source": [
        ""
      ],
      "execution_count": null,
      "outputs": []
    }
  ]
}