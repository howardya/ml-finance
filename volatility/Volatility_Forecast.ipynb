{
  "nbformat": 4,
  "nbformat_minor": 0,
  "metadata": {
    "colab": {
      "name": "Untitled0.ipynb",
      "provenance": [],
      "authorship_tag": "ABX9TyM1EhykXT+t20kJgd0ycrx9",
      "include_colab_link": true
    },
    "kernelspec": {
      "name": "python3",
      "display_name": "Python 3"
    },
    "language_info": {
      "name": "python"
    }
  },
  "cells": [
    {
      "cell_type": "markdown",
      "metadata": {
        "id": "view-in-github",
        "colab_type": "text"
      },
      "source": [
        "<a href=\"https://colab.research.google.com/github/howardya/ml-finance/blob/main/volatility/Volatility_Forecast.ipynb\" target=\"_parent\"><img src=\"https://colab.research.google.com/assets/colab-badge.svg\" alt=\"Open In Colab\"/></a>"
      ]
    },
    {
      "cell_type": "markdown",
      "metadata": {
        "id": "wQjCO5PHwc9t"
      },
      "source": [
        "# Volatility Forecast"
      ]
    },
    {
      "cell_type": "code",
      "metadata": {
        "id": "DiKGdvWzwZUt"
      },
      "source": [
        "import pandas as pd\n",
        "import pandas_datareader as pdr"
      ],
      "execution_count": 10,
      "outputs": []
    },
    {
      "cell_type": "markdown",
      "metadata": {
        "id": "v6B9qEZSyXvw"
      },
      "source": [
        "Check packages' version"
      ]
    },
    {
      "cell_type": "code",
      "metadata": {
        "colab": {
          "base_uri": "https://localhost:8080/"
        },
        "id": "z7uDz_iJwcKb",
        "outputId": "bab770b0-7440-4c77-99ab-ef736358a3f9"
      },
      "source": [
        "loaded_packages = ['pd', 'pdr']\n",
        "for pkg in loaded_packages:\n",
        "  exec(f'pkg_version = {x}.__version__') # get the package's version to be printed out, stored as pkg_version\n",
        "  print(f'{pkg} version: {pkg_version}')"
      ],
      "execution_count": 11,
      "outputs": [
        {
          "output_type": "stream",
          "name": "stdout",
          "text": [
            "pd version: 0.9.0\n",
            "pdr version: 0.9.0\n"
          ]
        }
      ]
    },
    {
      "cell_type": "code",
      "metadata": {
        "id": "LigV81NNxBC7"
      },
      "source": [
        ""
      ],
      "execution_count": 9,
      "outputs": []
    },
    {
      "cell_type": "code",
      "metadata": {
        "id": "SCvXugRcxpLj"
      },
      "source": [
        ""
      ],
      "execution_count": null,
      "outputs": []
    }
  ]
}